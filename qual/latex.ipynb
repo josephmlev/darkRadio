{
 "cells": [
  {
   "cell_type": "markdown",
   "metadata": {},
   "source": [
    "# dark photon properties\n",
    " $E_{\\text{DM}} = \\epsilon E^{'}_{\\text{DM}}$\n",
    "\n",
    " $\\frac{\\nu}{\\delta \\nu} \\equiv Q = 10^6$\n",
    "\n",
    "\n"
   ]
  },
  {
   "cell_type": "markdown",
   "metadata": {},
   "source": [
    "# dark E field strength\n",
    " $\\rho_{\\text{DM}} = 0.3 \\pm 0.1 \\, \\text{GeV/cc}$ \n",
    " \n",
    " $\\rho_{\\text{DM}} = \\frac{1}{2} \\varepsilon_0 E^{' 2}_{\\text{DM}}$\n",
    "\n",
    " $E_{\\text{DM}} = \\epsilon E^{'}_{\\text{DM}}$\n",
    " \n",
    " $E_{\\text{DM}} = \\epsilon \\, 3 \\, \\text{kV/m}$"
   ]
  },
  {
   "cell_type": "markdown",
   "metadata": {},
   "source": [
    "# flow chart\n",
    "\n",
    "$\\epsilon =  \\frac{ E_{\\text{sig}}}{E'_{\\text{DM}}}$\n",
    "\n",
    "$\\epsilon <  \\frac{ E_{\\text{thr}}}{E'_{\\text{DM}}}$"
   ]
  },
  {
   "cell_type": "markdown",
   "metadata": {},
   "source": [
    "# setting a limit 0\n",
    "$V_{\\text{Ben}} = \\epsilon \\, [3 \\, \\text{kV/m}] * 2m$\n",
    "\n",
    "$V_{\\text{thr}} \\sim \\mathcal{O}(1 \\, \\text{kV})$\n",
    "\n",
    "$ E_{\\text{thr}} = V_{\\text{thr}} / L_{\\text{Ben}}$\n",
    "\n",
    "$E_{\\text{thr}} \\sim  \\mathcal{O}(1 \\, \\text{kV/m})$\n",
    "\n",
    "$\\epsilon < \\mathcal{O}(1)$\n",
    "\n",
    "$\\epsilon < E_{\\text{thr}} / E^{'}_{\\text{DM}}$"
   ]
  },
  {
   "cell_type": "markdown",
   "metadata": {},
   "source": [
    "# Setting a limit take 1, Spec analyzer\n",
    "\n",
    "$P_{\\text{dBm}} = 10 \\, \\text{log}(P_{\\text{mW}}) $\n",
    "\n",
    "$ P = \\frac{|V|^2}{|Z|} → |V| = \\sqrt{P \\, |Z|}$\n",
    "\n",
    "$|Z| = 50 \\Omega$\n",
    "\n",
    "$|mV| = \\sqrt{10^{P_{\\text{dBm}}/10}  \\, 50  \\Omega}$\n",
    "\n"
   ]
  },
  {
   "cell_type": "markdown",
   "metadata": {},
   "source": [
    "# Setting a limit take 1, limit\n",
    "unused###\n",
    "\n",
    "$-75\\text{dBm} = 30 \\, \\text{pW}$\n",
    "\n",
    "$ V_{\\text{thr}} = 12 \\, \\mu \\text{V}$\n",
    "\n",
    "$ E_{\\text{thr}} = 87  \\, \\mu \\text{V/m}$\n",
    "\n",
    "$P_{\\text{meas}} = P_{\\text{sig}} + P_{\\text{bg}}$\n",
    "\n",
    "unused###\n",
    "\n",
    "\n",
    "$E_{\\text{thr}} = \\text{AF} * V_{\\text{thr}}$\n",
    "\n",
    "$ E_{\\text{thr}} = \\text{AF} \\sqrt{P_{\\text{thr}} \\, 50\\Omega} $\n",
    "\n",
    "$\\epsilon < 2.7 *10^{-8} $\n",
    "\n",
    "$P_{\\text{thr}} = 30 \\, \\text{pW} $"
   ]
  },
  {
   "cell_type": "markdown",
   "metadata": {},
   "source": [
    "# Gain Effect on Noise, setting a limit take 3\n",
    "\n",
    " $P_\\text{in} =  P_\\text{DM} + P_\\text{bg}$\n",
    "\n",
    " $P_\\text{meas} = P_\\text{DM} + P_\\text{bg} + P_\\text{inst}$\n",
    "\n",
    "  $P_\\text{meas, with gain} = G(P_\\text{DM} + P_\\text{bg}) + P_\\text{inst}$\n",
    "\n",
    "\n",
    " $P_\\text{meas, gain corrected} = P_\\text{DM} + P_\\text{th} + \\frac{P_\\text{inst}}{G}$"
   ]
  },
  {
   "cell_type": "markdown",
   "metadata": {},
   "source": []
  }
 ],
 "metadata": {
  "kernelspec": {
   "display_name": "Python 3.10.4 64-bit",
   "language": "python",
   "name": "python3"
  },
  "language_info": {
   "codemirror_mode": {
    "name": "ipython",
    "version": 3
   },
   "file_extension": ".py",
   "mimetype": "text/x-python",
   "name": "python",
   "nbconvert_exporter": "python",
   "pygments_lexer": "ipython3",
   "version": "3.10.4"
  },
  "orig_nbformat": 4,
  "vscode": {
   "interpreter": {
    "hash": "916dbcbb3f70747c44a77c7bcd40155683ae19c65e1c03b4aa3499c5328201f1"
   }
  }
 },
 "nbformat": 4,
 "nbformat_minor": 2
}
