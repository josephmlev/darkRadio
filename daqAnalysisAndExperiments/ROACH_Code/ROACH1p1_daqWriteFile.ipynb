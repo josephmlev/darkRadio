{
 "cells": [
  {
   "cell_type": "code",
   "execution_count": 315,
   "metadata": {},
   "outputs": [],
   "source": [
    "import h5py\n",
    "import os\n",
    "from stat import S_IREAD, S_IRGRP, S_IROTH, S_IWUSR\n",
    "\n",
    "def writeH5(specDict,\n",
    "            runInfoDict,\n",
    "            acqNum,\n",
    "            numSpecPerFile,\n",
    "            dataDir):\n",
    "    '''\n",
    "    Given a spectrum and some info, packs an H5 file every numSpecPerFile\n",
    "    spectra.\n",
    "    \n",
    "    Inputs:\n",
    "    specDict         : dictionary of np arrays\n",
    "        Dict containing arrays of spectra\n",
    "    runInfoDict      : dictionary\n",
    "        Tuple containing some length 2 tuples of form:\n",
    "        (attribute name(str), attribute value(varies)) \n",
    "    acqNum          : int\n",
    "        Number of acqusition since start of run\n",
    "    numSpecPerFile  : int\n",
    "        How many spectra to write per file. Should be set\n",
    "        to keep files around 1GB\n",
    "    dataDir         : str \n",
    "    '''\n",
    "\n",
    "    #number games to figure out what file to write\n",
    "    mod         = acqNum%numSpecPerFile\n",
    "    fileNum     = int((acqNum-mod)/numSpecPerFile)\n",
    "    \n",
    "\n",
    "    #create file object. Creates h5 file if needed, else appends to existing file ('a' flag) \n",
    "    fileName    = dataDir+'data/'+str(fileNum)+'.hdf5'\n",
    "    f       = h5py.File(fileName, 'a') \n",
    "    #create new group object for each acqusition\n",
    "    acqGrp  = f.create_group(str(acqNum))\n",
    "\n",
    "    #pack spectra as dataseta\n",
    "    for specName in specDict:\n",
    "        acqGrp.create_dataset(specName, data=specDict[specName], dtype = 'f')\n",
    "    \n",
    "    #pack run into as attributes\n",
    "    for infoName in runInfoDict:\n",
    "        acqGrp.attrs[infoName] = runInfoDict[infoName]\n",
    "    acqGrp.attrs['File Number'] = fileNum\n",
    "    \n",
    "    #if on a new file, make previous file read only. Note last file wont be read only\n",
    "    if mod == 0 and fileNum != 0:\n",
    "        os.chmod(dataDir+'data/'+str(fileNum-1)+'.hdf5', S_IREAD|S_IRGRP|S_IROTH)\n",
    "\n",
    "\n",
    "    "
   ]
  },
  {
   "cell_type": "code",
   "execution_count": 319,
   "metadata": {},
   "outputs": [
    {
     "name": "stdout",
     "output_type": "stream",
     "text": [
      "0:00:00.601160\n"
     ]
    }
   ],
   "source": [
    "import numpy as np\n",
    "import datetime\n",
    "\n",
    "ti = datetime.datetime.now()\n",
    "################################\n",
    "#dummy daq code\n",
    "################################\n",
    "westList        = [1,2,3]\n",
    "southList       = [4,5,6]\n",
    "vertList        = [7,8,9] \n",
    "numSpec         = 10 #Num spec to collect at a given position \n",
    "\n",
    "acqNum          = 0 #init counter\n",
    "for antWest in westList:\n",
    "    for antSouth in southList:\n",
    "        for antVert in vertList:\n",
    "            for acquireData in range(numSpec):\n",
    "                antPhi      = np.random.uniform(0,90)\n",
    "                antTheta    = np.random.uniform(0,90)\n",
    "                temp        = np.random.normal(300,1)\n",
    "                date_time   = str(datetime.datetime.now())\n",
    "\n",
    "                antSpec     = np.random.random(2**16)\n",
    "                termSpec    = np.random.random(2**16)\n",
    "                vetoSpec    = np.random.random(2**12)\n",
    "\n",
    "                #################################\n",
    "                #Code/parameters needed DAQ code\n",
    "                #note that adding spectra or attributes won't break writeH5\n",
    "                #################################\n",
    "                runInfoDict     = {'Acquisition Number' : acquisition,\n",
    "                                    'Datetime'          : date_time,\n",
    "                                    'Temperture'        : temp,\n",
    "                                    'West'              : antWest,\n",
    "                                    'South'             : antSouth,\n",
    "                                    'Vertical'          : antVert,\n",
    "                                    'Phi'               : antPhi,\n",
    "                                    'Theta'             : antTheta}\n",
    "\n",
    "                #include units in dict key\n",
    "                specDict        = {'antSpec_FFT'        : antSpec,\n",
    "                                    'termSpec_FFT'      : termSpec,\n",
    "                                    'vetoSpec_dBm'      : vetoSpec}\n",
    "\n",
    "                numSpecPerFile  = 16\n",
    "                dataDir         = './h5Testing_gitignore/'\n",
    "\n",
    "                writeH5(specDict, runInfoDict, acqNum, numSpecPerFile, dataDir)\n",
    "                #################################\n",
    "                acqNum          +=1\n",
    "\n",
    "print(datetime.datetime.now() -ti)\n",
    "        "
   ]
  },
  {
   "cell_type": "code",
   "execution_count": 284,
   "metadata": {},
   "outputs": [
    {
     "name": "stdout",
     "output_type": "stream",
     "text": [
      "<KeysViewHDF5 ['0', '1', '10', '11', '12', '13', '14', '15', '2', '3', '4', '5', '6', '7', '8', '9']>\n",
      "<KeysViewHDF5 ['Acquisition Number', 'Datetime', 'File Number', 'Phi', 'South', 'Temperture', 'Theta', 'Vertical', 'West']>\n",
      "300.54080373565955\n",
      "[0.7144092  0.6698479  0.76506346 0.7596501  0.4745592 ]\n",
      "<class 'numpy.float32'>\n"
     ]
    }
   ],
   "source": [
    "#example of how to look around\n",
    "\n",
    "#open file. creates file object\n",
    "f = h5py.File('./h5Testing_gitignore/data/0.hdf5')\n",
    "\n",
    "#list keys of file. In this case it's the groups which contain acqNums \n",
    "print(f.keys())\n",
    "\n",
    "#list attributes\n",
    "print(f['0'].attrs.keys())\n",
    "\n",
    "#print random stuff\n",
    "print(f['1'].attrs['Temperture'])\n",
    "print(f['1']['antSpec_FFT'][0:5]) #it's a pointer unless you include some slice. [:] works\n",
    "print(type(f['1']['antSpec_FFT'][1]))"
   ]
  },
  {
   "cell_type": "code",
   "execution_count": 318,
   "metadata": {},
   "outputs": [
    {
     "name": "stdout",
     "output_type": "stream",
     "text": [
      "are you sure you want to remove 1 files in ./h5Testing_gitignore/data/ ? (y/n)\n",
      "all files removed\n"
     ]
    }
   ],
   "source": [
    "#remove all h5 files in directory\n",
    "\n",
    "path = './h5Testing_gitignore/data/'\n",
    "files = os.listdir(path)\n",
    "print('are you sure you want to remove', len(files),'files in', path, '? (y/n)')\n",
    "sure = input('are you sure? (y/n)')\n",
    "\n",
    "#if 1 you won't get a warning that you are about to delete everything!!!!\n",
    "disable = 0\n",
    "\n",
    "if sure == 'y' or disable == 1:\n",
    "\n",
    "    for dataFile in files:\n",
    "        os.chmod(path+dataFile, S_IWUSR|S_IRGRP|S_IROTH)\n",
    "        os.remove(path+dataFile)\n",
    "    print('all files removed')\n",
    "else:\n",
    "    print('no files removed')\n"
   ]
  },
  {
   "cell_type": "code",
   "execution_count": 317,
   "metadata": {},
   "outputs": [
    {
     "name": "stdout",
     "output_type": "stream",
     "text": [
      "0:00:00.057028\n"
     ]
    }
   ],
   "source": [
    "#time writing\n",
    "\n",
    "antSpec     = np.random.random(2**23)\n",
    "termSpec    = np.random.random(2**23)\n",
    "vetoSpec    = np.random.random(2**14)\n",
    "\n",
    "runInfoDict     = {}\n",
    "\n",
    "#include units in dict key\n",
    "specDict        = {'antSpec_FFT'        : antSpec,\n",
    "                'termSpec_FFT'      : termSpec,\n",
    "                'vetoSpec_dBm'      : vetoSpec}\n",
    "\n",
    "numSpecPerFile  = 16\n",
    "dataDir         = './h5Testing_gitignore/'\n",
    "\n",
    "ti = datetime.datetime.now()\n",
    "writeH5(specDict, runInfoDict, acqNum, numSpecPerFile, dataDir)\n",
    "print(datetime.datetime.now() - ti)"
   ]
  },
  {
   "cell_type": "code",
   "execution_count": null,
   "metadata": {},
   "outputs": [],
   "source": []
  }
 ],
 "metadata": {
  "kernelspec": {
   "display_name": "Python 3 (ipykernel)",
   "language": "python",
   "name": "python3"
  },
  "language_info": {
   "codemirror_mode": {
    "name": "ipython",
    "version": 3
   },
   "file_extension": ".py",
   "mimetype": "text/x-python",
   "name": "python",
   "nbconvert_exporter": "python",
   "pygments_lexer": "ipython3",
   "version": "3.9.5"
  },
  "orig_nbformat": 4
 },
 "nbformat": 4,
 "nbformat_minor": 2
}
