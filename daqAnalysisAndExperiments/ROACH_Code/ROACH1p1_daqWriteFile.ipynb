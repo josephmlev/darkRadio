{
 "cells": [
  {
   "cell_type": "code",
   "execution_count": 1,
   "metadata": {},
   "outputs": [],
   "source": [
    "import h5py\n",
    "import os\n",
    "from stat import S_IREAD, S_IRGRP, S_IROTH, S_IWUSR\n",
    "import time\n",
    "\n",
    "def writeH5(specDict,\n",
    "            runInfoDict,\n",
    "            acqNum,\n",
    "            numSpecPerFile,\n",
    "            dataDir):\n",
    "    '''\n",
    "    Given a spectrum and some info, packs an H5 file every numSpecPerFile\n",
    "    spectra.\n",
    "    \n",
    "    Inputs:\n",
    "    specDict         : dictionary of np arrays\n",
    "        Dict containing arrays of spectra\n",
    "    runInfoDict      : dictionary\n",
    "        Dict containing info about the run\n",
    "    acqNum          : int\n",
    "        Number of acqusition since start of run\n",
    "    numSpecPerFile  : int\n",
    "        How many spectra to write per file. Should be set\n",
    "        to keep files around 1GB (about 16 for two 2^24 FFTs)\n",
    "    dataDir         : str\n",
    "        directory to save data. Note this needs to be created ahead of time\n",
    "        and there should be a subdirectory called data. \n",
    "    '''\n",
    "\n",
    "    #number games to figure out what file to write\n",
    "    mod         = acqNum%numSpecPerFile\n",
    "    fileNum     = int((acqNum-mod)/numSpecPerFile)\n",
    "    \n",
    "\n",
    "    #create file object. Creates h5 file if needed, else appends to existing file ('a' flag) \n",
    "    fileName    = dataDir+'data/'+str(fileNum)+'.hdf5'\n",
    "    f       = h5py.File(fileName, 'w') \n",
    "    #create new group object for each acqusition\n",
    "    acqGrp  = f.create_group(str(acqNum))\n",
    "\n",
    "    #pack spectra as dataseta\n",
    "    for specName in specDict:\n",
    "        acqGrp.create_dataset(specName, data=specDict[specName], dtype = 'f')\n",
    "    \n",
    "    #pack run into as attributes\n",
    "    for infoName in runInfoDict:\n",
    "        acqGrp.attrs[infoName] = runInfoDict[infoName]\n",
    "    acqGrp.attrs['File Number'] = fileNum\n",
    "    \n",
    "    #if on a new file, make previous file read only. Note last file wont be read only\n",
    "    if mod == 0 and fileNum != 0:\n",
    "        os.chmod(dataDir+'data/'+str(fileNum-1)+'.hdf5', S_IREAD|S_IRGRP|S_IROTH)\n",
    "\n",
    "    #write to text file\n",
    "    if not os.path.exists(dataDir+'database.txt'):\n",
    "        infoStr = ''\n",
    "        for infoKey in runInfoDict:\n",
    "            infoStr += infoKey + ','\n",
    "        infoStr += 'File Number\\n' \n",
    "\n",
    "        file = open(dataDir + 'database.txt', 'w')\n",
    "        file.writelines(infoStr)\n",
    "        file.close()\n",
    "\n",
    "    lineToWrite = ''\n",
    "    for infoKey in runInfoDict:\n",
    "        infoData = str(runInfoDict[infoKey])\n",
    "        lineToWrite += infoData + ', '\n",
    "    lineToWrite += str(fileNum) +'\\n'\n",
    "\n",
    "    file = open(dataDir + 'database.txt', 'a')\n",
    "    file.writelines(lineToWrite)\n",
    "    file.close()\n",
    "\n",
    "\n",
    "    "
   ]
  },
  {
   "cell_type": "code",
   "execution_count": 2,
   "metadata": {},
   "outputs": [
    {
     "ename": "PermissionError",
     "evalue": "[Errno 13] Unable to open file (unable to open file: name = './h5Testing_gitignore/data/0.hdf5', errno = 13, error message = 'Permission denied', flags = 1, o_flags = 2)",
     "output_type": "error",
     "traceback": [
      "\u001b[0;31m---------------------------------------------------------------------------\u001b[0m",
      "\u001b[0;31mPermissionError\u001b[0m                           Traceback (most recent call last)",
      "\u001b[1;32m/drBigBoy/darkRadio/daqAnalysisAndExperiments/ROACH_Code/ROACH1p1_daqWriteFile.ipynb Cell 2\u001b[0m in \u001b[0;36m<cell line: 14>\u001b[0;34m()\u001b[0m\n\u001b[1;32m     <a href='vscode-notebook-cell:/drBigBoy/darkRadio/daqAnalysisAndExperiments/ROACH_Code/ROACH1p1_daqWriteFile.ipynb#W1sZmlsZQ%3D%3D?line=44'>45</a>\u001b[0m numSpecPerFile  \u001b[39m=\u001b[39m \u001b[39m16\u001b[39m\n\u001b[1;32m     <a href='vscode-notebook-cell:/drBigBoy/darkRadio/daqAnalysisAndExperiments/ROACH_Code/ROACH1p1_daqWriteFile.ipynb#W1sZmlsZQ%3D%3D?line=45'>46</a>\u001b[0m dataDir         \u001b[39m=\u001b[39m \u001b[39m'\u001b[39m\u001b[39m./h5Testing_gitignore/\u001b[39m\u001b[39m'\u001b[39m\n\u001b[0;32m---> <a href='vscode-notebook-cell:/drBigBoy/darkRadio/daqAnalysisAndExperiments/ROACH_Code/ROACH1p1_daqWriteFile.ipynb#W1sZmlsZQ%3D%3D?line=47'>48</a>\u001b[0m writeH5(specDict, runInfoDict, acqNum, numSpecPerFile, dataDir)\n\u001b[1;32m     <a href='vscode-notebook-cell:/drBigBoy/darkRadio/daqAnalysisAndExperiments/ROACH_Code/ROACH1p1_daqWriteFile.ipynb#W1sZmlsZQ%3D%3D?line=48'>49</a>\u001b[0m \u001b[39m#################################\u001b[39;00m\n\u001b[1;32m     <a href='vscode-notebook-cell:/drBigBoy/darkRadio/daqAnalysisAndExperiments/ROACH_Code/ROACH1p1_daqWriteFile.ipynb#W1sZmlsZQ%3D%3D?line=49'>50</a>\u001b[0m acqNum          \u001b[39m+\u001b[39m\u001b[39m=\u001b[39m\u001b[39m1\u001b[39m\n",
      "\u001b[1;32m/drBigBoy/darkRadio/daqAnalysisAndExperiments/ROACH_Code/ROACH1p1_daqWriteFile.ipynb Cell 2\u001b[0m in \u001b[0;36mwriteH5\u001b[0;34m(specDict, runInfoDict, acqNum, numSpecPerFile, dataDir)\u001b[0m\n\u001b[1;32m     <a href='vscode-notebook-cell:/drBigBoy/darkRadio/daqAnalysisAndExperiments/ROACH_Code/ROACH1p1_daqWriteFile.ipynb#W1sZmlsZQ%3D%3D?line=34'>35</a>\u001b[0m \u001b[39m#create file object. Creates h5 file if needed, else appends to existing file ('a' flag) \u001b[39;00m\n\u001b[1;32m     <a href='vscode-notebook-cell:/drBigBoy/darkRadio/daqAnalysisAndExperiments/ROACH_Code/ROACH1p1_daqWriteFile.ipynb#W1sZmlsZQ%3D%3D?line=35'>36</a>\u001b[0m fileName    \u001b[39m=\u001b[39m dataDir\u001b[39m+\u001b[39m\u001b[39m'\u001b[39m\u001b[39mdata/\u001b[39m\u001b[39m'\u001b[39m\u001b[39m+\u001b[39m\u001b[39mstr\u001b[39m(fileNum)\u001b[39m+\u001b[39m\u001b[39m'\u001b[39m\u001b[39m.hdf5\u001b[39m\u001b[39m'\u001b[39m\n\u001b[0;32m---> <a href='vscode-notebook-cell:/drBigBoy/darkRadio/daqAnalysisAndExperiments/ROACH_Code/ROACH1p1_daqWriteFile.ipynb#W1sZmlsZQ%3D%3D?line=36'>37</a>\u001b[0m f       \u001b[39m=\u001b[39m h5py\u001b[39m.\u001b[39;49mFile(fileName, \u001b[39m'\u001b[39;49m\u001b[39ma\u001b[39;49m\u001b[39m'\u001b[39;49m) \n\u001b[1;32m     <a href='vscode-notebook-cell:/drBigBoy/darkRadio/daqAnalysisAndExperiments/ROACH_Code/ROACH1p1_daqWriteFile.ipynb#W1sZmlsZQ%3D%3D?line=37'>38</a>\u001b[0m \u001b[39m#create new group object for each acqusition\u001b[39;00m\n\u001b[1;32m     <a href='vscode-notebook-cell:/drBigBoy/darkRadio/daqAnalysisAndExperiments/ROACH_Code/ROACH1p1_daqWriteFile.ipynb#W1sZmlsZQ%3D%3D?line=38'>39</a>\u001b[0m acqGrp  \u001b[39m=\u001b[39m f\u001b[39m.\u001b[39mcreate_group(\u001b[39mstr\u001b[39m(acqNum))\n",
      "File \u001b[0;32m~/miniconda3/lib/python3.9/site-packages/h5py/_hl/files.py:533\u001b[0m, in \u001b[0;36mFile.__init__\u001b[0;34m(self, name, mode, driver, libver, userblock_size, swmr, rdcc_nslots, rdcc_nbytes, rdcc_w0, track_order, fs_strategy, fs_persist, fs_threshold, fs_page_size, page_buf_size, min_meta_keep, min_raw_keep, locking, alignment_threshold, alignment_interval, **kwds)\u001b[0m\n\u001b[1;32m    525\u001b[0m     fapl \u001b[39m=\u001b[39m make_fapl(driver, libver, rdcc_nslots, rdcc_nbytes, rdcc_w0,\n\u001b[1;32m    526\u001b[0m                      locking, page_buf_size, min_meta_keep, min_raw_keep,\n\u001b[1;32m    527\u001b[0m                      alignment_threshold\u001b[39m=\u001b[39malignment_threshold,\n\u001b[1;32m    528\u001b[0m                      alignment_interval\u001b[39m=\u001b[39malignment_interval,\n\u001b[1;32m    529\u001b[0m                      \u001b[39m*\u001b[39m\u001b[39m*\u001b[39mkwds)\n\u001b[1;32m    530\u001b[0m     fcpl \u001b[39m=\u001b[39m make_fcpl(track_order\u001b[39m=\u001b[39mtrack_order, fs_strategy\u001b[39m=\u001b[39mfs_strategy,\n\u001b[1;32m    531\u001b[0m                      fs_persist\u001b[39m=\u001b[39mfs_persist, fs_threshold\u001b[39m=\u001b[39mfs_threshold,\n\u001b[1;32m    532\u001b[0m                      fs_page_size\u001b[39m=\u001b[39mfs_page_size)\n\u001b[0;32m--> 533\u001b[0m     fid \u001b[39m=\u001b[39m make_fid(name, mode, userblock_size, fapl, fcpl, swmr\u001b[39m=\u001b[39;49mswmr)\n\u001b[1;32m    535\u001b[0m \u001b[39mif\u001b[39;00m \u001b[39misinstance\u001b[39m(libver, \u001b[39mtuple\u001b[39m):\n\u001b[1;32m    536\u001b[0m     \u001b[39mself\u001b[39m\u001b[39m.\u001b[39m_libver \u001b[39m=\u001b[39m libver\n",
      "File \u001b[0;32m~/miniconda3/lib/python3.9/site-packages/h5py/_hl/files.py:238\u001b[0m, in \u001b[0;36mmake_fid\u001b[0;34m(name, mode, userblock_size, fapl, fcpl, swmr)\u001b[0m\n\u001b[1;32m    233\u001b[0m \u001b[39melif\u001b[39;00m mode \u001b[39m==\u001b[39m \u001b[39m'\u001b[39m\u001b[39ma\u001b[39m\u001b[39m'\u001b[39m:\n\u001b[1;32m    234\u001b[0m     \u001b[39m# Open in append mode (read/write).\u001b[39;00m\n\u001b[1;32m    235\u001b[0m     \u001b[39m# If that fails, create a new file only if it won't clobber an\u001b[39;00m\n\u001b[1;32m    236\u001b[0m     \u001b[39m# existing one (ACC_EXCL)\u001b[39;00m\n\u001b[1;32m    237\u001b[0m     \u001b[39mtry\u001b[39;00m:\n\u001b[0;32m--> 238\u001b[0m         fid \u001b[39m=\u001b[39m h5f\u001b[39m.\u001b[39;49mopen(name, h5f\u001b[39m.\u001b[39;49mACC_RDWR, fapl\u001b[39m=\u001b[39;49mfapl)\n\u001b[1;32m    239\u001b[0m     \u001b[39m# Not all drivers raise FileNotFoundError (commented those that do not)\u001b[39;00m\n\u001b[1;32m    240\u001b[0m     \u001b[39mexcept\u001b[39;00m \u001b[39mFileNotFoundError\u001b[39;00m \u001b[39mif\u001b[39;00m fapl\u001b[39m.\u001b[39mget_driver() \u001b[39min\u001b[39;00m (\n\u001b[1;32m    241\u001b[0m         h5fd\u001b[39m.\u001b[39mSEC2,\n\u001b[1;32m    242\u001b[0m         h5fd\u001b[39m.\u001b[39mDIRECT \u001b[39mif\u001b[39;00m direct_vfd \u001b[39melse\u001b[39;00m \u001b[39m-\u001b[39m\u001b[39m1\u001b[39m,\n\u001b[0;32m   (...)\u001b[0m\n\u001b[1;32m    250\u001b[0m         h5fd\u001b[39m.\u001b[39mROS3D \u001b[39mif\u001b[39;00m ros3 \u001b[39melse\u001b[39;00m \u001b[39m-\u001b[39m\u001b[39m1\u001b[39m,\n\u001b[1;32m    251\u001b[0m     ) \u001b[39melse\u001b[39;00m \u001b[39mOSError\u001b[39;00m:\n",
      "File \u001b[0;32mh5py/_objects.pyx:54\u001b[0m, in \u001b[0;36mh5py._objects.with_phil.wrapper\u001b[0;34m()\u001b[0m\n",
      "File \u001b[0;32mh5py/_objects.pyx:55\u001b[0m, in \u001b[0;36mh5py._objects.with_phil.wrapper\u001b[0;34m()\u001b[0m\n",
      "File \u001b[0;32mh5py/h5f.pyx:106\u001b[0m, in \u001b[0;36mh5py.h5f.open\u001b[0;34m()\u001b[0m\n",
      "\u001b[0;31mPermissionError\u001b[0m: [Errno 13] Unable to open file (unable to open file: name = './h5Testing_gitignore/data/0.hdf5', errno = 13, error message = 'Permission denied', flags = 1, o_flags = 2)"
     ]
    }
   ],
   "source": [
    "import numpy as np\n",
    "import datetime\n",
    "\n",
    "ti = datetime.datetime.now()\n",
    "################################\n",
    "#dummy daq code\n",
    "################################\n",
    "westList        = [1, 2, 3]\n",
    "southList       = [4, 5, 6]\n",
    "vertList        = [7, 8, 9] \n",
    "numSpec         = 5 #Num spec to collect at a given position \n",
    "\n",
    "acqNum          = 0 #init counter\n",
    "for antWest in westList:\n",
    "    for antSouth in southList:\n",
    "        for antVert in vertList:\n",
    "            for acquireData in range(numSpec):\n",
    "                antPhi      = np.random.uniform(0,90)\n",
    "                antTheta    = np.random.uniform(0,90)\n",
    "                temp        = np.random.normal(300,1)\n",
    "                date_time   = str(datetime.datetime.now())\n",
    "\n",
    "                antSpec     = np.random.random(2**16)\n",
    "                termSpec    = np.random.random(2**16)\n",
    "                vetoSpec    = np.random.random(2**12)\n",
    "\n",
    "                #################################\n",
    "                #Code/parameters needed DAQ code\n",
    "                #note that adding spectra or attributes won't break writeH5\n",
    "                #################################\n",
    "                runInfoDict     = {'Acquisition Number' : acqNum, #number of spectra since start of run\n",
    "                                    'Datetime'          : date_time, \n",
    "                                    'Temperture'        : temp,\n",
    "                                    'West'              : antWest,\n",
    "                                    'South'             : antSouth,\n",
    "                                    'Vertical'          : antVert,\n",
    "                                    'Phi'               : antPhi,\n",
    "                                    'Theta'             : antTheta}\n",
    "\n",
    "                #include units in dict key\n",
    "                specDict        = {'antSpec_FFT'        : antSpec,\n",
    "                                    'termSpec_FFT'      : termSpec,\n",
    "                                    'vetoSpec_dBm'      : vetoSpec}\n",
    "\n",
    "                numSpecPerFile  = 16\n",
    "                dataDir         = './h5Testing_gitignore/'\n",
    "\n",
    "                writeH5(specDict, runInfoDict, acqNum, numSpecPerFile, dataDir)\n",
    "                #################################\n",
    "                acqNum          +=1\n",
    "                print('did one')\n",
    "\n",
    "print(datetime.datetime.now() -ti)\n",
    "        "
   ]
  },
  {
   "cell_type": "code",
   "execution_count": 32,
   "metadata": {},
   "outputs": [
    {
     "name": "stdout",
     "output_type": "stream",
     "text": [
      "are you sure you want to remove 4 files in ./h5Testing_gitignore/data/ ? (y/n)\n",
      "all files removed\n"
     ]
    }
   ],
   "source": [
    "#remove all h5 files in directory\n",
    "\n",
    "path = '/drBiggerBoy/testing/data'\n",
    "files = os.listdir(path)\n",
    "print('are you sure you want to remove', len(files),'files in', path, '? (y/n)')\n",
    "sure = input('are you sure? (y/n)')\n",
    "\n",
    "#if 1 you won't get a warning that you are about to delete everything!!!!\n",
    "disable = 0\n",
    "\n",
    "if sure == 'y' or disable == 1:\n",
    "\n",
    "    for dataFile in files:\n",
    "        os.chmod(path+dataFile, S_IWUSR|S_IRGRP|S_IROTH)\n",
    "        os.remove(path+dataFile)\n",
    "    os.remove('./h5Testing_gitignore/database.txt')\n",
    "    print('all files removed')\n",
    "else:\n",
    "    print('no files removed')\n"
   ]
  },
  {
   "cell_type": "code",
   "execution_count": 284,
   "metadata": {},
   "outputs": [
    {
     "name": "stdout",
     "output_type": "stream",
     "text": [
      "<KeysViewHDF5 ['0', '1', '10', '11', '12', '13', '14', '15', '2', '3', '4', '5', '6', '7', '8', '9']>\n",
      "<KeysViewHDF5 ['Acquisition Number', 'Datetime', 'File Number', 'Phi', 'South', 'Temperture', 'Theta', 'Vertical', 'West']>\n",
      "300.54080373565955\n",
      "[0.7144092  0.6698479  0.76506346 0.7596501  0.4745592 ]\n",
      "<class 'numpy.float32'>\n"
     ]
    }
   ],
   "source": [
    "#example of how to look around\n",
    "\n",
    "#open file. creates file object\n",
    "f = h5py.File('./h5Testing_gitignore/data/0.hdf5')\n",
    "\n",
    "#list keys of file. In this case it's the groups which contain acqNums \n",
    "print(f.keys())\n",
    "\n",
    "#list attributes\n",
    "print(f['0'].attrs.keys())\n",
    "\n",
    "#print random stuff\n",
    "print(f['1'].attrs['Temperture'])\n",
    "print(f['1']['antSpec_FFT'][0:5]) #it's a pointer unless you include some slice. [:] works\n",
    "print(type(f['1']['antSpec_FFT'][1]))"
   ]
  },
  {
   "cell_type": "code",
   "execution_count": 324,
   "metadata": {},
   "outputs": [
    {
     "ename": "ValueError",
     "evalue": "Unable to create group (name already exists)",
     "output_type": "error",
     "traceback": [
      "\u001b[0;31m---------------------------------------------------------------------------\u001b[0m",
      "\u001b[0;31mValueError\u001b[0m                                Traceback (most recent call last)",
      "\u001b[1;32m/drBigBoy/darkRadio/daqAnalysisAndExperiments/ROACH_Code/ROACH1p1_daqWriteFile.ipynb Cell 5'\u001b[0m in \u001b[0;36m<cell line: 18>\u001b[0;34m()\u001b[0m\n\u001b[1;32m     <a href='vscode-notebook-cell://ssh-remote%2Bdr2/drBigBoy/darkRadio/daqAnalysisAndExperiments/ROACH_Code/ROACH1p1_daqWriteFile.ipynb#ch0000008vscode-remote?line=14'>15</a>\u001b[0m dataDir         \u001b[39m=\u001b[39m \u001b[39m'\u001b[39m\u001b[39m./h5Testing_gitignore/\u001b[39m\u001b[39m'\u001b[39m\n\u001b[1;32m     <a href='vscode-notebook-cell://ssh-remote%2Bdr2/drBigBoy/darkRadio/daqAnalysisAndExperiments/ROACH_Code/ROACH1p1_daqWriteFile.ipynb#ch0000008vscode-remote?line=16'>17</a>\u001b[0m ti \u001b[39m=\u001b[39m datetime\u001b[39m.\u001b[39mdatetime\u001b[39m.\u001b[39mnow()\n\u001b[0;32m---> <a href='vscode-notebook-cell://ssh-remote%2Bdr2/drBigBoy/darkRadio/daqAnalysisAndExperiments/ROACH_Code/ROACH1p1_daqWriteFile.ipynb#ch0000008vscode-remote?line=17'>18</a>\u001b[0m writeH5(specDict, runInfoDict, acqNum, numSpecPerFile, dataDir)\n\u001b[1;32m     <a href='vscode-notebook-cell://ssh-remote%2Bdr2/drBigBoy/darkRadio/daqAnalysisAndExperiments/ROACH_Code/ROACH1p1_daqWriteFile.ipynb#ch0000008vscode-remote?line=18'>19</a>\u001b[0m \u001b[39mprint\u001b[39m(datetime\u001b[39m.\u001b[39mdatetime\u001b[39m.\u001b[39mnow() \u001b[39m-\u001b[39m ti)\n",
      "\u001b[1;32m/drBigBoy/darkRadio/daqAnalysisAndExperiments/ROACH_Code/ROACH1p1_daqWriteFile.ipynb Cell 1'\u001b[0m in \u001b[0;36mwriteH5\u001b[0;34m(specDict, runInfoDict, acqNum, numSpecPerFile, dataDir)\u001b[0m\n\u001b[1;32m     <a href='vscode-notebook-cell://ssh-remote%2Bdr2/drBigBoy/darkRadio/daqAnalysisAndExperiments/ROACH_Code/ROACH1p1_daqWriteFile.ipynb#ch0000000vscode-remote?line=34'>35</a>\u001b[0m f       \u001b[39m=\u001b[39m h5py\u001b[39m.\u001b[39mFile(fileName, \u001b[39m'\u001b[39m\u001b[39ma\u001b[39m\u001b[39m'\u001b[39m) \n\u001b[1;32m     <a href='vscode-notebook-cell://ssh-remote%2Bdr2/drBigBoy/darkRadio/daqAnalysisAndExperiments/ROACH_Code/ROACH1p1_daqWriteFile.ipynb#ch0000000vscode-remote?line=35'>36</a>\u001b[0m \u001b[39m#create new group object for each acqusition\u001b[39;00m\n\u001b[0;32m---> <a href='vscode-notebook-cell://ssh-remote%2Bdr2/drBigBoy/darkRadio/daqAnalysisAndExperiments/ROACH_Code/ROACH1p1_daqWriteFile.ipynb#ch0000000vscode-remote?line=36'>37</a>\u001b[0m acqGrp  \u001b[39m=\u001b[39m f\u001b[39m.\u001b[39;49mcreate_group(\u001b[39mstr\u001b[39;49m(acqNum))\n\u001b[1;32m     <a href='vscode-notebook-cell://ssh-remote%2Bdr2/drBigBoy/darkRadio/daqAnalysisAndExperiments/ROACH_Code/ROACH1p1_daqWriteFile.ipynb#ch0000000vscode-remote?line=38'>39</a>\u001b[0m \u001b[39m#pack spectra as dataseta\u001b[39;00m\n\u001b[1;32m     <a href='vscode-notebook-cell://ssh-remote%2Bdr2/drBigBoy/darkRadio/daqAnalysisAndExperiments/ROACH_Code/ROACH1p1_daqWriteFile.ipynb#ch0000000vscode-remote?line=39'>40</a>\u001b[0m \u001b[39mfor\u001b[39;00m specName \u001b[39min\u001b[39;00m specDict:\n",
      "File \u001b[0;32m~/miniconda3/lib/python3.9/site-packages/h5py/_hl/group.py:66\u001b[0m, in \u001b[0;36mGroup.create_group\u001b[0;34m(self, name, track_order)\u001b[0m\n\u001b[1;32m     <a href='file:///home/dradmin/miniconda3/lib/python3.9/site-packages/h5py/_hl/group.py?line=63'>64</a>\u001b[0m name, lcpl \u001b[39m=\u001b[39m \u001b[39mself\u001b[39m\u001b[39m.\u001b[39m_e(name, lcpl\u001b[39m=\u001b[39m\u001b[39mTrue\u001b[39;00m)\n\u001b[1;32m     <a href='file:///home/dradmin/miniconda3/lib/python3.9/site-packages/h5py/_hl/group.py?line=64'>65</a>\u001b[0m gcpl \u001b[39m=\u001b[39m Group\u001b[39m.\u001b[39m_gcpl_crt_order \u001b[39mif\u001b[39;00m track_order \u001b[39melse\u001b[39;00m \u001b[39mNone\u001b[39;00m\n\u001b[0;32m---> <a href='file:///home/dradmin/miniconda3/lib/python3.9/site-packages/h5py/_hl/group.py?line=65'>66</a>\u001b[0m gid \u001b[39m=\u001b[39m h5g\u001b[39m.\u001b[39;49mcreate(\u001b[39mself\u001b[39;49m\u001b[39m.\u001b[39;49mid, name, lcpl\u001b[39m=\u001b[39;49mlcpl, gcpl\u001b[39m=\u001b[39;49mgcpl)\n\u001b[1;32m     <a href='file:///home/dradmin/miniconda3/lib/python3.9/site-packages/h5py/_hl/group.py?line=66'>67</a>\u001b[0m \u001b[39mreturn\u001b[39;00m Group(gid)\n",
      "File \u001b[0;32mh5py/_objects.pyx:54\u001b[0m, in \u001b[0;36mh5py._objects.with_phil.wrapper\u001b[0;34m()\u001b[0m\n",
      "File \u001b[0;32mh5py/_objects.pyx:55\u001b[0m, in \u001b[0;36mh5py._objects.with_phil.wrapper\u001b[0;34m()\u001b[0m\n",
      "File \u001b[0;32mh5py/h5g.pyx:166\u001b[0m, in \u001b[0;36mh5py.h5g.create\u001b[0;34m()\u001b[0m\n",
      "\u001b[0;31mValueError\u001b[0m: Unable to create group (name already exists)"
     ]
    }
   ],
   "source": [
    "#time writing\n",
    "\n",
    "antSpec     = np.random.random(2**23)\n",
    "termSpec    = np.random.random(2**23)\n",
    "vetoSpec    = np.random.random(2**14)\n",
    "\n",
    "runInfoDict     = {}\n",
    "\n",
    "#include units in dict key\n",
    "specDict        = {'antSpec_FFT'        : antSpec,\n",
    "                'termSpec_FFT'      : termSpec,\n",
    "                'vetoSpec_dBm'      : vetoSpec}\n",
    "\n",
    "numSpecPerFile  = 16\n",
    "dataDir         = './h5Testing_gitignore/'\n",
    "\n",
    "ti = datetime.datetime.now()\n",
    "writeH5(specDict, runInfoDict, acqNum, numSpecPerFile, dataDir)\n",
    "print(datetime.datetime.now() - ti)"
   ]
  },
  {
   "cell_type": "code",
   "execution_count": null,
   "metadata": {},
   "outputs": [],
   "source": []
  }
 ],
 "metadata": {
  "kernelspec": {
   "display_name": "Python 3.9.5 ('base')",
   "language": "python",
   "name": "python3"
  },
  "language_info": {
   "codemirror_mode": {
    "name": "ipython",
    "version": 3
   },
   "file_extension": ".py",
   "mimetype": "text/x-python",
   "name": "python",
   "nbconvert_exporter": "python",
   "pygments_lexer": "ipython3",
   "version": "3.9.5"
  },
  "orig_nbformat": 4,
  "vscode": {
   "interpreter": {
    "hash": "565170522d23a2521d7a780d65f3ba404858b6b2c2a1aa4cc4afa9e481b8c202"
   }
  }
 },
 "nbformat": 4,
 "nbformat_minor": 2
}
