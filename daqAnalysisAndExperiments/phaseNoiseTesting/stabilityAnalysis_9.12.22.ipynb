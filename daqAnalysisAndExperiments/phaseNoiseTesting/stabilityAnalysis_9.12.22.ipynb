{
 "cells": [
  {
   "cell_type": "code",
   "execution_count": null,
   "metadata": {},
   "outputs": [],
   "source": [
    "import numpy as np\n",
    "import pandas as pd\n",
    "import scipy.signal as sig\n",
    "import scipy.stats as stat\n",
    "import matplotlib.pyplot as plt\n",
    "%matplotlib widget"
   ]
  },
  {
   "cell_type": "code",
   "execution_count": null,
   "metadata": {},
   "outputs": [],
   "source": [
    "valonDf = pd.read_pickle('valonCh2_2480MHz_0dBm_10sScanTime_10ksScantime_0dBm_1HzRBW_801pts_801MHzSpan.pkl')\n",
    "dsgDf = pd.read_pickle('DSG830_24799MHz_0dBm_10sScanTime_10ksScantime_0dBm_1HzRBW_801pts_801MHzSpan.pkl')\n",
    "valon12hrDf = pd.read_pickle('valonCh2_2480MHz_0dBm_10sScanTime_42ksScantime_0dBm_1HzRBW_801pts_801MHzSpan.pkl')\n",
    "valon100ksDf = pd.read_pickle('valonCh2_2480MHz_0dBm_100sScanTime_100ksScantime_0dBm_1HzRBW_801pts_801MHzSpan_9.17.22.pkl')\n"
   ]
  },
  {
   "cell_type": "code",
   "execution_count": null,
   "metadata": {},
   "outputs": [],
   "source": [
    "#Single scan\n",
    "plt.figure()\n",
    "valonDf.iloc[:, 100].plot(label = 'Valon')\n",
    "dsgDf.iloc[:, 100].plot(label = 'DSG830')\n",
    "plt.legend()\n",
    "plt.xlabel('Frequency (Hz)')\n",
    "plt.ylabel('Power (dBm)')\n",
    "plt.title('Single Scan')"
   ]
  },
  {
   "cell_type": "code",
   "execution_count": null,
   "metadata": {},
   "outputs": [],
   "source": [
    "valonClockStd = np.zeros(1000)\n",
    "dsgClockStd = np.zeros(1000)\n",
    "for i in range(1000):\n",
    "    valonClockStd[i] = valonDf.iloc[:,i].std()\n",
    "    dsgClockStd[i] = dsgDf.iloc[:,i].std()\n",
    "print('mean of Valon Clock STDs =', round(valonClockStd.mean(), 3), 'Hz')\n",
    "print('mean of DSG Clock STDs =', round(dsgClockStd.mean(), 3), 'Hz')"
   ]
  },
  {
   "cell_type": "code",
   "execution_count": null,
   "metadata": {},
   "outputs": [],
   "source": [
    "#vomit plot!\n",
    "valonDf.plot(legend = False, alpha = .5)\n",
    "plt.xlabel('Frequency (Hz)')\n",
    "plt.ylabel('Power (dBm)')\n",
    "plt.title('All Curves (Valon)')"
   ]
  },
  {
   "cell_type": "code",
   "execution_count": null,
   "metadata": {},
   "outputs": [],
   "source": [
    "#vomit plot! DSG830\n",
    "dsgDf.plot(legend = False, alpha = .5)\n",
    "plt.xlabel('Frequency (Hz)')\n",
    "plt.ylabel('Power (dBm)')\n",
    "plt.title('All Curves (DSG830)')"
   ]
  },
  {
   "cell_type": "code",
   "execution_count": null,
   "metadata": {},
   "outputs": [],
   "source": [
    "#Log average\n",
    "plt.figure()\n",
    "valonDf.mean(axis=1).plot(label = 'Mean')\n",
    "valonDf.iloc[:, 100].plot(label = 'Single scan')\n",
    "plt.legend()\n",
    "plt.xlabel('Frequency (Hz)')\n",
    "plt.ylabel('Power (dBm)')\n",
    "plt.title('Log Mean (Valon)')"
   ]
  },
  {
   "cell_type": "code",
   "execution_count": null,
   "metadata": {},
   "outputs": [],
   "source": [
    "#linear average\n",
    "\n",
    "def dbm2watts(dBm):\n",
    "    watts = 10**((dBm - 30)/10)\n",
    "    return watts\n",
    "\n",
    "valonLinDf = pd.read_pickle('valonCh2_2480MHz_0dBm_10sScanTime_10ksScantime_0dBm_1HzRBW_801pts_801MHzSpan.pkl')\n",
    "valonLinDf = valonLinDf.apply(dbm2watts)\n",
    "\n",
    "plt.figure()\n",
    "valonLinDf.mean(axis=1).plot(label = 'Mean')\n",
    "valonLinDf.iloc[:, 100].plot(label = 'Single scan')\n",
    "plt.title('Linear Mean, Valon')\n",
    "plt.xlabel('Frequency (Hz)')\n",
    "plt.ylabel('Power (Watts)')\n",
    "plt.legend()\n"
   ]
  },
  {
   "cell_type": "code",
   "execution_count": null,
   "metadata": {},
   "outputs": [],
   "source": [
    "#Log average compare\n",
    "plt.figure()\n",
    "valonDf.mean(axis=1).plot(label = 'Valon')\n",
    "dsgDf.mean(axis=1).plot(label = 'DSG830')\n",
    "plt.legend()\n",
    "plt.xlabel('Frequency (Hz)')\n",
    "plt.ylabel('Power (dBm)')\n",
    "plt.title('Log Mean')"
   ]
  },
  {
   "cell_type": "code",
   "execution_count": null,
   "metadata": {},
   "outputs": [],
   "source": [
    "#linear average\n",
    "\n",
    "def dbm2watts(dBm):\n",
    "    watts = 10**((dBm - 30)/10)\n",
    "    return watts\n",
    "\n",
    "valonLinDf = pd.read_pickle('valonCh2_2480MHz_0dBm_10sScanTime_10ksScantime_0dBm_1HzRBW_801pts_801MHzSpan.pkl')\n",
    "dsgLinDf = pd.read_pickle('DSG830_24799MHz_0dBm_10sScanTime_10ksScantime_0dBm_1HzRBW_801pts_801MHzSpan.pkl')\n",
    "valonLinDf = valonLinDf.apply(dbm2watts)\n",
    "dsgLinDf = dsgLinDf.apply(dbm2watts)\n",
    "\n",
    "plt.figure()\n",
    "valonLinDf.mean(axis=1).plot(label = 'Valon')\n",
    "dsgLinDf.mean(axis=1).plot(label = 'DSG830')\n",
    "plt.title('Linear Mean, Valon')\n",
    "plt.xlabel('Frequency (Hz)')\n",
    "plt.ylabel('Power (Watts)')\n",
    "plt.legend()"
   ]
  },
  {
   "cell_type": "code",
   "execution_count": null,
   "metadata": {},
   "outputs": [],
   "source": [
    "#demo of peak finding\n",
    "\n",
    "plt.figure()\n",
    "for scanNum in [0,10,50,300,999]:\n",
    "    peakIdx =  int(sig.find_peaks(valonDf.iloc[:, scanNum], distance=800)[0])\n",
    "    peakFreq = valonDf.index[peakIdx]\n",
    "    valonDf.iloc[:, scanNum].plot(label = 'Single scan')\n",
    "    plt.plot(peakFreq, valonDf.iloc[peakIdx, scanNum], 'ro')\n",
    "\n",
    "plt.xlabel('Frequency (Hz)')\n",
    "plt.ylabel('Power (dBm)')\n"
   ]
  },
  {
   "cell_type": "code",
   "execution_count": null,
   "metadata": {},
   "outputs": [],
   "source": [
    "from cProfile import label\n",
    "\n",
    "\n",
    "nScansValon = len(valonDf.iloc[0,:])\n",
    "peakIdxArrValon = np.zeros(nScansValon)\n",
    "peakFreqArrValon = np.zeros(nScansValon)\n",
    "\n",
    "nScansDsg = len(dsgDf.iloc[0,:])\n",
    "peakIdxArrDsg = np.zeros(nScansDsg)\n",
    "peakFreqArrDsg = np.zeros(nScansDsg)\n",
    "\n",
    "\n",
    "\n",
    "for scan in range(nScansValon):\n",
    "    #Find peak of each scan to create time series of peak wandering\n",
    "    #find_peaks returns tuple; (single element arr of indicies, empty dict). Take int of single element arr\n",
    "    # Distance = 800 only gets largest peak.\n",
    "    peakIdxArrValon[scan] =  int(sig.find_peaks(valonDf.iloc[:, scan], distance=800)[0])\n",
    "    peakIdxArrDsg[scan] =  int(sig.find_peaks(dsgDf.iloc[:, scan], distance=800)[0])\n",
    "\n",
    "for scan in range(nScansDsg):\n",
    "    #Find peak of each scan to create time series of peak wandering\n",
    "    #find_peaks returns tuple; (single element arr of indicies, empty dict). Take int of single element arr\n",
    "    # Distance = 800 only gets largest peak.\n",
    "    peakIdxArrDsg[scan] =  int(sig.find_peaks(dsgDf.iloc[:, scan], distance=800)[0])\n",
    "\n",
    "\n",
    "\n",
    "\n",
    "for i, idx in enumerate(peakIdxArrValon):\n",
    "    #convert from idx that scipy find_peaks returns to actual frequency\n",
    "    peakFreqArrValon[i] = valonDf.index[idx]\n",
    "\n",
    "for i, idx in enumerate(peakIdxArrDsg):\n",
    "    #convert from idx that scipy find_peaks returns to actual frequency\n",
    "    peakFreqArrDsg[i] = dsgDf.index[idx]\n",
    "\n",
    "\n",
    "\n",
    "plt.figure()\n",
    "plt.plot(peakFreqArrValon, label = 'Valon')\n",
    "plt.plot(peakFreqArrDsg, label = 'DSG830')\n",
    "\n",
    "plt.xlabel('Scan number')\n",
    "plt.ylabel('Frequency (Hz)')\n",
    "plt.legend()\n",
    "plt.title('Peak frequency vs scan number')\n"
   ]
  },
  {
   "cell_type": "code",
   "execution_count": null,
   "metadata": {},
   "outputs": [],
   "source": [
    "\n",
    "nScansValon12 = len(valon12hrDf.iloc[0,:])\n",
    "peakIdxArrValon12 = np.zeros(nScansValon12)\n",
    "peakFreqArrValon12 = np.zeros(nScansValon12)\n",
    "\n",
    "for scan in range(nScansValon12):\n",
    "    #Find peak of each scan to create time series of peak wandering\n",
    "    #find_peaks returns tuple; (single element arr of indicies, empty dict). Take int of single element arr\n",
    "    # Distance = 800 only gets largest peak.\n",
    "    peakIdxArrValon12[scan] =  int(sig.find_peaks(valon12hrDf.iloc[:, scan], distance=800)[0])\n",
    "    \n",
    "for i, idx in enumerate(peakIdxArrValon12):\n",
    "    #convert from idx that scipy find_peaks returns to actual frequency\n",
    "    peakFreqArrValon12[i] = valon12hrDf.index[idx]\n",
    "\n",
    "    \n",
    "plt.figure()\n",
    "plt.plot(list(valon12hrDf), peakFreqArrValon12, label = 'Valon 12 hour')\n",
    "plt.xlabel('Scan datetime')\n",
    "#plt.xlabel(list(valon12hrDf))\n",
    "plt.ylabel('Frequency (Hz)')\n",
    "#plt.legend()\n",
    "plt.title('Peak frequency vs datetime')\n",
    "\n",
    "\n",
    "samplesToCut = 1200\n",
    "\n",
    "\n",
    "plt.figure()\n",
    "plt.plot(peakFreqArrValon12[0::10], label = 'Valon 12 hour')\n",
    "plt.xlabel('Scan number (10 seconds between scans)')\n",
    "plt.ylabel('Frequency (Hz)')\n",
    "plt.title('Peak frequency vs scan number')\n",
    "#plt.xlim(samplesToCut, len(peakFreqArrValon12))\n",
    "#plt.ylim(2479999145, 2479999190)\n",
    "\n",
    "plt.figure()\n",
    "plt.hist(peakFreqArrValon12[samplesToCut:], bins = 30)"
   ]
  },
  {
   "cell_type": "code",
   "execution_count": null,
   "metadata": {},
   "outputs": [],
   "source": [
    "\n",
    "nScansValon100ks = len(valon100ksDf.iloc[0,:])\n",
    "peakIdxArrValon100ks = np.zeros(nScansValon100ks)\n",
    "peakFreqArrValon100ks = np.zeros(nScansValon100ks)\n",
    "\n",
    "for scan in range(nScansValon100ks):\n",
    "    #Find peak of each scan to create time series of peak wandering\n",
    "    #find_peaks returns tuple; (single element arr of indicies, empty dict). Take int of single element arr\n",
    "    # Distance = 800 only gets largest peak.\n",
    "    peakIdxArrValon100ks[scan] =  int(sig.find_peaks(valon100ksDf.iloc[:, scan], distance=800)[0])\n",
    "    \n",
    "for i, idx in enumerate(peakIdxArrValon100ks):\n",
    "    #convert from idx that scipy find_peaks returns to actual frequency\n",
    "    peakFreqArrValon100ks[i] = valon100ksDf.index[idx]\n",
    "\n",
    "    \n",
    "\n",
    "\n",
    "samplesToCut = 0\n",
    "\n",
    "\n",
    "plt.figure()\n",
    "plt.plot(list(valon100ksDf)[samplesToCut:], peakFreqArrValon100ks[samplesToCut:], label = 'Valon 30 hour')\n",
    "plt.xlabel('Scan datetime')\n",
    "#plt.xlabel(list(valon12hrDf))\n",
    "plt.ylabel('Frequency (Hz)')\n",
    "#plt.legend()\n",
    "plt.title('Peak frequency vs datetime')\n",
    "\n",
    "\n",
    "plt.figure()\n",
    "plt.plot(peakFreqArrValon100ks[samplesToCut:], label = 'Valon 30 hour')\n",
    "plt.xlabel('Scan number (10 seconds between scans)')\n",
    "plt.ylabel('Frequency (Hz)')\n",
    "plt.title('Peak frequency vs scan number')\n",
    "#plt.xlim(samplesToCut, len(peakFreqArrValon12))\n",
    "#plt.ylim(2479999145, 2479999190)\n",
    "\n",
    "plt.figure()\n",
    "plt.hist(peakFreqArrValon100ks[samplesToCut:], bins = 30)"
   ]
  },
  {
   "cell_type": "code",
   "execution_count": null,
   "metadata": {},
   "outputs": [],
   "source": [
    "plt.figure()\n",
    "plt.hist(peakFreqArrValon, bins =20, label='Valon', alpha = 1);\n",
    "plt.hist(peakFreqArrDsg, bins =20, label='DSG830', alpha = .5);\n",
    "plt.xlabel('Frequency (Hz)')\n",
    "plt.ylabel('Counts')\n",
    "plt.title('Peak Frequency Histogram')\n",
    "plt.legend()"
   ]
  },
  {
   "cell_type": "code",
   "execution_count": null,
   "metadata": {},
   "outputs": [],
   "source": [
    "valonMeanBoot = stat.bootstrap((peakFreqArrValon,), np.mean, confidence_level=.9)\n",
    "dsgMeanBoot = stat.bootstrap((peakFreqArrDsg,), np.mean, confidence_level=.9)\n",
    "valonStdBoot = stat.bootstrap((peakFreqArrValon,), np.std, confidence_level=.9)\n",
    "dsgStdBoot = stat.bootstrap((peakFreqArrDsg,), np.std, confidence_level=.9)"
   ]
  },
  {
   "cell_type": "code",
   "execution_count": null,
   "metadata": {},
   "outputs": [],
   "source": [
    "print('Valon 3 hour stability run:', round(peakFreqArrValon.mean(),1), '+-', round(peakFreqArrValon.std(), 2),'Hz')\n",
    "print('Valon STD 90% confidence interval = ', valonStdBoot.confidence_interval.high, ',', valonStdBoot.confidence_interval.low)\n",
    "print()\n",
    "print('DSG830 3 hour stability run:', round(peakFreqArrDsg.mean(),1), '+-', round(peakFreqArrDsg.std(), 2),'Hz')\n",
    "print('DSG STD 90% confidence interval = ', dsgStdBoot.confidence_interval.high, ',', dsgStdBoot.confidence_interval.low)"
   ]
  },
  {
   "cell_type": "code",
   "execution_count": null,
   "metadata": {},
   "outputs": [],
   "source": []
  },
  {
   "cell_type": "code",
   "execution_count": null,
   "metadata": {},
   "outputs": [],
   "source": []
  }
 ],
 "metadata": {
  "kernelspec": {
   "display_name": "Python 3.8.13 ('base')",
   "language": "python",
   "name": "python3"
  },
  "language_info": {
   "codemirror_mode": {
    "name": "ipython",
    "version": 3
   },
   "file_extension": ".py",
   "mimetype": "text/x-python",
   "name": "python",
   "nbconvert_exporter": "python",
   "pygments_lexer": "ipython3",
   "version": "3.8.13"
  },
  "orig_nbformat": 4,
  "vscode": {
   "interpreter": {
    "hash": "0026c837a992c760a3ec88ac7ff5b33687707fa419eb7119019172be85527eb8"
   }
  }
 },
 "nbformat": 4,
 "nbformat_minor": 2
}
