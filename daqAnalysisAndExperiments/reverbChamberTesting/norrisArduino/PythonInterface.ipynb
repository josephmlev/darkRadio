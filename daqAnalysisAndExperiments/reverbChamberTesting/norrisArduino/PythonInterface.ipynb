{
 "cells": [
  {
   "cell_type": "code",
   "execution_count": 12,
   "metadata": {},
   "outputs": [],
   "source": [
    "# This code will serve as a python interface for controlling the arduino uno\n",
    "\n",
    "import numpy as np\n",
    "import serial.tools.list_ports\n",
    "import time\n"
   ]
  },
  {
   "cell_type": "code",
   "execution_count": 13,
   "metadata": {},
   "outputs": [
    {
     "name": "stdout",
     "output_type": "stream",
     "text": [
      "/dev/ttyUSB0 - Valon USB UART - Valon USB UART\n",
      "/dev/ttyACM1 - ttyACM1\n",
      "/dev/ttyACM0 - Arduino Mega\n"
     ]
    },
    {
     "ename": "SerialException",
     "evalue": "[Errno 2] could not open port dev/ttyACM1: [Errno 2] No such file or directory: 'dev/ttyACM1'",
     "output_type": "error",
     "traceback": [
      "\u001b[0;31m---------------------------------------------------------------------------\u001b[0m",
      "\u001b[0;31mFileNotFoundError\u001b[0m                         Traceback (most recent call last)",
      "File \u001b[0;32m~/miniconda3/lib/python3.9/site-packages/serial/serialposix.py:322\u001b[0m, in \u001b[0;36mSerial.open\u001b[0;34m(self)\u001b[0m\n\u001b[1;32m    321\u001b[0m \u001b[39mtry\u001b[39;00m:\n\u001b[0;32m--> 322\u001b[0m     \u001b[39mself\u001b[39m\u001b[39m.\u001b[39mfd \u001b[39m=\u001b[39m os\u001b[39m.\u001b[39;49mopen(\u001b[39mself\u001b[39;49m\u001b[39m.\u001b[39;49mportstr, os\u001b[39m.\u001b[39;49mO_RDWR \u001b[39m|\u001b[39;49m os\u001b[39m.\u001b[39;49mO_NOCTTY \u001b[39m|\u001b[39;49m os\u001b[39m.\u001b[39;49mO_NONBLOCK)\n\u001b[1;32m    323\u001b[0m \u001b[39mexcept\u001b[39;00m \u001b[39mOSError\u001b[39;00m \u001b[39mas\u001b[39;00m msg:\n",
      "\u001b[0;31mFileNotFoundError\u001b[0m: [Errno 2] No such file or directory: 'dev/ttyACM1'",
      "\nDuring handling of the above exception, another exception occurred:\n",
      "\u001b[0;31mSerialException\u001b[0m                           Traceback (most recent call last)",
      "\u001b[1;32m/drBigBoy/darkRadio/daqAnalysisAndExperiments/reverbChamberTesting/norrisArduino/PythonInterface.ipynb Cell 2\u001b[0m in \u001b[0;36m<cell line: 20>\u001b[0;34m()\u001b[0m\n\u001b[1;32m     <a href='vscode-notebook-cell:/drBigBoy/darkRadio/daqAnalysisAndExperiments/reverbChamberTesting/norrisArduino/PythonInterface.ipynb#W1sZmlsZQ%3D%3D?line=17'>18</a>\u001b[0m serialInst\u001b[39m.\u001b[39mbaudrate \u001b[39m=\u001b[39m \u001b[39m9600\u001b[39m\n\u001b[1;32m     <a href='vscode-notebook-cell:/drBigBoy/darkRadio/daqAnalysisAndExperiments/reverbChamberTesting/norrisArduino/PythonInterface.ipynb#W1sZmlsZQ%3D%3D?line=18'>19</a>\u001b[0m serialInst\u001b[39m.\u001b[39mport \u001b[39m=\u001b[39m com \u001b[39m# sets the active communication port\u001b[39;00m\n\u001b[0;32m---> <a href='vscode-notebook-cell:/drBigBoy/darkRadio/daqAnalysisAndExperiments/reverbChamberTesting/norrisArduino/PythonInterface.ipynb#W1sZmlsZQ%3D%3D?line=19'>20</a>\u001b[0m serialInst\u001b[39m.\u001b[39;49mopen()\n",
      "File \u001b[0;32m~/miniconda3/lib/python3.9/site-packages/serial/serialposix.py:325\u001b[0m, in \u001b[0;36mSerial.open\u001b[0;34m(self)\u001b[0m\n\u001b[1;32m    323\u001b[0m \u001b[39mexcept\u001b[39;00m \u001b[39mOSError\u001b[39;00m \u001b[39mas\u001b[39;00m msg:\n\u001b[1;32m    324\u001b[0m     \u001b[39mself\u001b[39m\u001b[39m.\u001b[39mfd \u001b[39m=\u001b[39m \u001b[39mNone\u001b[39;00m\n\u001b[0;32m--> 325\u001b[0m     \u001b[39mraise\u001b[39;00m SerialException(msg\u001b[39m.\u001b[39merrno, \u001b[39m\"\u001b[39m\u001b[39mcould not open port \u001b[39m\u001b[39m{}\u001b[39;00m\u001b[39m: \u001b[39m\u001b[39m{}\u001b[39;00m\u001b[39m\"\u001b[39m\u001b[39m.\u001b[39mformat(\u001b[39mself\u001b[39m\u001b[39m.\u001b[39m_port, msg))\n\u001b[1;32m    326\u001b[0m \u001b[39m#~ fcntl.fcntl(self.fd, fcntl.F_SETFL, 0)  # set blocking\u001b[39;00m\n\u001b[1;32m    328\u001b[0m \u001b[39mself\u001b[39m\u001b[39m.\u001b[39mpipe_abort_read_r, \u001b[39mself\u001b[39m\u001b[39m.\u001b[39mpipe_abort_read_w \u001b[39m=\u001b[39m \u001b[39mNone\u001b[39;00m, \u001b[39mNone\u001b[39;00m\n",
      "\u001b[0;31mSerialException\u001b[0m: [Errno 2] could not open port dev/ttyACM1: [Errno 2] No such file or directory: 'dev/ttyACM1'"
     ]
    }
   ],
   "source": [
    "ports = serial.tools.list_ports.comports() # creates list of PC communication ports\n",
    "\n",
    "serialInst = serial.Serial(timeout = 1) # setting instance of serial (tells computer we are using serial communication)\n",
    "\n",
    "portsList = [] # better formatting for list of ports\n",
    "\n",
    "for one in ports:\n",
    "    portsList.append(str(one)) # adds string name for each port to new port list\n",
    "    print(str(one), flush = True) # displays all COM ports on PC\n",
    "\n",
    "com = input(\"Select COM port for Arduino using the identifying number or quit: \")\n",
    "\n",
    "if (com) == 'quit':\n",
    "    quit(keep_kernel=True)\n",
    "\n",
    "\n",
    "\n",
    "serialInst.baudrate = 9600\n",
    "serialInst.port = com # sets the active communication port\n",
    "serialInst.open() # opens COM port for communication"
   ]
  },
  {
   "cell_type": "code",
   "execution_count": null,
   "metadata": {},
   "outputs": [
    {
     "data": {
      "text/plain": [
       "'\\n\\n\\nIO = input(\"Enable power to RC? (Y/N)\")\\n]\\nif IO == str.lower(\\'Y\\'):\\n    while True:\\n        command = input(\"To step or not to step? (or quit) (step/off/quit): \")\\n        serialInst.write(command.encode(\\'utf-8\\'))\\n\\n        print(serialInst.read_until())\\n    \\n        if command == \\'quit\\':\\n            break\\n\\n'"
      ]
     },
     "execution_count": 3,
     "metadata": {},
     "output_type": "execute_result"
    }
   ],
   "source": [
    "\"\"\"\n",
    "\n",
    "\n",
    "IO = input(\"Enable power to RC? (Y/N)\")\n",
    "]\n",
    "if IO == str.lower('Y'):\n",
    "    while True:\n",
    "        command = input(\"To step or not to step? (or quit) (step/off/quit): \")\n",
    "        serialInst.write(command.encode('utf-8'))\n",
    "\n",
    "        print(serialInst.read_until())\n",
    "    \n",
    "        if command == 'quit':\n",
    "            break\n",
    "\n",
    "\"\"\"\n",
    "\n",
    "# IO = 'N'"
   ]
  },
  {
   "cell_type": "code",
   "execution_count": null,
   "metadata": {},
   "outputs": [
    {
     "name": "stdout",
     "output_type": "stream",
     "text": [
      "Arduino says: \n",
      "Arduino says: \n",
      "Arduino says: \n",
      "Arduino says: \n"
     ]
    }
   ],
   "source": [
    "\n",
    "\n",
    "while True: #waits for an input command then sends it via serial connection to the arduino, also waits for serial data sent back from arduino\n",
    "    command = input(\"Arduino command (desired position # / step / position / quit): \")\n",
    "    serialInst.write(command.encode('utf-8'))\n",
    "    if serialInst.in_waiting > 0:\n",
    "        data = serialInst.readline().decode('utf-8').strip()\n",
    "    #if data:\n",
    "        print(f\"Arduino says: {data}\")\n",
    "    \n",
    "    if command == 'quit':\n",
    "        break\n"
   ]
  }
 ],
 "metadata": {
  "kernelspec": {
   "display_name": "Python 3.9.5 ('base')",
   "language": "python",
   "name": "python3"
  },
  "language_info": {
   "codemirror_mode": {
    "name": "ipython",
    "version": 3
   },
   "file_extension": ".py",
   "mimetype": "text/x-python",
   "name": "python",
   "nbconvert_exporter": "python",
   "pygments_lexer": "ipython3",
   "version": "3.9.5"
  },
  "vscode": {
   "interpreter": {
    "hash": "565170522d23a2521d7a780d65f3ba404858b6b2c2a1aa4cc4afa9e481b8c202"
   }
  }
 },
 "nbformat": 4,
 "nbformat_minor": 2
}
