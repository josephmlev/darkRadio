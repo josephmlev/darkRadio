{
 "cells": [
  {
   "cell_type": "code",
   "execution_count": 81,
   "id": "7faa0799",
   "metadata": {},
   "outputs": [],
   "source": [
    "import numpy as np\n",
    "import matplotlib.pyplot as plt\n",
    "plt.close('all')"
   ]
  },
  {
   "cell_type": "code",
   "execution_count": 13,
   "id": "79ff4595",
   "metadata": {},
   "outputs": [],
   "source": [
    "def noiseTemp(NF):\n",
    "    return (10**(NF/10.)-1)*296.5"
   ]
  },
  {
   "cell_type": "code",
   "execution_count": 37,
   "id": "19ce9117",
   "metadata": {},
   "outputs": [],
   "source": [
    "hpFreqArr = np.array([50,80,110,140,170,200, 230, 260, 290, 300])\n",
    "\n",
    "NF_134K_1_30_22 = np.array([.34, .29, .4, .43, .39, .51, .61, .62, .51, .48])\n",
    "G_134K_1_30_22 = np.array([.30, .20, .16, .23, .25, .33, .25, .32, .40, .39]) + 40\n",
    "\n",
    "NF_141K_2_18_22 = np.array([.37, .32, .43, .47, .42, .56, .64, .65, .54, .51])\n",
    "G_141K_2_18_22 = np.array([.37, .33, .30, .27, .32, .40, .34, .36, .42, .45]) + 40\n",
    "\n",
    "NF_176K_2_18_22 = np.array([.42, .39, .50, .54, .48, .64, .73, .70, .59, .57])\n",
    "G_176K_2_18_22 = np.array([.52, .45, .42, .41, .42, .49, .42, .46, .51, .54]) + 40\n",
    "\n",
    "NF_191K_2_18_22 = np.array([.45, .41, .52, .54, .50, .66, .76, .72, .61, .59])\n",
    "G_191K_2_18_22 = np.array([.51, .45, .40, .39, .40, .47, .40, .43, .48, .50]) + 40\n",
    "\n",
    "NF_315K_2_18_22 = np.array([.91, .79, .85, .87, .83, .97, 1.07, 1.04, .93, .90])\n",
    "G_315K_2_18_22 = np.array([.23, .07, .11, .06, .14, .14, .07, .10, .14, .12]) + 40\n",
    "\n",
    "NF_RT_1_31_22 = np.array([.97, .78, 1.09, .84, .81, 1.03, 1.05, 1.01, .92, .89])\n",
    "G_RT_1_31_22 = np.array([.35, .19, .21, .18, .24, .22, .15, .21, .24, .22]) + 40"
   ]
  },
  {
   "cell_type": "code",
   "execution_count": 38,
   "id": "acce8671",
   "metadata": {},
   "outputs": [
    {
     "data": {
      "text/plain": [
       "<matplotlib.legend.Legend at 0x7f74b0c154f0>"
      ]
     },
     "execution_count": 38,
     "metadata": {},
     "output_type": "execute_result"
    }
   ],
   "source": [
    "%matplotlib qt\n",
    "\n",
    "plt.figure()\n",
    "#plt.plot(hpFreqArr, noiseTemp(NF_134K_1_30_22), label = '134K, 1/30/22')\n",
    "plt.plot(hpFreqArr, noiseTemp(NF_141K_2_18_22), label = '141K, 2/18/22')\n",
    "plt.plot(hpFreqArr, noiseTemp(NF_176K_2_18_22), label = '176K, 2/18/22')\n",
    "plt.plot(hpFreqArr, noiseTemp(NF_191K_2_18_22), label = '191K, 2/18/22')\n",
    "plt.plot(hpFreqArr, noiseTemp(NF_315K_2_18_22), label = '315K, 2/18/22')\n",
    "#plt.plot(hpFreqArr, noiseTemp(NF_315K_1_31_22), label = 'Room Temp, 1/31/22')\n",
    "plt.title('Noise Temperture vs. Frequency')\n",
    "plt.xlabel('Frequency (MHz))')\n",
    "plt.ylabel('Noise Temperture (K)')\n",
    "plt.legend()\n",
    "\n",
    "\n"
   ]
  },
  {
   "cell_type": "code",
   "execution_count": 39,
   "id": "102af0dd",
   "metadata": {},
   "outputs": [
    {
     "data": {
      "text/plain": [
       "<matplotlib.legend.Legend at 0x7f74b0ba3b50>"
      ]
     },
     "execution_count": 39,
     "metadata": {},
     "output_type": "execute_result"
    }
   ],
   "source": [
    "plt.figure()\n",
    "#plt.plot(hpFreqArr, G_134K_1_30_22, label = '134K, 1/30/22')\n",
    "plt.plot(hpFreqArr, G_141K_2_18_22, label = '141K, 2/18/22')\n",
    "plt.plot(hpFreqArr, G_176K_2_18_22, label = '176K, 2/18/22')\n",
    "plt.plot(hpFreqArr, G_191K_2_18_22, label = '191K, 2/18/22')\n",
    "plt.plot(hpFreqArr, G_315K_2_18_22, label = '315K, 2/18/22')\n",
    "#plt.plot(hpFreqArr, G_315K_1_31_22, label = 'Room Temp, 1/31/22')\n",
    "plt.title('Gain vs. Frequency')\n",
    "plt.xlabel('Frequency (MHz))')\n",
    "plt.ylabel('Gain (dB)')\n",
    "plt.legend()"
   ]
  },
  {
   "cell_type": "code",
   "execution_count": 80,
   "id": "0e720697",
   "metadata": {},
   "outputs": [
    {
     "name": "stdout",
     "output_type": "stream",
     "text": [
      "[0.20214577 5.32306955]\n"
     ]
    },
    {
     "data": {
      "text/plain": [
       "<matplotlib.legend.Legend at 0x7f74a7ad6820>"
      ]
     },
     "execution_count": 80,
     "metadata": {},
     "output_type": "execute_result"
    }
   ],
   "source": [
    "plt.figure()\n",
    "plt.title('Average Noise Temperature vs Amp Temperature')\n",
    "\n",
    "tempArr = np.array([141, 176, 191, 315])\n",
    "avgNTArr = np.array([noiseTemp(NF_141K_2_18_22.mean()),\\\n",
    "                     noiseTemp(NF_176K_2_18_22.mean()),\\\n",
    "                     noiseTemp(NF_191K_2_18_22.mean()),\\\n",
    "                     noiseTemp(NF_315K_2_18_22.mean())]) \n",
    "\n",
    "fit = np.polyfit(tempArr, avgNTArr, 1)\n",
    "linTemp = np.linspace(0,315,100)\n",
    "print(fit)\n",
    "\n",
    "plt.xlabel('Amp Temp. (K)')\n",
    "plt.ylabel('Noise Temp. (K)')\n",
    "plt.scatter(tempArr, avgNTArr)\n",
    "plt.plot(tempArr, avgNTArr, label = 'Data')\n",
    "plt.plot(linTemp, fit[0]*linTemp + fit[1], label = 'Linear Extrapolation. Noise Temp(T_amp = 0k) = 5.3K')\n",
    "plt.legend()"
   ]
  },
  {
   "cell_type": "code",
   "execution_count": 82,
   "id": "c1620811",
   "metadata": {},
   "outputs": [
    {
     "data": {
      "text/plain": [
       "[<matplotlib.lines.Line2D at 0x7f74a792d670>]"
      ]
     },
     "execution_count": 82,
     "metadata": {},
     "output_type": "execute_result"
    }
   ],
   "source": [
    "plt.figure()\n",
    "plt.title('Average Gain vs Amp Temperature')\n",
    "\n",
    "tempArr = np.array([141, 176, 191, 315])\n",
    "avgNTArr = np.array([G_141K_2_18_22.mean(),\\\n",
    "                     G_176K_2_18_22.mean(),\\\n",
    "                     G_191K_2_18_22.mean(),\\\n",
    "                     G_315K_2_18_22.mean()]) \n",
    "\n",
    "plt.xlabel('Amp Temp. (K)')\n",
    "plt.ylabel('Gain (dB)')\n",
    "plt.scatter(tempArr, avgNTArr)\n",
    "plt.plot(tempArr, avgNTArr)"
   ]
  },
  {
   "cell_type": "code",
   "execution_count": null,
   "id": "6c222add",
   "metadata": {},
   "outputs": [],
   "source": []
  }
 ],
 "metadata": {
  "kernelspec": {
   "display_name": "Python 3 (ipykernel)",
   "language": "python",
   "name": "python3"
  },
  "language_info": {
   "codemirror_mode": {
    "name": "ipython",
    "version": 3
   },
   "file_extension": ".py",
   "mimetype": "text/x-python",
   "name": "python",
   "nbconvert_exporter": "python",
   "pygments_lexer": "ipython3",
   "version": "3.9.5"
  }
 },
 "nbformat": 4,
 "nbformat_minor": 5
}
