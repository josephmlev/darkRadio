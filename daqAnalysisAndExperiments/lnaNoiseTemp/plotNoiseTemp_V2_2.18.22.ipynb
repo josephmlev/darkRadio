{
 "cells": [
  {
   "cell_type": "code",
   "execution_count": 111,
   "id": "7faa0799",
   "metadata": {},
   "outputs": [],
   "source": [
    "import numpy as np\n",
    "import matplotlib.pyplot as plt\n",
    "from scipy.interpolate import interp1d\n",
    "plt.close('all')"
   ]
  },
  {
   "cell_type": "code",
   "execution_count": 12,
   "id": "79ff4595",
   "metadata": {},
   "outputs": [],
   "source": [
    "def noiseTemp(NF):\n",
    "    return (10**(NF/10.)-1)*296.5"
   ]
  },
  {
   "cell_type": "code",
   "execution_count": 50,
   "id": "19ce9117",
   "metadata": {},
   "outputs": [
    {
     "data": {
      "text/plain": [
       "array([40.66, 40.54, 40.64, 40.66, 40.71, 40.7 ])"
      ]
     },
     "execution_count": 50,
     "metadata": {},
     "output_type": "execute_result"
    }
   ],
   "source": [
    "hpFreqArr = np.array([50,80,110,140,170,200, 230, 260, 290, 300])\n",
    "\n",
    "NF_134K_1_30_22 = np.array([.34, .29, .4, .43, .39, .51, .61, .62, .51, .48])\n",
    "G_134K_1_30_22 = np.array([.30, .20, .16, .23, .25, .33, .25, .32, .40, .39]) + 40\n",
    "\n",
    "NF_141K_2_18_22 = np.array([.37, .32, .43, .47, .42, .56, .64, .65, .54, .51])\n",
    "G_141K_2_18_22 = np.array([.37, .33, .30, .27, .32, .40, .34, .36, .42, .45]) + 40\n",
    "\n",
    "NF_176K_2_18_22 = np.array([.42, .39, .50, .54, .48, .64, .73, .70, .59, .57])\n",
    "G_176K_2_18_22 = np.array([.52, .45, .42, .41, .42, .49, .42, .46, .51, .54]) + 40\n",
    "\n",
    "NF_191K_2_18_22 = np.array([.45, .41, .52, .54, .50, .66, .76, .72, .61, .59])\n",
    "G_191K_2_18_22 = np.array([.51, .45, .40, .39, .40, .47, .40, .43, .48, .50]) + 40\n",
    "\n",
    "NF_315K_2_18_22 = np.array([.91, .79, .85, .87, .83, .97, 1.07, 1.04, .93, .90])\n",
    "G_315K_2_18_22 = np.array([.23, .07, .11, .06, .14, .14, .07, .10, .14, .12]) + 40\n",
    "\n",
    "NF_RT_1_31_22 = np.array([.97, .78, 1.09, .84, .81, 1.03, 1.05, 1.01, .92, .89])\n",
    "G_RT_1_31_22 = np.array([.35, .19, .21, .18, .24, .22, .15, .21, .24, .22]) + 40\n",
    "\n",
    "freq_12_21_21, G_RT_12_21_21, NF_RT_12_21_21 = np.loadtxt('PE15A1012_Neuhauser_12-21.txt', skiprows=1, unpack=1)\n",
    "freq_12_21_21, G_RT_12_21_21, NF_RT_12_21_21 = freq_12_21_21[1:], G_RT_12_21_21[1:], NF_RT_12_21_21[1:]\n",
    "\n",
    "freq_1_6_21, G_296K_1_6_21, NF_296K_1_6_21 = np.loadtxt('coldData_1-6-22.txt', skiprows=1, unpack=1, max_rows=6, usecols=[0,2,3])\n",
    "freq_1_6_21, G_208K_1_6_21, NF_208K_1_6_21 = np.loadtxt('coldData_1-6-22.txt', skiprows=7, unpack=1, max_rows=6, usecols=[0,2,3])\n",
    "freq_1_6_21, G_165K_1_6_21, NF_165K_1_6_21 = np.loadtxt('coldData_1-6-22.txt', skiprows=13, unpack=1, max_rows=6, usecols=[0,2,3])\n",
    "G_208K_1_6_21"
   ]
  },
  {
   "cell_type": "code",
   "execution_count": 109,
   "id": "746cd3c7",
   "metadata": {},
   "outputs": [
    {
     "data": {
      "text/plain": [
       "[<matplotlib.lines.Line2D at 0x7f96ae2c49a0>]"
      ]
     },
     "execution_count": 109,
     "metadata": {},
     "output_type": "execute_result"
    }
   ],
   "source": [
    "%matplotlib qt\n",
    "freqs, termHot, biconHot = np.loadtxt('RoomTempAmp_2-11-22.txt', unpack = 1, skiprows=1)\n",
    "freqs, termHot, biconHot = freqs[1400:], termHot[1400:], biconHot[1400:]\n",
    "\n",
    "freqs, termCold, biconCold = np.loadtxt('ColdTempAmp_2-11-22.txt', unpack = 1, skiprows=1)\n",
    "freqs, termCold, biconCold = freqs[1400:], termCold[1400:], biconCold[1400:]\n",
    "\n",
    "#plt.plot(freqs, biconHot)\n",
    "plt.plot(freqs, biconCold)\n"
   ]
  },
  {
   "cell_type": "code",
   "execution_count": 16,
   "id": "acce8671",
   "metadata": {},
   "outputs": [
    {
     "data": {
      "text/plain": [
       "<matplotlib.legend.Legend at 0x7f96d3347f10>"
      ]
     },
     "execution_count": 16,
     "metadata": {},
     "output_type": "execute_result"
    }
   ],
   "source": [
    "%matplotlib qt\n",
    "\n",
    "plt.figure()\n",
    "plt.plot(hpFreqArr, noiseTemp(NF_134K_1_30_22), label = '134K, 1/30/22')\n",
    "plt.plot(hpFreqArr, noiseTemp(NF_141K_2_18_22), label = '141K, 2/18/22')\n",
    "plt.plot(hpFreqArr, noiseTemp(NF_176K_2_18_22), label = '176K, 2/18/22')\n",
    "plt.plot(hpFreqArr, noiseTemp(NF_191K_2_18_22), label = '191K, 2/18/22')\n",
    "plt.plot(hpFreqArr, noiseTemp(NF_315K_2_18_22), label = '315K, 2/18/22')\n",
    "#plt.plot(hpFreqArr, noiseTemp(NF_315K_1_31_22), label = 'Room Temp, 1/31/22')\n",
    "plt.title('Noise Temperture vs. Frequency')\n",
    "plt.xlabel('Frequency (MHz))')\n",
    "plt.ylabel('Noise Temperture (K)')\n",
    "plt.legend()\n",
    "\n",
    "\n"
   ]
  },
  {
   "cell_type": "code",
   "execution_count": 130,
   "id": "102af0dd",
   "metadata": {},
   "outputs": [
    {
     "data": {
      "text/plain": [
       "<matplotlib.legend.Legend at 0x7f96c3f41250>"
      ]
     },
     "execution_count": 130,
     "metadata": {},
     "output_type": "execute_result"
    }
   ],
   "source": [
    "plt.figure()\n",
    "plt.title('Gain vs. Frequency 2/18/22')\n",
    "#plt.plot(hpFreqArr, G_134K_1_30_22, label = '134K, 1/30/22')\n",
    "plt.plot(hpFreqArr, G_141K_2_18_22, label = '141K, 2/18/22')\n",
    "plt.plot(hpFreqArr, G_176K_2_18_22, label = '176K, 2/18/22')\n",
    "plt.plot(hpFreqArr, G_191K_2_18_22, label = '191K, 2/18/22')\n",
    "plt.plot(hpFreqArr, G_315K_2_18_22, label = '315K, 2/18/22')\n",
    "#plt.plot(hpFreqArr, G_295_1_31_22, label = 'Room Temp, 1/31/22')\n",
    "plt.xlabel('Frequency (MHz))')\n",
    "plt.ylabel('Gain (dB)')\n",
    "plt.legend()"
   ]
  },
  {
   "cell_type": "code",
   "execution_count": 128,
   "id": "0e720697",
   "metadata": {},
   "outputs": [
    {
     "name": "stdout",
     "output_type": "stream",
     "text": [
      "[0.19305756 5.73026731]\n"
     ]
    },
    {
     "data": {
      "text/plain": [
       "<matplotlib.legend.Legend at 0x7f96cb575700>"
      ]
     },
     "execution_count": 128,
     "metadata": {},
     "output_type": "execute_result"
    }
   ],
   "source": [
    "plt.figure()\n",
    "plt.title('Average Noise Temperature vs Amp Temperature')\n",
    "\n",
    "tempArr = np.array([134, 141, 165, 176, 191, 208, 296, 315])\n",
    "avgNTArr = np.array([noiseTemp(NF_134K_1_30_22.mean()),\\\n",
    "                     noiseTemp(NF_141K_2_18_22.mean()),\\\n",
    "                     noiseTemp(NF_165K_1_6_21.mean()),\\\n",
    "                     noiseTemp(NF_176K_2_18_22.mean()),\\\n",
    "                     noiseTemp(NF_191K_2_18_22.mean()),\\\n",
    "                     noiseTemp(NF_208K_1_6_21.mean()),\\\n",
    "                     #noiseTemp(NF_RT_1_31_22.mean()),\\\n",
    "                     #noiseTemp(NF_RT_12_21_21.mean()),\\\n",
    "                     noiseTemp(NF_296K_1_6_21.mean()),\\\n",
    "                     noiseTemp(NF_315K_2_18_22.mean())]) \n",
    "\n",
    "fit = np.polyfit(tempArr, avgNTArr, 1)\n",
    "linTemp = np.linspace(0,315,100)\n",
    "print(fit)\n",
    "\n",
    "plt.xlabel('Amp Temp. (K)')\n",
    "plt.ylabel('Noise Temp. (K)')\n",
    "plt.scatter(tempArr, avgNTArr)\n",
    "plt.plot(tempArr, avgNTArr, label = 'Data')\n",
    "plt.plot(linTemp, fit[0]*linTemp + fit[1], label = ('Linear Extrapolation. Noise Temp(T_amp = 0k) = %f' %fit[1], 'K'))\n",
    "plt.legend()"
   ]
  },
  {
   "cell_type": "code",
   "execution_count": 83,
   "id": "c1620811",
   "metadata": {},
   "outputs": [
    {
     "data": {
      "text/plain": [
       "[<matplotlib.lines.Line2D at 0x7f96c5ea6e20>]"
      ]
     },
     "execution_count": 83,
     "metadata": {},
     "output_type": "execute_result"
    }
   ],
   "source": [
    "plt.figure()\n",
    "plt.title('Average Gain vs Amp Temperature')\n",
    "\n",
    "tempArr = np.array([134, 141, 165, 176, 191, 208, 295, 296, 315])\n",
    "avgNTArr = np.array([G_134K_1_30_22.mean(),\\\n",
    "                     G_141K_2_18_22.mean(),\\\n",
    "                     G_165K_1_6_21.mean(),\\\n",
    "                     G_176K_2_18_22.mean(),\\\n",
    "                     G_191K_2_18_22.mean(),\\\n",
    "                     G_208K_1_6_21.mean(),\\\n",
    "                     G_RT_1_31_22.mean(),\\\n",
    "                     G_296K_1_6_21.mean(),\\\n",
    "                     G_315K_2_18_22.mean()]) \n",
    "\n",
    "plt.xlabel('Amp Temp. (K)')\n",
    "plt.ylabel('Gain (dB)')\n",
    "plt.scatter(tempArr, avgNTArr)\n",
    "plt.plot(tempArr, avgNTArr)"
   ]
  },
  {
   "cell_type": "code",
   "execution_count": 125,
   "id": "6c222add",
   "metadata": {},
   "outputs": [
    {
     "data": {
      "text/plain": [
       "<matplotlib.collections.PathCollection at 0x7f96cb391100>"
      ]
     },
     "execution_count": 125,
     "metadata": {},
     "output_type": "execute_result"
    }
   ],
   "source": [
    "#gain corrrection\n",
    "plt.figure()\n",
    "G_correct = G_176K_2_18_22  - G_315K_2_18_22\n",
    "G_correct_interp = interp1d(hpFreqArr, G_correct)\n",
    "plt.scatter(freqs, G_correct_interp(freqs))"
   ]
  },
  {
   "cell_type": "code",
   "execution_count": 129,
   "id": "ad683787",
   "metadata": {},
   "outputs": [
    {
     "name": "stdout",
     "output_type": "stream",
     "text": [
      "-0.1627233324426527\n"
     ]
    }
   ],
   "source": [
    "plt.figure()\n",
    "plt.plot(freqs, termCold, label = 'Terminator, amp temp = 160K')\n",
    "plt.plot(freqs, termHot + G_correct_interp(freqs), label = 'Terminator, amp temp = 315K (gain corrected)')\n",
    "plt.legend()\n",
    "\n",
    "\n",
    "print(termCold.mean() - (termHot + G_correct_interp(freqs)).mean())"
   ]
  },
  {
   "cell_type": "code",
   "execution_count": 121,
   "id": "b8a321b9",
   "metadata": {},
   "outputs": [],
   "source": [
    "plt.close('all')"
   ]
  },
  {
   "cell_type": "code",
   "execution_count": 126,
   "id": "91549309",
   "metadata": {},
   "outputs": [
    {
     "name": "stdout",
     "output_type": "stream",
     "text": [
      "-0.3909956518648414\n"
     ]
    }
   ],
   "source": [
    "plt.figure()\n",
    "plt.plot(freqs, biconCold, label = 'Bicon, amp temp = 160K')\n",
    "plt.plot(freqs, biconHot + G_correct_interp(freqs), label = 'Bicon, amp temp = 315K (gain corrected)')\n",
    "plt.legend()\n",
    "\n",
    "print(biconCold.mean() - (biconHot + G_correct_interp(freqs)).mean())"
   ]
  },
  {
   "cell_type": "code",
   "execution_count": null,
   "id": "fb4a5db9",
   "metadata": {},
   "outputs": [],
   "source": []
  }
 ],
 "metadata": {
  "kernelspec": {
   "display_name": "Python 3 (ipykernel)",
   "language": "python",
   "name": "python3"
  },
  "language_info": {
   "codemirror_mode": {
    "name": "ipython",
    "version": 3
   },
   "file_extension": ".py",
   "mimetype": "text/x-python",
   "name": "python",
   "nbconvert_exporter": "python",
   "pygments_lexer": "ipython3",
   "version": "3.9.5"
  }
 },
 "nbformat": 4,
 "nbformat_minor": 5
}
