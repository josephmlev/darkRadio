{
 "cells": [
  {
   "cell_type": "code",
   "execution_count": 1,
   "id": "08bfdc26",
   "metadata": {},
   "outputs": [],
   "source": [
    "import matplotlib.pyplot as plt\n",
    "import numpy as np\n",
    "from matplotlib import cm\n",
    "\n",
    "plt.close('all')"
   ]
  },
  {
   "cell_type": "code",
   "execution_count": 2,
   "id": "bee3081a",
   "metadata": {},
   "outputs": [
    {
     "data": {
      "text/plain": [
       "array([0.9027276 , 0.75910041, 0.68592465, 0.63832481, 0.60369033,\n",
       "       0.57679158, 0.55498624, 0.53676504, 0.52119003, 0.50764104,\n",
       "       0.49568817, 0.48502197, 0.47541282, 0.46668594, 0.45870546,\n",
       "       0.4513638 , 0.44457444, 0.43826682, 0.43238271, 0.42687353,\n",
       "       0.42169835, 0.4168224 , 0.41221592, 0.40785324, 0.40371206,\n",
       "       0.39977293, 0.39601878, 0.39243453, 0.38900683, 0.38572378,\n",
       "       0.38257475, 0.3795502 , 0.37664156, 0.37384105, 0.37114166,\n",
       "       0.368537  , 0.36602124, 0.36358907, 0.36123562, 0.35895642,\n",
       "       0.35674735, 0.35460463, 0.35252475, 0.35050446, 0.34854078,\n",
       "       0.34663089, 0.34477221, 0.34296232, 0.34119896, 0.33948002,\n",
       "       0.33780353, 0.33616763, 0.33457058, 0.33301077, 0.33148666,\n",
       "       0.32999679, 0.32853982, 0.32711445, 0.32571947, 0.32435374,\n",
       "       0.32301617, 0.32170573, 0.32042145, 0.31916241, 0.31792771,\n",
       "       0.31671654, 0.31552809, 0.3143616 , 0.31321637, 0.3120917 ,\n",
       "       0.31098693, 0.30990144, 0.30883464, 0.30778595, 0.30675483,\n",
       "       0.30574075, 0.30474321, 0.30376174, 0.30279587, 0.30184517,\n",
       "       0.3009092 , 0.29998757, 0.29907988, 0.29818576, 0.29730485,\n",
       "       0.2964368 , 0.29558127, 0.29473795, 0.29390652, 0.29308669,\n",
       "       0.29227817, 0.29148067, 0.29069394, 0.28991772, 0.28915175,\n",
       "       0.28839579, 0.28764961, 0.28691298, 0.2861857 , 0.28546753])"
      ]
     },
     "execution_count": 2,
     "metadata": {},
     "output_type": "execute_result"
    }
   ],
   "source": [
    "tSys = np.linspace(295, 362, 100)\n",
    "tau = np.linspace(1, 100, 100)\n",
    "T_0 = 362\n",
    "\n",
    "def epsilonRatio(tSys, tau, T_0 = T_0, tau_0 = 1):\n",
    "    return (tSys**.5 / tau**.25)/(T_0**.5 / tau_0**.25)\n",
    "epsilonRatio(295, tau)\n"
   ]
  },
  {
   "cell_type": "code",
   "execution_count": 3,
   "id": "3e11f6a4",
   "metadata": {},
   "outputs": [
    {
     "data": {
      "text/plain": [
       "1.0511766624552734"
      ]
     },
     "execution_count": 3,
     "metadata": {},
     "output_type": "execute_result"
    }
   ],
   "source": [
    "epsilonRatio(400,1)"
   ]
  },
  {
   "cell_type": "code",
   "execution_count": null,
   "id": "ec909472",
   "metadata": {},
   "outputs": [],
   "source": [
    "#%matplotlib widget\n",
    "fig, ax = plt.subplots(subplot_kw={\"projection\": \"3d\"})\n",
    "tAmp, tau = np.meshgrid(tSys - 295, tau)\n",
    "Z = epsilonRatio(tSys, tau) \n",
    "\n",
    "\n",
    "# Plot the surface.\n",
    "surf = ax.plot_surface(tAmp, tau, Z, cmap=cm.coolwarm,\n",
    "                       linewidth=0, antialiased=False)\n",
    "\n",
    "ax.set_xlabel('T_amp (K)')\n",
    "ax.set_ylabel('Time (days)')\n",
    "ax.set_zlabel('epsilon/epsilon_0')\n",
    "\n"
   ]
  },
  {
   "cell_type": "code",
   "execution_count": null,
   "id": "55491525",
   "metadata": {},
   "outputs": [],
   "source": [
    "tSys = np.linspace(295, 362, 100)\n",
    "tau = np.linspace(1, 100, 100)\n",
    "T_0 = 362\n",
    "\n",
    "plt.figure()\n",
    "\n",
    "colorList = ['b', 'g', 'r']\n",
    "for i, tau in enumerate([1,  10, 100]):\n",
    "    plt.plot(tSys - 295, epsilonRatio(tSys, tau), color = colorList[i], label = 'Integration Time = %i' %tau + 'Days')\n",
    "\n",
    "\n",
    "\n",
    "plt.xlabel('T_amp (K)')\n",
    "plt.ylabel('epsilon bar')\n",
    "plt.legend()"
   ]
  },
  {
   "cell_type": "code",
   "execution_count": null,
   "id": "01f5ae77",
   "metadata": {},
   "outputs": [],
   "source": [
    "tSys = np.linspace(295, 362, 100)\n",
    "tau = np.linspace(1, 30, 10000)\n",
    "T_0 = 362\n",
    "\n",
    "plt.figure()\n",
    "\n",
    "colorList = ['b', 'g', 'r']\n",
    "for i, tSys in enumerate([295, 362, 363+31.6]):\n",
    "    plt.plot(tau, epsilonRatio(tSys, tau), color = colorList[i], label = 'System Temp = %i' %tSys + 'K')\n",
    "    print(i)\n",
    "\n",
    "\n",
    "\n",
    "\n",
    "\n",
    "plt.title('Linear Epsilon Bar')\n",
    "plt.legend()\n",
    "plt.xlabel('Time (days)')\n",
    "plt.ylabel('epsilon bar')\n",
    "plt.show()\n",
    "plt.grid()"
   ]
  },
  {
   "cell_type": "code",
   "execution_count": null,
   "id": "dba30d10",
   "metadata": {},
   "outputs": [],
   "source": [
    "tSys = np.linspace(295, 362, 100)\n",
    "tau = np.linspace(1, 400, 10000)\n",
    "T_0 = 362\n",
    "\n",
    "plt.figure()\n",
    "\n",
    "colorList = ['b', 'g', 'r']\n",
    "for i, tSys in enumerate([295, 362, 430]):\n",
    "    plt.plot(tau, np.log10(epsilonRatio(tSys, tau)), color = colorList[i], label = 'System Temp = %i' %tSys + 'K')\n",
    "    print(i)\n",
    "\n",
    "\n",
    "\n",
    "\n",
    "\n",
    "plt.title('Log Epsilon Bar')\n",
    "plt.legend()\n",
    "plt.xlabel('Time (days)')\n",
    "plt.ylabel('log epsilon bar')\n",
    "plt.show()\n",
    "plt.grid()"
   ]
  },
  {
   "cell_type": "code",
   "execution_count": null,
   "id": "ce082a6f",
   "metadata": {},
   "outputs": [],
   "source": [
    "plt.close('all')"
   ]
  },
  {
   "cell_type": "code",
   "execution_count": null,
   "id": "1f2732f6",
   "metadata": {},
   "outputs": [],
   "source": []
  }
 ],
 "metadata": {
  "kernelspec": {
   "display_name": "Python 3 (ipykernel)",
   "language": "python",
   "name": "python3"
  },
  "language_info": {
   "codemirror_mode": {
    "name": "ipython",
    "version": 3
   },
   "file_extension": ".py",
   "mimetype": "text/x-python",
   "name": "python",
   "nbconvert_exporter": "python",
   "pygments_lexer": "ipython3",
   "version": "3.9.5"
  }
 },
 "nbformat": 4,
 "nbformat_minor": 5
}
