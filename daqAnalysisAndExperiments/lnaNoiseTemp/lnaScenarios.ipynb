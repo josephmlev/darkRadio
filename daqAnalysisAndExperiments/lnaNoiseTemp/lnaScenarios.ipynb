{
 "cells": [
  {
   "cell_type": "code",
   "execution_count": null,
   "id": "08bfdc26",
   "metadata": {},
   "outputs": [],
   "source": [
    "import matplotlib.pyplot as plt\n",
    "import numpy as np\n",
    "from matplotlib import cm\n",
    "\n",
    "plt.close('all')"
   ]
  },
  {
   "cell_type": "code",
   "execution_count": null,
   "id": "bee3081a",
   "metadata": {},
   "outputs": [],
   "source": [
    "tSys = np.linspace(295, 362, 100)\n",
    "tau = np.linspace(1, 100, 100)\n",
    "T_0 = 362\n",
    "\n",
    "def epsilonRatio(tSys, tau, T_0 = T_0, tau_0 = 1):\n",
    "    return (tSys**.5 / tau**.25)/(T_0**.5 / tau_0**.25)\n",
    "epsilonRatio(295, tau)\n"
   ]
  },
  {
   "cell_type": "code",
   "execution_count": null,
   "id": "ec909472",
   "metadata": {},
   "outputs": [],
   "source": [
    "%matplotlib qt\n",
    "fig, ax = plt.subplots(subplot_kw={\"projection\": \"3d\"})\n",
    "tAmp, tau = np.meshgrid(tSys - 295, tau)\n",
    "Z = epsilonRatio(tSys, tau) \n",
    "\n",
    "\n",
    "# Plot the surface.\n",
    "surf = ax.plot_surface(tAmp, tau, Z, cmap=cm.coolwarm,\n",
    "                       linewidth=0, antialiased=False)\n",
    "\n",
    "ax.set_xlabel('T_amp (K)')\n",
    "ax.set_ylabel('Time (days)')\n",
    "ax.set_zlabel('epsilon/epsilon_0')\n",
    "\n"
   ]
  },
  {
   "cell_type": "code",
   "execution_count": null,
   "id": "55491525",
   "metadata": {},
   "outputs": [],
   "source": [
    "tSys = np.linspace(295, 362, 100)\n",
    "tau = np.linspace(1, 100, 100)\n",
    "T_0 = 362\n",
    "\n",
    "plt.figure()\n",
    "\n",
    "colorList = ['b', 'g', 'r']\n",
    "for i, tau in enumerate([1,  10, 100]):\n",
    "    plt.plot(tSys - 295, epsilonRatio(tSys, tau), color = colorList[i], label = 'Integration Time = %i' %tau + 'Days')\n",
    "\n",
    "\n",
    "\n",
    "plt.xlabel('T_amp (K)')\n",
    "plt.ylabel('epsilon bar')\n",
    "plt.legend()"
   ]
  },
  {
   "cell_type": "code",
   "execution_count": null,
   "id": "01f5ae77",
   "metadata": {},
   "outputs": [],
   "source": [
    "tSys = np.linspace(295, 362, 100)\n",
    "tau = np.linspace(.158, 400, 10000)\n",
    "T_0 = 362\n",
    "\n",
    "plt.figure()\n",
    "\n",
    "colorList = ['b', 'g', 'r']\n",
    "for i, tSys in enumerate([295, 331, 362]):\n",
    "    plt.plot(tau, epsilonRatio(tSys, tau), color = colorList[i], label = 'System Temp = %i' %tSys + 'K')\n",
    "    print(i)\n",
    "\n",
    "\n",
    "\n",
    "\n",
    "\n",
    "plt.title('Linear Epsilon Bar')\n",
    "plt.legend()\n",
    "plt.xlabel('Time (days)')\n",
    "plt.ylabel('epsilon bar')\n",
    "plt.show()\n",
    "plt.grid()"
   ]
  },
  {
   "cell_type": "code",
   "execution_count": null,
   "id": "dba30d10",
   "metadata": {},
   "outputs": [],
   "source": [
    "tSys = np.linspace(295, 362, 100)\n",
    "tau = np.linspace(1, 400, 10000)\n",
    "T_0 = 362\n",
    "\n",
    "plt.figure()\n",
    "\n",
    "colorList = ['b', 'g', 'r']\n",
    "for i, tSys in enumerate([295, 331, 362]):\n",
    "    plt.plot(tau, np.log10(epsilonRatio(tSys, tau)), color = colorList[i], label = 'System Temp = %i' %tSys + 'K')\n",
    "    print(i)\n",
    "\n",
    "\n",
    "\n",
    "\n",
    "\n",
    "plt.title('Log Epsilon Bar')\n",
    "plt.legend()\n",
    "plt.xlabel('Time (days)')\n",
    "plt.ylabel('log epsilon bar')\n",
    "plt.show()\n",
    "plt.grid()"
   ]
  },
  {
   "cell_type": "code",
   "execution_count": null,
   "id": "ce082a6f",
   "metadata": {},
   "outputs": [],
   "source": [
    "plt.close('all')"
   ]
  },
  {
   "cell_type": "code",
   "execution_count": null,
   "id": "1f2732f6",
   "metadata": {},
   "outputs": [],
   "source": []
  }
 ],
 "metadata": {
  "kernelspec": {
   "display_name": "Python 3 (ipykernel)",
   "language": "python",
   "name": "python3"
  },
  "language_info": {
   "codemirror_mode": {
    "name": "ipython",
    "version": 3
   },
   "file_extension": ".py",
   "mimetype": "text/x-python",
   "name": "python",
   "nbconvert_exporter": "python",
   "pygments_lexer": "ipython3",
   "version": "3.9.5"
  }
 },
 "nbformat": 4,
 "nbformat_minor": 5
}
