{
 "cells": [
  {
   "cell_type": "code",
   "execution_count": null,
   "metadata": {},
   "outputs": [],
   "source": [
    "import numpy as np\n",
    "import finufft\n",
    "import matplotlib.pyplot as plt\n",
    "\n",
    "# number of source points\n",
    "M = 100\n",
    "\n",
    "# number of target points\n",
    "N = 200\n",
    "\n",
    "# the source points\n",
    "x = 2 * np.pi * np.random.uniform(size=M)\n",
    "\n",
    "# the target points\n",
    "s = 2 * np.pi * np.random.uniform(size=N)\n",
    "\n",
    "# their complex strengths\n",
    "c = (np.random.standard_normal(size=M)\n",
    "     + 1J * np.random.standard_normal(size=M))\n",
    "\n",
    "# calcuate the type-3 NUFFT\n",
    "nuf = finufft.nufft1d3(x, c, s)"
   ]
  },
  {
   "cell_type": "code",
   "execution_count": null,
   "metadata": {},
   "outputs": [],
   "source": [
    "#compare FFT to nuFFT (M = N, uniform T and F)\n",
    "M = 2**10\n",
    "N = 2**10\n",
    "\n",
    "#times to sample\n",
    "x = np.linspace(0, 1, M)\n",
    "\n",
    "#freqs to output\n",
    "s = np.linspace(0, 100,M)\n",
    "\n",
    "#sampled signal\n",
    "c = np.sin(2*np.pi* 10 * x) + 0J\n",
    "\n",
    "nuf = finufft.nufft1d3(x, c, s)\n",
    "fft = np.fft.fft(c)"
   ]
  },
  {
   "cell_type": "code",
   "execution_count": null,
   "metadata": {},
   "outputs": [],
   "source": [
    "%matplotlib widget\n",
    "plt.close('all')\n",
    "\n",
    "if 0:\n",
    "    #plt.plot(x, c, label = 'sampled signal')\n",
    "    plt.figure()\n",
    "    plt.plot(s, nuf.real, label = 'real nuFFT')\n",
    "    plt.plot(s, nuf.imag, label = 'imag nuFFT')\n",
    "    plt.plot(s, abs(nuf), label = 'mag nuFFT')\n",
    "    plt.legend()\n",
    "\n",
    "if 0:\n",
    "    plt.legend()\n",
    "    plt.figure()\n",
    "    plt.plot(fft.real, label = 'real FFT')\n",
    "    plt.plot(fft.imag, label = 'imag FFT')\n",
    "    plt.plot(abs(fft), label = 'mag FFT')\n",
    "    plt.legend();\n",
    "\n",
    "\n",
    "plt.figure()\n",
    "plt.plot(abs(fft)[0:M//2], label = 'mag FFT')\n",
    "plt.plot(s[0:N//2], abs(nuf)[0:N//2], label = 'mag nuFFT')\n",
    "plt.legend();"
   ]
  },
  {
   "cell_type": "code",
   "execution_count": null,
   "metadata": {},
   "outputs": [],
   "source": [
    "type(nuf[0])"
   ]
  },
  {
   "cell_type": "code",
   "execution_count": null,
   "metadata": {},
   "outputs": [],
   "source": []
  },
  {
   "cell_type": "code",
   "execution_count": null,
   "metadata": {},
   "outputs": [],
   "source": []
  }
 ],
 "metadata": {
  "kernelspec": {
   "display_name": "Python 3.9.5 ('base')",
   "language": "python",
   "name": "python3"
  },
  "language_info": {
   "codemirror_mode": {
    "name": "ipython",
    "version": 3
   },
   "file_extension": ".py",
   "mimetype": "text/x-python",
   "name": "python",
   "nbconvert_exporter": "python",
   "pygments_lexer": "ipython3",
   "version": "3.9.5"
  },
  "orig_nbformat": 4,
  "vscode": {
   "interpreter": {
    "hash": "565170522d23a2521d7a780d65f3ba404858b6b2c2a1aa4cc4afa9e481b8c202"
   }
  }
 },
 "nbformat": 4,
 "nbformat_minor": 2
}
