{
 "cells": [
  {
   "cell_type": "code",
   "execution_count": null,
   "metadata": {},
   "outputs": [],
   "source": [
    "import numpy as np\n",
    "import scipy as sp\n",
    "from scipy.ndimage import gaussian_filter\n",
    "from scipy.signal import butter, filtfilt, find_peaks, freqz, sosfilt, bessel\n",
    "import matplotlib.pyplot as plt\n",
    "from cupyx.scipy.ndimage import gaussian_filter as gaussian_filter_gpu\n",
    "import cupy as cp\n",
    "%matplotlib widget\n",
    "\n",
    "nPoints = 2**16\n",
    "\n",
    "noise = np.random.normal(0, 1, nPoints)\n",
    "#spur\n",
    "noise[3*nPoints//4] = 1000\n",
    "undulations = 6*np.sin(4*np.pi*np.arange(0,nPoints,1)/(nPoints)) + np.linspace(1,20,nPoints)\n",
    "wideSig = 6*np.exp(-(np.linspace(-nPoints//2,nPoints//2,nPoints)**2)/(2*2)**2)\n",
    "\n",
    "signal = undulations + noise + 1 + wideSig\n",
    "\n",
    "\n",
    "\n",
    "\n",
    "plt.figure()\n",
    "plt.plot(signal)\n"
   ]
  },
  {
   "cell_type": "code",
   "execution_count": null,
   "metadata": {},
   "outputs": [],
   "source": [
    "fc_numBins = 30\n",
    "fcNorm = 2./(fc_numBins)\n",
    "'''\n",
    "b, a = bessel(6, fcNorm, 'highpass', analog=False, norm='phase', output = 'ba')\n",
    "besselHpf = filtfilt(b, a, signal)\n",
    "'''\n",
    "b, a = butter(6, fcNorm, 'highpass', analog = False)\n",
    "# Apply the Butterworth filter to the spectrum\n",
    "butterHpf = filtfilt(b, a, signal)\n",
    "\n",
    "signal_gpu = cp.array(signal)\n",
    "gausLpf_gpu = gaussian_filter_gpu(signal_gpu, sigma = 30)\n",
    "gausLpf = gausLpf_gpu.get()\n",
    "gausHpf = signal - gausLpf\n",
    "\n",
    "\n",
    "print('butter MAD = ',sp.stats.median_abs_deviation(butterHpf))\n",
    "print('gauss MAD = ', sp.stats.median_abs_deviation(gausHpf))\n",
    "plt.figure()\n",
    "plt.plot(signal, label = 'signal')\n",
    "#plt.plot(besselHpf, label = 'bessel')\n",
    "plt.plot(gausHpf, label = 'gauss')\n",
    "plt.plot(butterHpf, label = 'butter', alpha = .5)\n",
    "plt.legend(loc = 'upper right')\n"
   ]
  },
  {
   "cell_type": "code",
   "execution_count": null,
   "metadata": {},
   "outputs": [],
   "source": [
    "%%timeit\n",
    "signal_gpu = cp.array(signal)\n",
    "gausLpf_gpu = gaussian_filter_gpu(signal_gpu, sigma = 300)\n",
    "gausLpf = gausLpf_gpu.get()\n",
    "gausHpf = signal - gausLpf"
   ]
  },
  {
   "cell_type": "code",
   "execution_count": null,
   "metadata": {},
   "outputs": [],
   "source": [
    "%%timeit\n",
    "gausLpf = gaussian_filter(signal, sigma = 300)\n",
    "gausHpf = signal - gausLpf"
   ]
  },
  {
   "cell_type": "code",
   "execution_count": null,
   "metadata": {},
   "outputs": [],
   "source": [
    "#gaussian filter is a low pass\n",
    "gausFilt = gaussian_filter(signal, sigma=300)\n",
    "gausHpf = signal - gausFilt\n",
    "\n",
    "plt.figure()\n",
    "plt.plot(signal, label = 'sig')\n",
    "plt.plot(gausHpf, label = 'gauss hpf')\n",
    "\n",
    "plt.figure()\n",
    "plt.plot(noise)\n",
    "plt.plot(gausHpf, alpha = .5)"
   ]
  },
  {
   "cell_type": "code",
   "execution_count": null,
   "metadata": {},
   "outputs": [],
   "source": [
    "plt.figure()\n",
    "plt.plot(butterFilt, label = 'butter')\n",
    "plt.plot(gausHpf, alpha = .5, label = 'gauss')\n",
    "plt.legend()\n",
    "\n",
    "plt.figure()\n",
    "plt.plot(signal - butterFilt, label = 'butter lpf')\n",
    "plt.plot(gausFilt, alpha = .5, label = 'gauss lpf')\n",
    "plt.legend()"
   ]
  },
  {
   "cell_type": "code",
   "execution_count": null,
   "metadata": {},
   "outputs": [],
   "source": []
  },
  {
   "cell_type": "code",
   "execution_count": null,
   "metadata": {},
   "outputs": [],
   "source": []
  },
  {
   "cell_type": "code",
   "execution_count": null,
   "metadata": {},
   "outputs": [],
   "source": []
  }
 ],
 "metadata": {
  "kernelspec": {
   "display_name": "Python 3.9.5 ('base')",
   "language": "python",
   "name": "python3"
  },
  "language_info": {
   "codemirror_mode": {
    "name": "ipython",
    "version": 3
   },
   "file_extension": ".py",
   "mimetype": "text/x-python",
   "name": "python",
   "nbconvert_exporter": "python",
   "pygments_lexer": "ipython3",
   "version": "3.9.5"
  },
  "orig_nbformat": 4,
  "vscode": {
   "interpreter": {
    "hash": "565170522d23a2521d7a780d65f3ba404858b6b2c2a1aa4cc4afa9e481b8c202"
   }
  }
 },
 "nbformat": 4,
 "nbformat_minor": 2
}
