{
 "cells": [
  {
   "cell_type": "code",
   "execution_count": null,
   "metadata": {},
   "outputs": [],
   "source": [
    "import numpy as np\n",
    "import scipy.stats as stats\n",
    "import scipy as sp\n",
    "import cupy\n",
    "import matplotlib.pyplot as plt\n",
    "%matplotlib widget\n",
    "\n",
    "sys.path.insert(0, '../../drlib')\n",
    "import drlib as dr\n"
   ]
  },
  {
   "cell_type": "code",
   "execution_count": null,
   "metadata": {},
   "outputs": [],
   "source": [
    "def mad_np(arr):\n",
    "    median = np.median(arr)\n",
    "    return np.median(np.abs(arr-median))\n",
    "    "
   ]
  },
  {
   "cell_type": "code",
   "execution_count": null,
   "metadata": {},
   "outputs": [],
   "source": [
    "arr_cpu = np.random.random(2**10)\n",
    "arr_gpu = cupy.random.random(2**10)"
   ]
  },
  {
   "cell_type": "code",
   "execution_count": null,
   "metadata": {},
   "outputs": [],
   "source": [
    "%%timeit\n",
    "median = np.median(arr_cpu)\n",
    "mad_cpu = np.median(np.abs(arr_cpu-median))"
   ]
  },
  {
   "cell_type": "code",
   "execution_count": null,
   "metadata": {},
   "outputs": [],
   "source": [
    "%%timeit\n",
    "mad_np(arr_cpu)"
   ]
  },
  {
   "cell_type": "code",
   "execution_count": null,
   "metadata": {},
   "outputs": [],
   "source": [
    "%%timeit\n",
    "mad_scipy = stats.median_abs_deviation(arr_cpu)\n"
   ]
  },
  {
   "cell_type": "code",
   "execution_count": null,
   "metadata": {},
   "outputs": [],
   "source": [
    "%%timeit\n",
    "median_gpu = cupy.median(arr_gpu)\n",
    "mad_gpu = cupy.median(cupy.abs(arr_gpu-median_gpu))"
   ]
  },
  {
   "cell_type": "code",
   "execution_count": null,
   "metadata": {},
   "outputs": [],
   "source": [
    "print('mad cpu =    ', mad_cpu)\n",
    "print('mad scipy =  ', mad_scipy)\n",
    "print('mad gpu =    ', mad_gpu)"
   ]
  },
  {
   "cell_type": "code",
   "execution_count": null,
   "metadata": {},
   "outputs": [],
   "source": [
    "#generate test data (x)\n",
    "\n",
    "#generate spectrum with known STD (sin^2)\n",
    "testLength      = 2**23\n",
    "numStdPoints    = 2**10\n",
    "stds            = 3*np.sin(np.linspace(0, 40*3.14, numStdPoints))**2 + 1\n",
    "stdsInterp      = 3*np.sin(np.linspace(0, 40*3.14, testLength))**2 + 1\n",
    "x               = np.random.normal(0, stds,  size=(testLength//numStdPoints, numStdPoints)) \n",
    "x               = np.reshape(x.T, testLength)\n",
    "\n",
    "#Inject spurs\n",
    "x[int(testLength//2.34)] = 1000\n",
    "\n",
    "plt.figure()\n",
    "plt.title(\"Simulated Spectrum\")\n",
    "plt.plot(x)\n",
    "plt.plot(np.linspace(0, testLength, numStdPoints), stds * 5, label = \"5 * true std (before spurs)\")\n",
    "plt.xlabel('Frequency (arb)')\n",
    "plt.ylabel('Power (arb)')\n",
    "plt.legend(loc = 'lower right')\n",
    "\n",
    "print('mean  = ', x.mean())\n",
    "print('mad * 1.48 = ', 1.4826*sp.stats.median_abs_deviation(x))\n",
    "print('std = ', np.std(x))\n"
   ]
  },
  {
   "cell_type": "code",
   "execution_count": null,
   "metadata": {},
   "outputs": [],
   "source": [
    "window = 1000\n",
    "def mad_np(arr):\n",
    "    median = np.median(arr)\n",
    "    return np.median(np.abs(arr-median))"
   ]
  },
  {
   "cell_type": "code",
   "execution_count": null,
   "metadata": {},
   "outputs": [],
   "source": [
    "#%%timeit\n",
    "npRollingMad = dr.rolling(x, window, 1, mad_np, numProc=48)"
   ]
  },
  {
   "cell_type": "code",
   "execution_count": null,
   "metadata": {},
   "outputs": [],
   "source": [
    "#%%timeit\n",
    "spRollingMad = dr.rolling(x, window, 1, sp.stats.median_abs_deviation, numProc=48)"
   ]
  },
  {
   "cell_type": "code",
   "execution_count": null,
   "metadata": {},
   "outputs": [],
   "source": [
    "((npRollingMad-spRollingMad)!=0).sum()"
   ]
  },
  {
   "cell_type": "code",
   "execution_count": null,
   "metadata": {},
   "outputs": [],
   "source": [
    "filter_fc           = 30 * window\n",
    "filteredMadArr      = dr.filterSpec(npRollingMad, order = 2, fc_numBins = filter_fc, type = 'lowpass')\n",
    "filteredMadPadArr   = dr.nanPad(filteredMadArr, window)\n",
    "\n",
    "plt.close('all')\n",
    "plt.figure()\n",
    "plt.title(\"Simulated Spectrum\")\n",
    "#plt.plot(x)\n",
    "plt.plot(np.linspace(0, testLength, numStdPoints), stds * 5, label = \"5 * true std (before spurs)\")\n",
    "#plt.plot(npRollingMad*5*1.48, label = \"Rolling Mad\")\n",
    "plt.plot(filteredMadArr*5*1.48, label = \"Filtered Rolling Mad\")\n",
    "plt.xlabel('Frequency (arb)')\n",
    "plt.ylabel('Power (arb)')\n",
    "plt.legend(loc = 'lower right')\n",
    "\n",
    "plt.figure()\n",
    "plt.plot(filteredMadPadArr - stdsInterp)\n",
    "plt.plot(np.linspace(0, testLength, numStdPoints), stds )"
   ]
  },
  {
   "cell_type": "markdown",
   "metadata": {},
   "source": [
    "Old Stuff from run 1 analysis notebook\n"
   ]
  },
  {
   "cell_type": "code",
   "execution_count": null,
   "metadata": {},
   "outputs": [],
   "source": [
    "#mp spcipy based homebrew \n",
    "#print(x)\n",
    "window = 5000\n",
    "step = 1\n",
    "spec = x\n",
    "\n",
    "strideSpec = np.lib.stride_tricks.sliding_window_view(spec,window)\n",
    "\n",
    "#multiprocess rolling MAD on strided array\n",
    "def MAD(spec):\n",
    "    #print(spec)\n",
    "    #return np.full(step, sp.stats.median_abs_deviation(spec))\n",
    "    return sp.stats.median_abs_deviation(spec)\n",
    "with mp.Pool(40) as p:\n",
    "    rollingMadMp = p.map(MAD, strideSpec[::step])\n",
    "\n",
    "rollingMadMp = np.asarray(rollingMadMp).reshape(-1)\n",
    "\n",
    "'''\n",
    "infArr = np.full(window//2, float('nan'))\n",
    "rollingMadMp = np.append(infArr, rollingMadMp)\n",
    "rollingMadMp = np.append(rollingMadMp, infArr)\n",
    "'''\n"
   ]
  },
  {
   "cell_type": "code",
   "execution_count": null,
   "metadata": {},
   "outputs": [],
   "source": [
    "window = 3\n",
    "step = 2\n",
    "spec = x\n",
    "strideSpec = np.lib.stride_tricks.sliding_window_view(spec,window)\n",
    "rollingMadMp = np.zeros(len(spec - window))\n",
    "\n",
    "for i, spec in enumerate(strideSpec[::step]):\n",
    "    rollingMadMp[i] = sp.stats.median_abs_deviation(spec)\n"
   ]
  },
  {
   "cell_type": "code",
   "execution_count": null,
   "metadata": {},
   "outputs": [],
   "source": [
    "#rolling std using pd rolling\n",
    "antSpecFiltered = dr.filterSpec(antSpec)\n",
    "termSpecFiltered = dr.filterSpec(termSpec)\n",
    "\n",
    "\n",
    "\n",
    "antFilter_Df = pd.DataFrame(antSpecFiltered)\n",
    "antRollingStd = antFilter_Df.rolling(10000).std()\n",
    "termFilter_Df = pd.DataFrame(termSpecFiltered)\n",
    "termRollingStd = termFilter_Df.rolling(10000).std()\n",
    "termRollingMad = rollingMadMp\n",
    "\n",
    "numTermCandidates = (termSpecFiltered > (6*termRollingStd).to_numpy().T[0]).sum()\n",
    "numAntCandidates = (antSpecFiltered > (6*antRollingStd).to_numpy().T[0]).sum()\n",
    "print(numTermCandidates, 'candidates on terminator')\n",
    "print(numAntCandidates, 'candidates on antenna')\n",
    "\n",
    "plt.figure()\n",
    "plt.title('antenna')\n",
    "plt.plot(antSpecFiltered)\n",
    "plt.plot(antRollingStd*5)\n",
    "\n",
    "plt.figure()\n",
    "plt.title('terminator')\n",
    "plt.plot(termSpecFiltered)\n",
    "plt.plot(termRollingStd*5)\n",
    "plt.plot(termRollingMad*5)\n",
    "\n",
    "plt.figure()\n",
    "plt.plot(antSpec)\n",
    "plt.plot(termSpec)\n"
   ]
  },
  {
   "cell_type": "code",
   "execution_count": null,
   "metadata": {},
   "outputs": [],
   "source": [
    "plt.figure()\n",
    "plt.plot(rollingMad)\n",
    "plt.plot(rollingStd * .67)"
   ]
  },
  {
   "cell_type": "code",
   "execution_count": null,
   "metadata": {},
   "outputs": [],
   "source": [
    "#pandas rolling std\n",
    "\n",
    "df = pd.DataFrame(antSpecCleanFilter)\n",
    "arr = np.asarray(df.rolling(10000).std())\n",
    "limit = 6 * arr\n",
    "\n",
    "plt.figure()\n",
    "plt.plot(freqs, antSpecCleanFilter)\n",
    "plt.plot(freqs, limit, label = '5sigma thresh')\n",
    "\n",
    "'''\n",
    "count = 0\n",
    "for i in range(len(antSpecCleanFilter)):\n",
    "    if antSpecCleanFilter[i]>limit[i]:\n",
    "        count += 1\n",
    "print(count)\n",
    "'''"
   ]
  },
  {
   "cell_type": "code",
   "execution_count": null,
   "metadata": {},
   "outputs": [],
   "source": [
    "df = pd.DataFrame(antSpec)\n",
    "arr = (df.rolling(100).median())\n",
    "diff = (df - arr)\n",
    "std = 5 * diff.rolling(10000).std()\n",
    "\n",
    "plt.figure()\n",
    "plt.plot(freqs, antSpec)\n",
    "plt.plot(freqs,arr)\n",
    "\n",
    "plt.figure()\n",
    "plt.plot(freqs, diff)\n",
    "plt.plot(freqs, std)\n"
   ]
  },
  {
   "cell_type": "code",
   "execution_count": null,
   "metadata": {},
   "outputs": [],
   "source": []
  }
 ],
 "metadata": {
  "kernelspec": {
   "display_name": "Python 3.9.5 ('base')",
   "language": "python",
   "name": "python3"
  },
  "language_info": {
   "codemirror_mode": {
    "name": "ipython",
    "version": 3
   },
   "file_extension": ".py",
   "mimetype": "text/x-python",
   "name": "python",
   "nbconvert_exporter": "python",
   "pygments_lexer": "ipython3",
   "version": "3.9.5"
  },
  "orig_nbformat": 4,
  "vscode": {
   "interpreter": {
    "hash": "565170522d23a2521d7a780d65f3ba404858b6b2c2a1aa4cc4afa9e481b8c202"
   }
  }
 },
 "nbformat": 4,
 "nbformat_minor": 2
}
