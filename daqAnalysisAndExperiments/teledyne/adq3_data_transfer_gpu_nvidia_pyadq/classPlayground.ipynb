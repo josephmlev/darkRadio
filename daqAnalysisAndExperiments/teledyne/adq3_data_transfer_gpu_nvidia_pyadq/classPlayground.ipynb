{
 "cells": [
  {
   "cell_type": "code",
   "execution_count": null,
   "metadata": {},
   "outputs": [],
   "source": [
    "\"\"\" P2P streaming ADQ -> GPU in python \"\"\"\n",
    "import pyadq\n",
    "\n",
    "\n",
    "\n",
    "def __init__():\n",
    "    \"\"\"Main streaming function\"\"\"\n",
    "    acu: pyadq.ADQControlUnit = pyadq.ADQControlUnit()\n",
    "    # Enable trace logging\n",
    "    #acu.ADQControlUnit_EnableErrorTrace(pyadq.LOG_LEVEL_INFO, \".\")\n",
    "\n",
    "    # Set up the first available device\n",
    "    device_to_open = 0\n",
    "    dev: pyadq.ADQ = acu.SetupDevice(device_to_open)\n",
    "\n",
    "    print(f\"Setting up data collection for: {dev}\")\n",
    "#myClass = avgFft()\n",
    "__init__()"
   ]
  },
  {
   "cell_type": "code",
   "execution_count": null,
   "metadata": {},
   "outputs": [],
   "source": []
  }
 ],
 "metadata": {
  "kernelspec": {
   "display_name": "Python 3.9.5 ('base')",
   "language": "python",
   "name": "python3"
  },
  "language_info": {
   "codemirror_mode": {
    "name": "ipython",
    "version": 3
   },
   "file_extension": ".py",
   "mimetype": "text/x-python",
   "name": "python",
   "nbconvert_exporter": "python",
   "pygments_lexer": "ipython3",
   "version": "3.9.5"
  },
  "orig_nbformat": 4,
  "vscode": {
   "interpreter": {
    "hash": "565170522d23a2521d7a780d65f3ba404858b6b2c2a1aa4cc4afa9e481b8c202"
   }
  }
 },
 "nbformat": 4,
 "nbformat_minor": 2
}
