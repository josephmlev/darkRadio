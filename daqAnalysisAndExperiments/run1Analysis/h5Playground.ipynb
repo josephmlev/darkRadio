{
 "cells": [
  {
   "cell_type": "code",
   "execution_count": 1,
   "metadata": {},
   "outputs": [],
   "source": [
    "import numpy as np\n",
    "import pandas as pd\n",
    "import h5py\n",
    "import matplotlib.pyplot as plt\n",
    "import os\n",
    "import re\n",
    "import sys\n",
    "from datetime import datetime\n",
    "import memory_profiler\n",
    "import gc\n",
    "from multiprocessing import Process\n",
    "import multiprocessing as mp\n",
    "\n",
    "sys.path.insert(0, '../../drlib')\n",
    "import drlib as dr\n",
    "\n",
    "%matplotlib widget"
   ]
  },
  {
   "cell_type": "code",
   "execution_count": 29,
   "metadata": {},
   "outputs": [],
   "source": [
    "dataDir = '/drBiggerBoy/drData/Data/'\n",
    "fileList = os.listdir(dataDir)\n",
    "fileList.sort(key=lambda f: int(re.sub('\\D', '', f)))\n",
    "\n",
    "fileName = 'preProcDataSet.hdf5'"
   ]
  },
  {
   "cell_type": "code",
   "execution_count": 30,
   "metadata": {},
   "outputs": [
    {
     "name": "stdout",
     "output_type": "stream",
     "text": [
      "                         Temperture  West  Vertical  South  Phi  Theta\n",
      "Date                                                                  \n",
      "2022-07-07 12:46:11.184      294.35   140       104    200    0     45\n",
      "2022-07-07 12:47:09.099      294.35   140       104    200    0     45\n",
      "2022-07-07 12:48:07.022      294.35   140       104    200    0     45\n",
      "2022-07-07 12:49:04.936      294.35   140       104    200    0     45\n",
      "2022-07-07 12:50:02.850      294.35   140       104    200    0     45\n"
     ]
    }
   ],
   "source": [
    "header = ['File', 'Date', 'Temperture', 'West', 'Vertical', 'South', 'Phi', 'Theta']\n",
    "database = pd.read_csv('databaseForPandas.txt', names=header, skiprows=1)\n",
    "database['Date'] = pd.to_datetime(database['Date'], infer_datetime_format=True)\n",
    "\n",
    "database.set_index('Date', inplace=True)\n",
    "database.drop(columns='File', inplace=True)\n",
    "print(database.head())\n"
   ]
  },
  {
   "cell_type": "code",
   "execution_count": 47,
   "metadata": {},
   "outputs": [
    {
     "name": "stdout",
     "output_type": "stream",
     "text": [
      "<KeysViewHDF5 ['RIGOL_0', '_i_table', 'table']>\n",
      "<KeysViewHDF5 ['RIGOL_0', 'RIGOL_1', '_i_table', 'table']>\n",
      "<KeysViewHDF5 ['RIGOL_0', 'RIGOL_1', '_i_table', 'table']>\n",
      "<KeysViewHDF5 ['RIGOL_0', 'RIGOL_1', '_i_table', 'table']>\n",
      "<KeysViewHDF5 ['RIGOL_0', 'RIGOL_1', '_i_table', 'table']>\n",
      "<KeysViewHDF5 ['RIGOL_0', '_i_table', 'table']>\n",
      "<KeysViewHDF5 ['RIGOL_0', 'RIGOL_1', '_i_table', 'table']>\n",
      "<KeysViewHDF5 ['RIGOL_0', 'RIGOL_1', '_i_table', 'table']>\n",
      "<KeysViewHDF5 ['RIGOL_0', 'RIGOL_1', '_i_table', 'table']>\n",
      "<KeysViewHDF5 ['RIGOL_0', '_i_table', 'table']>\n",
      "<KeysViewHDF5 ['RIGOL_0', 'RIGOL_1', '_i_table', 'table']>\n",
      "<KeysViewHDF5 ['RIGOL_0', 'RIGOL_1', '_i_table', 'table']>\n",
      "<KeysViewHDF5 ['RIGOL_0', 'RIGOL_1', '_i_table', 'table']>\n",
      "<KeysViewHDF5 ['RIGOL_0', '_i_table', 'table']>\n",
      "<KeysViewHDF5 ['RIGOL_0', 'RIGOL_1', '_i_table', 'table']>\n",
      "<KeysViewHDF5 ['RIGOL_0', 'RIGOL_1', '_i_table', 'table']>\n",
      "number of files =  1\n",
      "number of meas data =  16\n"
     ]
    }
   ],
   "source": [
    "#pack new h5 file \n",
    "f.close()\n",
    "f = h5py.File('/drBiggerBoy/drData/run1Data/' + fileName, 'w')\n",
    "\n",
    "\n",
    "plt.close('all')\n",
    "\n",
    "numFiles = 0\n",
    "numMeasData = 0\n",
    "numRigolSpec = 0\n",
    "rigolQueueArr = np.empty((10000, 4))\n",
    "\n",
    "\n",
    "def packRoachDataAndAttrs(file, measData, key):\n",
    "    dataset = pd.read_hdf(dataDir + file, key = measData)\n",
    "    dateTimeStr = dataset.columns[0][0]\n",
    "    dateTime = datetime.strptime(dateTimeStr, '%Y-%m-%d %H:%M:%S.%f')\n",
    "    #print(database.loc[dateTime])\n",
    "    diffSpec = (dr.fft2Watts(np.asarray(dataset.iloc[:,2][1:])))\n",
    "\n",
    "    grp = f.create_group(dateTimeStr)\n",
    "    \n",
    "\n",
    "    header = ['Temperture', 'West', 'Vertical', 'South', 'Phi', 'Theta']\n",
    "    for attr in header:\n",
    "        grp.attrs.create(attr, database.loc[dateTime][attr])\n",
    "    dset = grp.create_dataset('diffSpecWatts', data = diffSpec)\n",
    "\n",
    "def packRigolData(file, measData, key):\n",
    "    rigolIdx = 0\n",
    "    rigolQueueArr[:,:] = 0\n",
    "\n",
    "    rigolQueueArr[:, rigolIdx] = []\n",
    "    rigolIdx += 1\n",
    "\n",
    "\n",
    "########################################\n",
    "#Main loop\n",
    "########################################\n",
    "for file in fileList[0:1]:\n",
    "    dataset = h5py.File(dataDir +  file, 'r')\n",
    "    numFiles += 1\n",
    "    measDataKeys = list(dataset.keys())\n",
    "    measDataKeys.sort(key=lambda f: int(re.sub('\\D', '', f)))\n",
    "\n",
    "    for measData in measDataKeys:\n",
    "        #print(measData)\n",
    "        #dataset = pd.read_hdf(dataDir + file, key = measData)\n",
    "        #dataset.head()\n",
    "        measDataSubKeys = dataset[measData].keys()\n",
    "        print(measDataSubKeys)\n",
    "        numMeasData += 1\n",
    "    \n",
    "        #Pack ROACH diff spec\n",
    "        #print(numMeasData)\n",
    "        #dataTemp = (dataset[measData]['table'][:])\n",
    "        #diffSpec = [x[1][2] for x in dataTemp]\n",
    "        #print(diffSpec)\n",
    "        #make array of rigol veto max values\n",
    "        rigolQueueArr[:,:] = 0\n",
    "        rigolIdx = 0\n",
    "        for key in measDataSubKeys:\n",
    "            #packRoachData(file, measData, key)\n",
    "            if key=='table':\n",
    "                packRoachDataAndAttrs(file, measData, key)\n",
    "\n",
    "            if key[0] == 'R':\n",
    "                #print('key = ', key)\n",
    "                packRigolData(file, measData, key)\n",
    "                rigolQueueArr[:, rigolIdx] = []\n",
    "                rigolIdx += 1\n",
    "         \n",
    "\n",
    "                #timeStamp = datetime.strptime(h5py.File(dataDir +  file, 'r')[measData][key].attrs['time'], '%Y-%m-%d %H:%M:%S.%f')\n",
    "                #print(timeStamp)\n",
    "                #rigolDfTemp[timeStamp] = h5py.File(dataDir +  file, 'r')[measData][key]\n",
    "\n",
    "                #numRigolSpec += 1\n",
    "            \n",
    "print('number of files = ', numFiles)\n",
    "print('number of meas data = ', numMeasData)\n",
    "#print('number of Rigol spectra = ', numRigolSpec)\n",
    "#print('df size: ', sys.getsizeof(rigolDf)/1e6, 'MB')\n",
    "f.close()"
   ]
  },
  {
   "cell_type": "code",
   "execution_count": null,
   "metadata": {},
   "outputs": [],
   "source": []
  },
  {
   "cell_type": "code",
   "execution_count": 26,
   "metadata": {},
   "outputs": [],
   "source": [
    "f = h5py.File('h5Test.hdf5', 'w')\n",
    "f.close()\n",
    "fileName = 'h5Test.hdf5'\n",
    "\n",
    "\n",
    "def worker(fileName, num):\n",
    "    \n",
    "    f = h5py.File(fileName, 'w')\n",
    "    dset = f.create_dataset(str(num), data = 69)\n",
    "    grp = f.create_group('asdf')\n",
    "    \n",
    "    f.close()\n",
    "\n",
    "'''\n",
    "if __name__ == '__main__':\n",
    "    output = mp.Queue()\n",
    "    inqueue = mp.Queue()\n",
    "    jobs = []\n",
    "    proc = mp.Process(target=handle_output, args=(output, ))\n",
    "    proc.start()\n",
    "    for i in range(num_processes):\n",
    "        p = mp.Process(target=Simulation, args=(inqueue, output))\n",
    "        jobs.append(p)\n",
    "        p.start()\n",
    "    for i in range(num_simulations):\n",
    "        inqueue.put(i)\n",
    "    for i in range(num_processes):\n",
    "        # Send the sentinal to tell Simulation to end\n",
    "        inqueue.put(sentinel)\n",
    "    for p in jobs:\n",
    "        p.join()\n",
    "    output.put(None)\n",
    "    proc.join()\n",
    "'''\n",
    "\n",
    "\n",
    "for num in range(10):\n",
    "        Process(target=worker, args= (fileName, num,)).start()\n",
    "        #print(num)\n",
    "\n",
    "f.close()"
   ]
  },
  {
   "cell_type": "code",
   "execution_count": 11,
   "metadata": {},
   "outputs": [],
   "source": [
    "f.close()"
   ]
  },
  {
   "cell_type": "code",
   "execution_count": null,
   "metadata": {},
   "outputs": [],
   "source": [
    "f.close()"
   ]
  },
  {
   "cell_type": "code",
   "execution_count": null,
   "metadata": {},
   "outputs": [],
   "source": []
  }
 ],
 "metadata": {
  "kernelspec": {
   "display_name": "Python 3 (ipykernel)",
   "language": "python",
   "name": "python3"
  },
  "language_info": {
   "codemirror_mode": {
    "name": "ipython",
    "version": 3
   },
   "file_extension": ".py",
   "mimetype": "text/x-python",
   "name": "python",
   "nbconvert_exporter": "python",
   "pygments_lexer": "ipython3",
   "version": "3.9.5"
  },
  "orig_nbformat": 4,
  "vscode": {
   "interpreter": {
    "hash": "565170522d23a2521d7a780d65f3ba404858b6b2c2a1aa4cc4afa9e481b8c202"
   }
  }
 },
 "nbformat": 4,
 "nbformat_minor": 2
}
