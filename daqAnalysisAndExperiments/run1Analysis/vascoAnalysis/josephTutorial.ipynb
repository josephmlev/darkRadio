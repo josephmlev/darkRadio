{
 "cells": [
  {
   "cell_type": "code",
   "execution_count": null,
   "metadata": {},
   "outputs": [],
   "source": [
    "import numpy as np\n",
    "import matplotlib.pyplot as plt\n",
    "import h5py\n",
    "import pandas as pd\n",
    "import datetime\n",
    "\n",
    "sys.path.insert(0, '../../../drlib')\n",
    "import drlib as dr\n",
    "\n",
    "%matplotlib widget"
   ]
  },
  {
   "cell_type": "code",
   "execution_count": null,
   "metadata": {},
   "outputs": [],
   "source": [
    "#all 11776 spectra averaged together\n",
    "\n",
    "antData     = np.load('../run1_antData_avgAll11776Spectra_gitignore.npy')\n",
    "termData    = np.load('../run1_termData_avgAll11776Spectra_gitignore.npy')\n",
    "diffData    = dr.fft2Watts(antData) - dr.fft2Watts(termData)\n",
    "\n",
    "plt.close('all')\n",
    "plt.figure()\n",
    "plt.title('Difference Spectrum')\n",
    "plt.xlabel('Frequency bins')\n",
    "plt.ylabel('Power (watts)')\n",
    "plt.plot(diffData[1:])"
   ]
  },
  {
   "cell_type": "code",
   "execution_count": null,
   "metadata": {},
   "outputs": [],
   "source": [
    "#import stuff from the h5 file\n",
    "database = pd.read_hdf('/drBiggerBoy/drData/run1Data/preProcDataSet.hdf5', 'database_DF')\n",
    "f = h5py.File('/drBiggerBoy/drData/run1Data/preProcDataSet.hdf5', 'r')\n"
   ]
  },
  {
   "cell_type": "code",
   "execution_count": null,
   "metadata": {},
   "outputs": [],
   "source": [
    "#pandas dataframe \n",
    "database.head()"
   ]
  },
  {
   "cell_type": "code",
   "execution_count": null,
   "metadata": {},
   "outputs": [],
   "source": [
    "#returns the diff spec as an hdf object\n",
    "#can use numpy indixing\n",
    "\n",
    "#data is (freq, spec)  note measData is the index for spec]\n",
    "plt.figure()\n",
    "plt.plot(f['diffSpec_W'][1:,0:3])"
   ]
  },
  {
   "cell_type": "code",
   "execution_count": null,
   "metadata": {},
   "outputs": [],
   "source": [
    "#slicing df\n",
    "#example, where west is 140\n",
    "database[database['West'] == 140]"
   ]
  },
  {
   "cell_type": "code",
   "execution_count": null,
   "metadata": {},
   "outputs": [],
   "source": [
    "#get spectra where west = 140\n",
    "#meas data is like an index for spectrum\n",
    "\n",
    "#this is wrong. Something like this. Look up indexing numpy with array of indicies\n",
    "f[1:, database[database['West'] == 140]['measData'].to_numpy()]\n",
    "\n",
    "#want this to return an array of shape (~8.4M, 4032)"
   ]
  },
  {
   "cell_type": "code",
   "execution_count": null,
   "metadata": {},
   "outputs": [],
   "source": [
    "#this is not quite right. Look up indexing df with date time\n",
    "database[database < '2000-01-01']['measData'].to_numpy()"
   ]
  },
  {
   "cell_type": "markdown",
   "metadata": {},
   "source": [
    "# Tasks\n",
    "\n",
    "and plot average difference spectra from 7/7 12:46 to 12:50 and 7/9 from 7:00 to 8:00. two spectra"
   ]
  },
  {
   "cell_type": "code",
   "execution_count": null,
   "metadata": {},
   "outputs": [],
   "source": [
    "#random example code that may or may not help\n",
    "\n",
    "sigTimeArr = np.zeros(11776)\n",
    "vetoTimeArr = np.zeros(11776)\n",
    "\n",
    "\n",
    "\n",
    "measTimes = database.index.to_series()\n",
    "deltas =measTimes.diff()\n",
    "#print(measTimes)\n",
    "#print(deltas)\n",
    "gaps = deltas[deltas < datetime.timedelta(minutes=1)]\n",
    "print(gaps.std())\n",
    "print(gaps.mean())\n",
    "\n",
    "plt.close('all')\n",
    "plt.figure()\n",
    "deltas.plot()\n",
    "plt.ylabel('Difference (nSeconds)')\n",
    "plt.figure()\n",
    "gaps.plot()\n",
    "\n",
    "def roachIdx2Rigol(roachIdx):\n",
    "    numRoachBins    = int(2**23 - 1)\n",
    "    numRigolBins    = 10000\n",
    "    rigolIdx        = numRigolBins / numRoachBins * roachIdx\n",
    "    return int(rigolIdx)\n",
    "\n",
    "roachIdx = 2866101\n",
    "\n",
    "for i in range(11776):\n",
    "    sigTimeArr[i] = f['diffSpec_W'][roachIdx, i]\n",
    "    vetoTimeArr[i] = f['vetoSpec_W'][roachIdx2Rigol(roachIdx), i]\n",
    "\n",
    "print(sigTimeArr.mean())\n",
    "\n",
    "plt.close('all')\n",
    "plt.figure()\n",
    "plt.plot(database.index, sigTimeArr, label = 'ROACH data (Gain corrected)')\n",
    "plt.plot(database.index, vetoTimeArr, label = 'Rigol data (70dB isolation corrected)')\n",
    "plt.xlabel('Datetime')\n",
    "plt.ylabel('Linear Power')\n",
    "plt.legend()"
   ]
  },
  {
   "cell_type": "code",
   "execution_count": null,
   "metadata": {},
   "outputs": [],
   "source": []
  }
 ],
 "metadata": {
  "kernelspec": {
   "display_name": "Python 3.9.5 ('base')",
   "language": "python",
   "name": "python3"
  },
  "language_info": {
   "codemirror_mode": {
    "name": "ipython",
    "version": 3
   },
   "file_extension": ".py",
   "mimetype": "text/x-python",
   "name": "python",
   "nbconvert_exporter": "python",
   "pygments_lexer": "ipython3",
   "version": "3.9.5"
  },
  "orig_nbformat": 4,
  "vscode": {
   "interpreter": {
    "hash": "565170522d23a2521d7a780d65f3ba404858b6b2c2a1aa4cc4afa9e481b8c202"
   }
  }
 },
 "nbformat": 4,
 "nbformat_minor": 2
}
