{
 "cells": [
  {
   "cell_type": "code",
   "execution_count": null,
   "metadata": {},
   "outputs": [],
   "source": [
    "import numpy as np\n",
    "import matplotlib.pyplot as plt\n",
    "import sys\n",
    "\n",
    "sys.path.append('/drBigBoy/darkRadio/drlib/')\n",
    "import drlib as dr\n",
    "\n",
    "def dBm2Watts(dBmArr):\n",
    "    #input: power specrum array (in dBm)\n",
    "    #returns: power spectrum array (in Watts)\n",
    "    return 10**(dBmArr/10) / 1000\n",
    "\n"
   ]
  },
  {
   "cell_type": "code",
   "execution_count": null,
   "metadata": {},
   "outputs": [],
   "source": [
    "#import data\n",
    "\n",
    "#MHZ\n",
    "freqData = np.load('./run1_freqData_avgAll11776Spectra_gitignore.npy')\n",
    "#dBm. throw out DC bin\n",
    "roachNoisedBm = np.loadtxt('./TermExample_2E24FFT_50Term_1e3Averages_NoGain_10-18-22_gitignore.npy')[1:]\n",
    "#FFT units. throw out DC bin\n",
    "antData = np.load('./run1_antData_avgAll11776Spectra_gitignore.npy')[1:]\n",
    "termData = np.load('./run1_termData_avgAll11776Spectra_gitignore.npy')[1:]\n",
    "\n",
    "#convert spectra to dBm\n",
    "antDatadBm = dr.fft2dBm(antData)\n",
    "termDatadBm = dr.fft2dBm(termData)\n",
    "\n",
    "roachNoiseWatts = dBm2Watts(roachNoisedBm)\n",
    "antDataWatts = dBm2Watts(antDatadBm)\n",
    "termDataWatts = dBm2Watts(termDatadBm)\n"
   ]
  },
  {
   "cell_type": "code",
   "execution_count": null,
   "metadata": {},
   "outputs": [],
   "source": [
    "%matplotlib widget\n",
    "plt.close('all')\n",
    "\n",
    "plt.figure()\n",
    "plt.title('Linear Power')\n",
    "#plt.plot(freqData, roachNoiseWatts, label = 'ROACH Noise')\n",
    "#plt.plot(freqData,antDataWatts, label = 'Antenna*7e5 Gain')\n",
    "plt.plot(freqData,termDataWatts, label = 'Terminator*7e5 Gain, 11,776,000avg')\n",
    "#plt.ylim(0, 2e-9)\n",
    "plt.ylabel('Power (Watts)')\n",
    "plt.xlabel('Freq. (MHz)')\n",
    "plt.show()\n",
    "plt.legend(loc = 'upper left');\n",
    "\n",
    "\n",
    "plt.figure()\n",
    "plt.title('Terminator With and Without External Gain')\n",
    "plt.plot(freqData, roachNoisedBm, label = '20dB')\n",
    "#plt.plot(freqData,antDatadBm, label = 'Antenna+56dB Gain')\n",
    "plt.plot(freqData,termDatadBm, label = '56dB + 20dB')\n",
    "plt.ylabel('Power (dBm)')\n",
    "plt.xlabel('Freq. (MHz)')\n",
    "plt.legend(loc = 'upper left')\n",
    "plt.tight_layout();\n",
    "'''\n",
    "plt.figure()\n",
    "plt.title('dB_(arb) Power')\n",
    "plt.plot(freqData, roachNoisedBm + 14, label = 'ROACH Noise+14dB')\n",
    "#plt.plot(freqData,antDatadBm, label = 'Antenna+56dB Gain')\n",
    "plt.plot(freqData,termDatadBm, label = 'Terminator+56dB Gain')\n",
    "plt.ylabel('Power + constatant (dB)')\n",
    "plt.xlabel('Freq. (MHz)')\n",
    "#plt.legend()\n",
    "#plt.show()\n",
    "'''"
   ]
  },
  {
   "cell_type": "code",
   "execution_count": null,
   "metadata": {},
   "outputs": [],
   "source": [
    "from scipy import signal\n",
    "%matplotlib widget\n",
    "\n",
    "# Sampling rate such that the total amount of data is 1s\n",
    "fs = len(antData)\n",
    "\n",
    "# Cutoff in number of bins\n",
    "fc = 30\n",
    "\n",
    "# Normalize the frequency in term of Nyquist\n",
    "fcNorm = 2./(fc)\n",
    "\n",
    "# Create a 6th-order Butterworth filter - returns numerator (b) and denominator (a) polynomials of the IIR filter\n",
    "b, a = signal.butter(6, fcNorm, 'highpass', analog = False)\n",
    "\n",
    "\n",
    "# Apply the Butterworth filter to the acquired data that has been corrected for the \n",
    "# noise power of the amplifiers and the gain of the amplifiers\n",
    "filteredData = signal.filtfilt(b, a, termDataWatts[:])\n",
    "\n",
    "filteredDataMean = filteredData.mean()\n",
    "filteredDataStd = filteredData[1000000:1010000].std()\n",
    "filteredDataThresh = filteredDataMean + 5 * filteredDataStd\n",
    "\n",
    "\n",
    "startFreq = 50 #Mhz\n",
    "startFreqIdx = int(startFreq/300 * len(freqData))\n",
    "\n",
    "\n",
    "\n",
    "stopFreq = 149.99 #Mhz\n",
    "stopFreqIdx = int(stopFreq/300 * len(freqData))\n",
    "\n",
    "#boolian arr\n",
    "print('example of bool arr', filteredData > filteredDataThresh)\n",
    "#vectorized function (sum)\n",
    "print('total number of signals > thresh = ', (filteredData > filteredDataThresh).sum())\n",
    "#only look at freq > 50Mhz\n",
    "print('number of signals > thresh, above 50MHz = ',(filteredData[startFreqIdx:] > filteredDataThresh).sum())\n",
    "#only look at freq in some range\n",
    "print('number of signals > thresh = ',(filteredData[startFreqIdx:stopFreqIdx] > filteredDataThresh).sum())\n",
    "\n",
    "plt.close('all')\n",
    "plt.figure()\n",
    "plt.title('Filterd Power and 5 $\\sigma$ limit')\n",
    "plt.plot((freqData), (filteredData))\n",
    "plt.plot((0, 300), (filteredDataThresh, filteredDataThresh), 'r--', label = '5$\\sigma$ Limit')\n",
    "plt.xlabel('Frequency (MHz)')\n",
    "plt.ylabel('Filtered Power')\n",
    "plt.legend()\n",
    "plt.show()"
   ]
  },
  {
   "cell_type": "code",
   "execution_count": null,
   "metadata": {},
   "outputs": [],
   "source": [
    "filteredDataMean = filteredData.mean()\n",
    "filteredDataStd = filteredData.std()\n",
    "filteredDataThresh = filteredDataMean + 5 * filteredDataStd"
   ]
  },
  {
   "cell_type": "code",
   "execution_count": null,
   "metadata": {},
   "outputs": [],
   "source": []
  }
 ],
 "metadata": {
  "kernelspec": {
   "display_name": "Python 3.9.5 ('base')",
   "language": "python",
   "name": "python3"
  },
  "language_info": {
   "codemirror_mode": {
    "name": "ipython",
    "version": 3
   },
   "file_extension": ".py",
   "mimetype": "text/x-python",
   "name": "python",
   "nbconvert_exporter": "python",
   "pygments_lexer": "ipython3",
   "version": "3.9.5"
  },
  "orig_nbformat": 4,
  "vscode": {
   "interpreter": {
    "hash": "565170522d23a2521d7a780d65f3ba404858b6b2c2a1aa4cc4afa9e481b8c202"
   }
  }
 },
 "nbformat": 4,
 "nbformat_minor": 2
}
