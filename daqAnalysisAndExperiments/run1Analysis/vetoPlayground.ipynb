{
 "cells": [
  {
   "cell_type": "code",
   "execution_count": null,
   "metadata": {},
   "outputs": [],
   "source": [
    "import numpy as np\n",
    "import pandas as pd\n",
    "import h5py\n",
    "import matplotlib.pyplot as plt\n",
    "import os\n",
    "import re\n",
    "import sys\n",
    "from datetime import datetime\n"
   ]
  },
  {
   "cell_type": "code",
   "execution_count": null,
   "metadata": {},
   "outputs": [],
   "source": [
    "#pack all veto data into DF\n",
    "\n",
    "rigolDfTemp = pd.DataFrame()\n",
    "rigolDf = pd.DataFrame()\n",
    "\n",
    "dataDir = '/drBiggerBoy/drData/Data/'\n",
    "fileList = os.listdir(dataDir)\n",
    "fileList.sort(key=lambda f: int(re.sub('\\D', '', f)))\n",
    "numFiles = 0\n",
    "numMeasData = 0\n",
    "numRigolSpec = 0\n",
    "\n",
    "\n",
    "for file in fileList:\n",
    "    dataset = h5py.File(dataDir +  file, 'r')\n",
    "    numFiles += 1\n",
    "    for measData in dataset:\n",
    "        #print(measData)\n",
    "        measDataSubKeys = h5py.File(dataDir +  file, 'r')[measData].keys()\n",
    "        numMeasData += 1\n",
    "        for key in measDataSubKeys:\n",
    "            if key[0] == 'R':\n",
    "                timeStamp = datetime.strptime(h5py.File(dataDir +  file, 'r')[measData][key].attrs['time'], '%Y-%m-%d %H:%M:%S.%f')\n",
    "                #print(timeStamp)\n",
    "                rigolDfTemp[timeStamp] = h5py.File(dataDir +  file, 'r')[measData][key]\n",
    "                numRigolSpec += 1\n",
    "\n",
    "rigolDf = rigolDfTemp.copy()\n",
    "\n",
    "print('number of files = ', numFiles)\n",
    "print('number of meas data = ', numMeasData)\n",
    "print('number of Rigol spectra = ', numRigolSpec)"
   ]
  },
  {
   "cell_type": "code",
   "execution_count": null,
   "metadata": {},
   "outputs": [],
   "source": [
    "print('df takes ', sys.getsizeof(rigolDf)/1e6, 'MB')"
   ]
  },
  {
   "cell_type": "code",
   "execution_count": null,
   "metadata": {},
   "outputs": [],
   "source": [
    "rigolDf['Frequency'] = np.linspace(0,300,10000)\n",
    "rigolDf.set_index('Frequency')"
   ]
  },
  {
   "cell_type": "code",
   "execution_count": null,
   "metadata": {},
   "outputs": [],
   "source": [
    "plt.close('all')\n",
    "\n",
    "rigolDf.iloc[:, 1].plot()\n",
    "rigolDf.mean(axis=1).plot()\n"
   ]
  },
  {
   "cell_type": "code",
   "execution_count": null,
   "metadata": {},
   "outputs": [],
   "source": [
    "plt.close('all')\n",
    "plt.figure()\n",
    "plt.plot(rigolDf['Frequency'], rigolDf.mean(axis=1))\n"
   ]
  },
  {
   "cell_type": "code",
   "execution_count": null,
   "metadata": {},
   "outputs": [],
   "source": [
    "rigol = dataset['measdata_11702']['RIGOL_0']\n",
    "rigolNP = np.asarray(rigol)\n",
    "%matplotlib widget\n",
    "plt.plot(np.linspace(0,300, 10000), rigolNP)"
   ]
  },
  {
   "cell_type": "code",
   "execution_count": null,
   "metadata": {},
   "outputs": [],
   "source": []
  }
 ],
 "metadata": {
  "kernelspec": {
   "display_name": "Python 3.9.5 ('base')",
   "language": "python",
   "name": "python3"
  },
  "language_info": {
   "codemirror_mode": {
    "name": "ipython",
    "version": 3
   },
   "file_extension": ".py",
   "mimetype": "text/x-python",
   "name": "python",
   "nbconvert_exporter": "python",
   "pygments_lexer": "ipython3",
   "version": "3.9.5"
  },
  "orig_nbformat": 4,
  "vscode": {
   "interpreter": {
    "hash": "565170522d23a2521d7a780d65f3ba404858b6b2c2a1aa4cc4afa9e481b8c202"
   }
  }
 },
 "nbformat": 4,
 "nbformat_minor": 2
}
