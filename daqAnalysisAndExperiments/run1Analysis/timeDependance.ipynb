{
 "cells": [
  {
   "cell_type": "markdown",
   "metadata": {},
   "source": [
    "This notebook is started with the intention of looking at time dependance. It was created after the new hdf5 datascructure was created."
   ]
  },
  {
   "cell_type": "code",
   "execution_count": null,
   "metadata": {},
   "outputs": [],
   "source": [
    "import numpy as np\n",
    "import matplotlib.pyplot as plt\n",
    "import h5py\n",
    "import pandas as pd\n",
    "\n",
    "sys.path.insert(0, '../../drlib')\n",
    "import drlib as dr\n",
    "\n",
    "%matplotlib widget"
   ]
  },
  {
   "cell_type": "code",
   "execution_count": null,
   "metadata": {},
   "outputs": [],
   "source": [
    "antData     = np.load('run1_antData_avgAll11776Spectra_gitignore.npy')\n",
    "termData    = np.load('run1_termData_avgAll11776Spectra_gitignore.npy')\n",
    "diffData    = dr.fft2Watts(antData) - dr.fft2Watts(termData)\n",
    "\n",
    "plt.close('all')\n",
    "plt.figure()\n",
    "plt.plot(diffData[1:])"
   ]
  },
  {
   "cell_type": "code",
   "execution_count": null,
   "metadata": {},
   "outputs": [],
   "source": [
    "sigTimeArr = np.zeros(11776)\n",
    "vetoTimeArr = np.zeros(11776)\n",
    "\n",
    "database = pd.read_hdf('/drBiggerBoy/drData/run1Data/preProcDataSet.hdf5', 'database_DF')\n",
    "f = h5py.File('/drBiggerBoy/drData/run1Data/preProcDataSet.hdf5', 'r')\n",
    "\n",
    "for i in range(11776):\n",
    "    sigTimeArr[i] = f[str(i)]['diffSpec_W'][5368711]\n",
    "    vetoTimeArr[i] = f[str(i)]['rigolSpec_W'][6400]\n",
    "\n",
    "print(sigTimeArr.mean())\n"
   ]
  },
  {
   "cell_type": "code",
   "execution_count": null,
   "metadata": {},
   "outputs": [],
   "source": [
    "plt.close('all')\n",
    "plt.figure()\n",
    "plt.plot(database.index, sigTimeArr)\n",
    "plt.plot(database.index, vetoTimeArr*100)"
   ]
  },
  {
   "cell_type": "code",
   "execution_count": null,
   "metadata": {},
   "outputs": [],
   "source": [
    "plt.close('all')\n",
    "plt.figure()\n",
    "plt.plot(database.index)"
   ]
  },
  {
   "cell_type": "code",
   "execution_count": null,
   "metadata": {},
   "outputs": [],
   "source": []
  }
 ],
 "metadata": {
  "kernelspec": {
   "display_name": "Python 3.9.5 ('base')",
   "language": "python",
   "name": "python3"
  },
  "language_info": {
   "codemirror_mode": {
    "name": "ipython",
    "version": 3
   },
   "file_extension": ".py",
   "mimetype": "text/x-python",
   "name": "python",
   "nbconvert_exporter": "python",
   "pygments_lexer": "ipython3",
   "version": "3.9.5"
  },
  "orig_nbformat": 4,
  "vscode": {
   "interpreter": {
    "hash": "565170522d23a2521d7a780d65f3ba404858b6b2c2a1aa4cc4afa9e481b8c202"
   }
  }
 },
 "nbformat": 4,
 "nbformat_minor": 2
}
