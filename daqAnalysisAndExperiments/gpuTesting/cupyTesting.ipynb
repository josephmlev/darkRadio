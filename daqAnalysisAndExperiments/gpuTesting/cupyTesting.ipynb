{
 "cells": [
  {
   "cell_type": "code",
   "execution_count": null,
   "metadata": {},
   "outputs": [],
   "source": [
    "import cupy as cp\n",
    "import numpy as np\n",
    "import torch\n",
    "import time\n",
    "import cupy as cp\n",
    "import cupyx.scipy.fft as cufft\n",
    "import scipy.fft\n",
    "scipy.fft.set_global_backend(cufft)\n",
    "\n",
    "mempool = cp._default_memory_pool"
   ]
  },
  {
   "cell_type": "code",
   "execution_count": null,
   "metadata": {},
   "outputs": [],
   "source": [
    "shape = [2**22, 2**23, 2**24, 2**25, 2** 26, 2**27, 2**28, 2**29]\n",
    "for shape in shape:\n",
    "    print('FFT size = 2^', np.log2(shape))\n",
    "    print(shape/2e9)"
   ]
  },
  {
   "cell_type": "code",
   "execution_count": null,
   "metadata": {},
   "outputs": [],
   "source": [
    "shape = [2**22, 2**23, 2**24, 2**25, 2** 26, 2**27, 2**28, 2**29]\n",
    "\n",
    "for shape in shape:\n",
    "    a = cp.random.random(shape).astype(cp.int8)\n",
    "    print('FFT size = 2^', np.log2(shape))\n",
    "    print('Time budget assuming 2GHz sample', shape/2e9*1e3, 'ms')\n",
    "    %timeit b=cp.fft.rfft(a)\n",
    "    time.sleep(0)\n",
    "    print()\n",
    "    del a\n",
    "    cp._default_memory_pool.free_all_blocks()\n"
   ]
  },
  {
   "cell_type": "code",
   "execution_count": null,
   "metadata": {},
   "outputs": [],
   "source": [
    "del a\n",
    "cp._default_memory_pool.free_all_blocks()"
   ]
  },
  {
   "cell_type": "code",
   "execution_count": null,
   "metadata": {},
   "outputs": [],
   "source": [
    "import cupy as cp\n",
    "import cupyx.scipy.fft as cufft\n",
    "import scipy.fft\n",
    "scipy.fft.set_global_backend(cufft)\n",
    "\n",
    "size = 2**29\n",
    "a = cp.random.random(size).astype(cp.float16)\n",
    "for i in range(1):    \n",
    "    b = scipy.fft.rfft(a) \n",
    "    time.sleep(.027/2 )\n",
    "\n",
    "\n",
    "time.sleep(0)\n",
    "\n",
    "#del a, b\n",
    "#cp._default_memory_pool.free_all_blocks()"
   ]
  },
  {
   "cell_type": "code",
   "execution_count": null,
   "metadata": {},
   "outputs": [],
   "source": [
    "print('2^', np.log2(mempool.used_bytes()), 'bytes')\n",
    "print(mempool.total_bytes()/1e6)\n"
   ]
  },
  {
   "cell_type": "code",
   "execution_count": null,
   "metadata": {},
   "outputs": [],
   "source": [
    "cache = cp.fft.config.get_plan_cache()\n",
    "cache.clear()\n",
    "a = b = None\n",
    "mempool.free_all_blocks()\n",
    "\n",
    "print(mempool.used_bytes())\n",
    "print(mempool.total_bytes())"
   ]
  },
  {
   "cell_type": "code",
   "execution_count": null,
   "metadata": {},
   "outputs": [],
   "source": []
  }
 ],
 "metadata": {
  "kernelspec": {
   "display_name": "Python 3 (ipykernel)",
   "language": "python",
   "name": "python3"
  },
  "language_info": {
   "codemirror_mode": {
    "name": "ipython",
    "version": 3
   },
   "file_extension": ".py",
   "mimetype": "text/x-python",
   "name": "python",
   "nbconvert_exporter": "python",
   "pygments_lexer": "ipython3",
   "version": "3.9.5"
  },
  "orig_nbformat": 4
 },
 "nbformat": 4,
 "nbformat_minor": 2
}
