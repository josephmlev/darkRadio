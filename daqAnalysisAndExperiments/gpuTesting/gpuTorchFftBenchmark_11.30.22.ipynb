{
 "cells": [
  {
   "cell_type": "code",
   "execution_count": 1,
   "metadata": {},
   "outputs": [
    {
     "name": "stderr",
     "output_type": "stream",
     "text": [
      "2022-12-04 12:06:01.511865: I tensorflow/core/platform/cpu_feature_guard.cc:193] This TensorFlow binary is optimized with oneAPI Deep Neural Network Library (oneDNN) to use the following CPU instructions in performance-critical operations:  SSE4.1 SSE4.2 AVX AVX2 FMA\n",
      "To enable them in other operations, rebuild TensorFlow with the appropriate compiler flags.\n"
     ]
    }
   ],
   "source": [
    "%matplotlib inline\n",
    "import tensorflow as tf\n",
    "import torch\n",
    "import cupy as cp\n",
    "import numpy as np\n",
    "import matplotlib.pyplot as plt\n",
    "import time"
   ]
  },
  {
   "cell_type": "code",
   "execution_count": 2,
   "metadata": {},
   "outputs": [
    {
     "name": "stdout",
     "output_type": "stream",
     "text": [
      "1\n",
      "0\n",
      "<torch.cuda.device object at 0x7f1bffe4a6d0>\n",
      "Quadro P4000\n",
      "PyTorch: 1.12.1\n"
     ]
    }
   ],
   "source": [
    "print(torch.cuda.device_count())\n",
    "print(torch.cuda.current_device())\n",
    "print(torch.cuda.device(0))\n",
    "print(torch.cuda.get_device_name(0))\n",
    "print('PyTorch: {}'.format(torch.__version__))"
   ]
  },
  {
   "cell_type": "code",
   "execution_count": 4,
   "metadata": {},
   "outputs": [
    {
     "ename": "RuntimeError",
     "evalue": "Unexpected error from cudaGetDeviceCount(). Did you run some cuda functions before calling NumCudaDevices() that might have already set an error? Error 804: forward compatibility was attempted on non supported HW",
     "output_type": "error",
     "traceback": [
      "\u001b[0;31m---------------------------------------------------------------------------\u001b[0m",
      "\u001b[0;31mRuntimeError\u001b[0m                              Traceback (most recent call last)",
      "\u001b[1;32m/drBigBoy/darkRadio/daqAnalysisAndExperiments/gpuTesting/gpuTorchFftBenchmark_11.30.22.ipynb Cell 3\u001b[0m in \u001b[0;36m<cell line: 2>\u001b[0;34m()\u001b[0m\n\u001b[1;32m      <a href='vscode-notebook-cell:/drBigBoy/darkRadio/daqAnalysisAndExperiments/gpuTesting/gpuTorchFftBenchmark_11.30.22.ipynb#W6sZmlsZQ%3D%3D?line=0'>1</a>\u001b[0m size \u001b[39m=\u001b[39m \u001b[39m2\u001b[39m\u001b[39m*\u001b[39m\u001b[39m*\u001b[39m\u001b[39m22\u001b[39m\n\u001b[0;32m----> <a href='vscode-notebook-cell:/drBigBoy/darkRadio/daqAnalysisAndExperiments/gpuTesting/gpuTorchFftBenchmark_11.30.22.ipynb#W6sZmlsZQ%3D%3D?line=1'>2</a>\u001b[0m dataTensor \u001b[39m=\u001b[39m torch\u001b[39m.\u001b[39;49mcuda\u001b[39m.\u001b[39;49mFloatTensor(size)\n\u001b[1;32m      <a href='vscode-notebook-cell:/drBigBoy/darkRadio/daqAnalysisAndExperiments/gpuTesting/gpuTorchFftBenchmark_11.30.22.ipynb#W6sZmlsZQ%3D%3D?line=2'>3</a>\u001b[0m torch\u001b[39m.\u001b[39mrandn(size)\n\u001b[1;32m      <a href='vscode-notebook-cell:/drBigBoy/darkRadio/daqAnalysisAndExperiments/gpuTesting/gpuTorchFftBenchmark_11.30.22.ipynb#W6sZmlsZQ%3D%3D?line=3'>4</a>\u001b[0m get_ipython()\u001b[39m.\u001b[39mrun_line_magic(\u001b[39m'\u001b[39m\u001b[39mtimeit\u001b[39m\u001b[39m'\u001b[39m, \u001b[39m'\u001b[39m\u001b[39mtorch.fft.fft(dataTensor)\u001b[39m\u001b[39m'\u001b[39m)\n",
      "File \u001b[0;32m~/miniconda3/lib/python3.9/site-packages/torch/cuda/__init__.py:217\u001b[0m, in \u001b[0;36m_lazy_init\u001b[0;34m()\u001b[0m\n\u001b[1;32m    213\u001b[0m     \u001b[39mraise\u001b[39;00m \u001b[39mAssertionError\u001b[39;00m(\n\u001b[1;32m    214\u001b[0m         \u001b[39m\"\u001b[39m\u001b[39mlibcudart functions unavailable. It looks like you have a broken build?\u001b[39m\u001b[39m\"\u001b[39m)\n\u001b[1;32m    215\u001b[0m \u001b[39m# This function throws if there's a driver initialization error, no GPUs\u001b[39;00m\n\u001b[1;32m    216\u001b[0m \u001b[39m# are found or any other error occurs\u001b[39;00m\n\u001b[0;32m--> 217\u001b[0m torch\u001b[39m.\u001b[39;49m_C\u001b[39m.\u001b[39;49m_cuda_init()\n\u001b[1;32m    218\u001b[0m \u001b[39m# Some of the queued calls may reentrantly call _lazy_init();\u001b[39;00m\n\u001b[1;32m    219\u001b[0m \u001b[39m# we need to just return without initializing in that case.\u001b[39;00m\n\u001b[1;32m    220\u001b[0m \u001b[39m# However, we must not let any *other* threads in!\u001b[39;00m\n\u001b[1;32m    221\u001b[0m _tls\u001b[39m.\u001b[39mis_initializing \u001b[39m=\u001b[39m \u001b[39mTrue\u001b[39;00m\n",
      "\u001b[0;31mRuntimeError\u001b[0m: Unexpected error from cudaGetDeviceCount(). Did you run some cuda functions before calling NumCudaDevices() that might have already set an error? Error 804: forward compatibility was attempted on non supported HW"
     ]
    }
   ],
   "source": [
    "size = 2**22\n",
    "dataTensor = torch.cuda.FloatTensor(size)\n",
    "torch.randn(size)\n",
    "%timeit torch.fft.fft(dataTensor)\n",
    " \n",
    "del dataTensor\n",
    "torch.cuda.empty_cache()"
   ]
  },
  {
   "cell_type": "code",
   "execution_count": null,
   "metadata": {},
   "outputs": [],
   "source": [
    "size = 2**30\n",
    "dataTensor = torch.cuda.FloatTensor(size)\n",
    "torch.randn(size)\n",
    "\n",
    "for i in range(100):\n",
    "    torch.fft.fft(dataTensor)\n",
    "\n",
    "print('done')\n",
    "time.sleep(20)\n",
    "for i in range(100):\n",
    "    torch.fft.fft(dataTensor)\n",
    "del dataTensor\n",
    "torch.cuda.empty_cache()"
   ]
  },
  {
   "cell_type": "code",
   "execution_count": 8,
   "metadata": {},
   "outputs": [],
   "source": [
    "size = 2**30\n",
    "dataTensor = torch.cuda.FloatTensor(size)\n",
    "torch.randn(size)\n",
    "b = torch.fft.fft(dataTensor)\n",
    "\n",
    "time.sleep(5)\n",
    "dataTensor = None\n",
    "torch.cuda.empty_cache()"
   ]
  },
  {
   "cell_type": "code",
   "execution_count": null,
   "metadata": {},
   "outputs": [],
   "source": [
    "size = 2**30\n",
    "dataTensor = torch.cuda.FloatTensor(size)\n",
    "torch.randn(size)\n",
    "\n",
    "for i in range(100):\n",
    "    torch.fft.fft(dataTensor)\n",
    "\n",
    "print('done')\n",
    "time.sleep(20)\n",
    "for i in range(100):\n",
    "    torch.fft.fft(dataTensor)\n",
    "del dataTensor\n",
    "torch.cuda.empty_cache()"
   ]
  }
 ],
 "metadata": {
  "kernelspec": {
   "display_name": "Python 3 (ipykernel)",
   "language": "python",
   "name": "python3"
  },
  "language_info": {
   "codemirror_mode": {
    "name": "ipython",
    "version": 3
   },
   "file_extension": ".py",
   "mimetype": "text/x-python",
   "name": "python",
   "nbconvert_exporter": "python",
   "pygments_lexer": "ipython3",
   "version": "3.9.5"
  },
  "orig_nbformat": 4,
  "vscode": {
   "interpreter": {
    "hash": "565170522d23a2521d7a780d65f3ba404858b6b2c2a1aa4cc4afa9e481b8c202"
   }
  }
 },
 "nbformat": 4,
 "nbformat_minor": 2
}
