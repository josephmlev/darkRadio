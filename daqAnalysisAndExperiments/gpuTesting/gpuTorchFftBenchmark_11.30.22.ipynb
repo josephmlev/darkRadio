{
 "cells": [
  {
   "cell_type": "code",
   "execution_count": 1,
   "metadata": {},
   "outputs": [
    {
     "name": "stderr",
     "output_type": "stream",
     "text": [
      "2022-12-01 00:41:44.991555: I tensorflow/core/platform/cpu_feature_guard.cc:193] This TensorFlow binary is optimized with oneAPI Deep Neural Network Library (oneDNN) to use the following CPU instructions in performance-critical operations:  SSE4.1 SSE4.2 AVX AVX2 FMA\n",
      "To enable them in other operations, rebuild TensorFlow with the appropriate compiler flags.\n"
     ]
    }
   ],
   "source": [
    "%matplotlib inline\n",
    "import tensorflow as tf\n",
    "import torch\n",
    "import cupy as cp\n",
    "import numpy as np\n",
    "import matplotlib.pyplot as plt\n",
    "import time"
   ]
  },
  {
   "cell_type": "code",
   "execution_count": 2,
   "metadata": {},
   "outputs": [
    {
     "name": "stdout",
     "output_type": "stream",
     "text": [
      "1\n",
      "0\n",
      "<torch.cuda.device object at 0x7f142c68c220>\n",
      "NVIDIA GeForce RTX 3090 Ti\n",
      "PyTorch: 1.12.1\n"
     ]
    }
   ],
   "source": [
    "print(torch.cuda.device_count())\n",
    "print(torch.cuda.current_device())\n",
    "print(torch.cuda.device(0))\n",
    "print(torch.cuda.get_device_name(0))\n",
    "print('PyTorch: {}'.format(torch.__version__))"
   ]
  },
  {
   "cell_type": "code",
   "execution_count": 32,
   "metadata": {},
   "outputs": [
    {
     "name": "stdout",
     "output_type": "stream",
     "text": [
      "done\n"
     ]
    }
   ],
   "source": [
    "size = 2**22\n",
    "dataTensor = torch.cuda.FloatTensor(size)\n",
    "torch.randn(size)\n",
    "%timeit torch.fft.fft(dataTensor)\n",
    " \n",
    "del dataTensor\n",
    "torch.cuda.empty_cache()"
   ]
  },
  {
   "cell_type": "code",
   "execution_count": null,
   "metadata": {},
   "outputs": [],
   "source": [
    "size = 2**30\n",
    "dataTensor = torch.cuda.FloatTensor(size)\n",
    "torch.randn(size)\n",
    "\n",
    "for i in range(100):\n",
    "    torch.fft.fft(dataTensor)\n",
    "\n",
    "print('done')\n",
    "time.sleep(20)\n",
    "for i in range(100):\n",
    "    torch.fft.fft(dataTensor)\n",
    "del dataTensor\n",
    "torch.cuda.empty_cache()"
   ]
  },
  {
   "cell_type": "code",
   "execution_count": 8,
   "metadata": {},
   "outputs": [],
   "source": [
    "size = 2**30\n",
    "dataTensor = torch.cuda.FloatTensor(size)\n",
    "torch.randn(size)\n",
    "b = torch.fft.fft(dataTensor)\n",
    "\n",
    "time.sleep(5)\n",
    "dataTensor = None\n",
    "torch.cuda.empty_cache()"
   ]
  },
  {
   "cell_type": "code",
   "execution_count": null,
   "metadata": {},
   "outputs": [],
   "source": []
  }
 ],
 "metadata": {
  "kernelspec": {
   "display_name": "Python 3 (ipykernel)",
   "language": "python",
   "name": "python3"
  },
  "orig_nbformat": 4,
  "vscode": {
   "interpreter": {
    "hash": "565170522d23a2521d7a780d65f3ba404858b6b2c2a1aa4cc4afa9e481b8c202"
   }
  }
 },
 "nbformat": 4,
 "nbformat_minor": 2
}
