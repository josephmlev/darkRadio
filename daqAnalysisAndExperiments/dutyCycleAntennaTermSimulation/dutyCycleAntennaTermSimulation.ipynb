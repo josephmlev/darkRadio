{
 "cells": [
  {
   "cell_type": "code",
   "execution_count": 1,
   "id": "01b3cea5",
   "metadata": {},
   "outputs": [],
   "source": [
    "import numpy as np\n",
    "import matplotlib.pyplot as plt\n",
    "import cupy"
   ]
  },
  {
   "cell_type": "code",
   "execution_count": null,
   "id": "46635a83",
   "metadata": {},
   "outputs": [],
   "source": [
    "mean = 0\n",
    "std = 1 \n",
    "num_samples = 100000\n",
    "\n",
    "noiseData = np.random.normal(mean, std, size=num_samples)\n",
    "\n",
    "plt.plot(noiseData)\n"
   ]
  },
  {
   "cell_type": "code",
   "execution_count": null,
   "id": "e2d562a6",
   "metadata": {},
   "outputs": [],
   "source": [
    "def genTimeData(spurFreq, \n",
    "            spurAmp,\n",
    "            mean,\n",
    "            std, \n",
    "            numSamples,\n",
    "            sampleRate):\n",
    "    \n",
    "    data = np.random.normal(mean, std, size=numSamples)\n",
    "    timeArr = np.asarray([i for i in range(0, numSamples)])/sampleRate\n",
    "    spur = spurAmp * np.sin(2*np.pi * spurFreq * timeArr)\n",
    "    return data + spur\n",
    "\n",
    "'''\n",
    "plt.plot(genTimeData(spurFreq = 299,\n",
    "                     spurAmp = 1,\n",
    "                     mean = 0,\n",
    "                     std = 0,\n",
    "                     numSamples = 100,\n",
    "                     sampleRate = 600))\n",
    "'''\n",
    "spurFreq = 125.64532344\n",
    "spurAmp = .2\n",
    "mean = 0\n",
    "std = 1\n",
    "numSamples = 1000\n",
    "sampleRate = 600\n",
    "timeArr = np.asarray([i for i in range(0, numSamples)])/sampleRate\n",
    "\n",
    "timeData = genTimeData(spurFreq, \n",
    "            spurAmp,\n",
    "            mean,\n",
    "            std, \n",
    "            numSamples,\n",
    "            sampleRate)\n",
    "\n",
    "fft = np.fft.fft(timeData)\n",
    "magFft = np.abs(fft[1:(numSamples//2)]) #throw out DC and second half of fft from imaginary part \n",
    "powerSpec = 2*magFft**2 \n",
    "\n",
    "fftFreqs = np.linspace(0, sampleRate//2, numSamples//2)[1:]\n",
    "#print(fftFreqs)\n",
    "\n",
    "#plt.plot( fft)\n",
    "plt.figure()\n",
    "plt.plot(timeData)\n",
    "plt.figure()\n",
    "plt.plot(fftFreqs, powerSpec)\n",
    "#magFft\n",
    "\n"
   ]
  },
  {
   "cell_type": "code",
   "execution_count": 2,
   "id": "6b2ee770",
   "metadata": {},
   "outputs": [],
   "source": [
    "class genData:\n",
    "    '''\n",
    "    Inputs\n",
    "    ------------------------\n",
    "    sigFreqs: array-like\n",
    "        Frequencies to generate signals. \n",
    "        [MHz] \n",
    "    sigAmps: array-like\n",
    "        Amplitudes for signals. \n",
    "        Units linear and proportional to voltage, but arbitrary\n",
    "        Must be same length as sigFreqs \n",
    "    mean: float\n",
    "        mean value for noise\n",
    "    std: float\n",
    "        standard deviation of noise\n",
    "    numSamples: float\n",
    "        numbers of samples to capture. Twice as long as the fft\n",
    "    sampleRate: float\n",
    "        rate samples are captured \n",
    "        [MHz]\n",
    "    numAvg: int\n",
    "        number of averages to be computed using averaging methods\n",
    "    \n",
    "    \n",
    "    Attributes\n",
    "    ------------------------\n",
    "    timeArr: np array\n",
    "        array of times which signal is sampled by ADC\n",
    "        [us]\n",
    "    freqs: np array\n",
    "        frequencies corosponding to bins of fft\n",
    "        [MHz]\n",
    "    \n",
    "    '''\n",
    "    def __init__(self,\n",
    "            sigFreqs, \n",
    "            sigAmps,\n",
    "            mean,\n",
    "            std, \n",
    "            numSamples,\n",
    "            sampleRate,\n",
    "            numAvg):\n",
    "        \n",
    "        #check for valid args\n",
    "        if len(sigFreqs) != len(sigAmps):\n",
    "            raise ValueError('sigFreqs and sigAmps must be same length')\n",
    "        \n",
    "        #assign attributes to args\n",
    "        self.sigFreqs = sigFreqs\n",
    "        self.sigAmps = sigAmps\n",
    "        self.mean = mean\n",
    "        self.std = std\n",
    "        self.numSamples = numSamples\n",
    "        self.numAvg = numAvg\n",
    "        \n",
    "        #compute additional attributes\n",
    "        self._halfNumSamples = self.numSamples//2\n",
    "        self.sampleRate = sampleRate\n",
    "        self.timeArr = np.asarray([i for i in range(0, self.numSamples)])/self.sampleRate\n",
    "        self._signals = np.zeros(len(self.timeArr))\n",
    "        for i in range(len(self.sigFreqs)):\n",
    "            self._signals += self.sigAmps[i] * np.sin(2*np.pi * self.sigFreqs[i] * self.timeArr)\n",
    "        self.freqs = np.linspace(0, self.sampleRate//2, self.numSamples//2)[1:]\n",
    "        self.genTimeData()\n",
    "        \n",
    "        '''\n",
    "        ###Testing 8bit###\n",
    "        self._signals = np.zeros(len(self.timeArr), dtype = np. int8)\n",
    "        for i in range(len(self.sigFreqs)):\n",
    "            self._signals += np.rint(self.sigAmps[i] * np.sin(2*np.pi * self.sigFreqs[i] * self.timeArr))\n",
    "        '''\n",
    "        \n",
    "    def genTimeData(self):\n",
    "        '''\n",
    "        Seperates all math which relies on random noise. \n",
    "        Ran everytime new data is 'acquired', so slightly optimized\n",
    "        '''\n",
    "        noiseData = np.random.normal(self.mean, self.std, size=self.numSamples)\n",
    "        self.timeData = noiseData + self._signals\n",
    "        \n",
    "        #throw out DC and second half of fft from imaginary part \n",
    "        self.fft = np.abs(np.fft.fft(self.timeData)[1:(self._halfNumSamples)])  \n",
    "        \n",
    "        self.powSpec = 2*self.fft**2\n",
    "        \n",
    "        #uncomment to save powSpec in dB. about 20ms/call for 2**24 pt fft\n",
    "        #self.powSpecdB = 10*np.log10(self.powSpec)\n",
    "        \n",
    "    def genTimeDataGpu(self):\n",
    "        '''\n",
    "        Seperates all math which relies on random noise. \n",
    "        Ran everytime new data is 'acquired', so slightly optimized\n",
    "        '''\n",
    "        noiseData = np.random.normal(self.mean, self.std, size=self.numSamples)\n",
    "        self.timeData = noiseData + self._signals\n",
    "        \n",
    "        #throw out DC and second half of fft from imaginary part \n",
    "        self.fft = np.abs(cupy.fft.fft(self.timeData)[1:(self._halfNumSamples)])  \n",
    "        \n",
    "        self.powSpec = 2*self.fft**2\n",
    "        \n",
    "        #uncomment to save powSpec in dB. about 20ms/call for 2**24 pt fft\n",
    "        #self.powSpecdB = 10*np.log10(self.powSpec)\n",
    "        \n",
    "    def genTimeData8Bit(self):\n",
    "        noiseData = np.asarray(\n",
    "            np.rint(np.random.normal(mean, std, 2**24)), dtype = np. int8)\n",
    "        self.timeData = noiseData + self._signals\n",
    "        \n",
    "        #throw out DC and second half of fft from imaginary part \n",
    "        self.fft = np.abs(np.fft.fft(self.timeData)[1:(self._halfNumSamples)])  \n",
    "        \n",
    "        self.powSpec = 2*self.fft**2\n",
    "        \n",
    "        #uncomment to save powSpec in dB. about 20ms/call for 2**24 pt fft\n",
    "        #self.powSpecdB = 10*np.log10(self.powSpec)\n",
    "\n",
    "        \n",
    "    def computePowAvg(self):\n",
    "        self.powAvg = self.powSpec\n",
    "        for i in range(1, self.numAvg):\n",
    "            #print(i)\n",
    "            self.genTimeData()\n",
    "            self.powAvg = self.powAvg * (i-1)/i + self.powSpec/i\n",
    "\n",
    "    def setNumAvg(self, numAvg):\n",
    "        self.numAvg = numAvg\n"
   ]
  },
  {
   "cell_type": "code",
   "execution_count": null,
   "id": "b5e69d62",
   "metadata": {},
   "outputs": [],
   "source": []
  },
  {
   "cell_type": "code",
   "execution_count": 106,
   "id": "a57afcb7",
   "metadata": {},
   "outputs": [
    {
     "name": "stdout",
     "output_type": "stream",
     "text": [
      "0.9999999999999994\n"
     ]
    },
    {
     "data": {
      "text/plain": [
       "256"
      ]
     },
     "execution_count": 106,
     "metadata": {},
     "output_type": "execute_result"
    }
   ],
   "source": [
    "\n",
    "mean = 0\n",
    "std = 30\n",
    "signals = np.zeros(1000, dtype = np. int8)\n",
    "ints8bit = [i for i in range(-128,128)]\n",
    "gaussList = [np.exp(-1/2 * (((x - mean)/std))**2)\n",
    "           for x in ints8bit]\n",
    "normilizedGaussList = gaussList / sum(gaussList)\n",
    "\n",
    "ints8bit = np.asarray(ints8bit, np. int8)\n",
    "normilizedGaussArr = np.asarray(normilizedGaussList, dtype = np. float16)\n",
    "plt.plot(ints8bit, gaussList)\n",
    "print(sum(normilizedGaussList))\n",
    "len(gaussList)"
   ]
  },
  {
   "cell_type": "code",
   "execution_count": 107,
   "id": "991e4733",
   "metadata": {},
   "outputs": [
    {
     "data": {
      "text/plain": [
       "numpy.int8"
      ]
     },
     "execution_count": 107,
     "metadata": {},
     "output_type": "execute_result"
    }
   ],
   "source": [
    "type(ints8bit[3])"
   ]
  },
  {
   "cell_type": "code",
   "execution_count": 108,
   "id": "bf7e3215",
   "metadata": {},
   "outputs": [
    {
     "name": "stdout",
     "output_type": "stream",
     "text": [
      "739 ms ± 914 µs per loop (mean ± std. dev. of 7 runs, 1 loop each)\n"
     ]
    }
   ],
   "source": [
    "%%timeit\n",
    "np.random.choice(ints8bit, 2**24, p = normilizedGaussList)\n"
   ]
  },
  {
   "cell_type": "code",
   "execution_count": 109,
   "id": "ab045ac7",
   "metadata": {},
   "outputs": [
    {
     "name": "stdout",
     "output_type": "stream",
     "text": [
      "301 ms ± 241 µs per loop (mean ± std. dev. of 7 runs, 1 loop each)\n"
     ]
    }
   ],
   "source": [
    "%%timeit\n",
    "np.random.normal(mean, std, 2**24)"
   ]
  },
  {
   "cell_type": "code",
   "execution_count": 111,
   "id": "8a88fd27",
   "metadata": {
    "scrolled": false
   },
   "outputs": [
    {
     "name": "stdout",
     "output_type": "stream",
     "text": [
      "326 ms ± 436 µs per loop (mean ± std. dev. of 7 runs, 1 loop each)\n"
     ]
    }
   ],
   "source": [
    "%%timeit\n",
    "np.rint(np.random.normal(mean, std, 2**24))"
   ]
  },
  {
   "cell_type": "code",
   "execution_count": 112,
   "id": "c5b76b32",
   "metadata": {
    "scrolled": true
   },
   "outputs": [
    {
     "name": "stdout",
     "output_type": "stream",
     "text": [
      "335 ms ± 389 µs per loop (mean ± std. dev. of 7 runs, 1 loop each)\n"
     ]
    }
   ],
   "source": [
    "%%timeit\n",
    "np.asarray(np.rint(np.random.normal(mean, std, 2**24)), dtype = np. int8)"
   ]
  },
  {
   "cell_type": "code",
   "execution_count": 119,
   "id": "1e08c038",
   "metadata": {},
   "outputs": [
    {
     "data": {
      "text/plain": [
       "numpy.int8"
      ]
     },
     "execution_count": 119,
     "metadata": {},
     "output_type": "execute_result"
    }
   ],
   "source": [
    "type((np.asarray(np.rint(np.random.normal(mean, std, 2**24)), dtype = np. int8)[67]))"
   ]
  },
  {
   "cell_type": "code",
   "execution_count": 64,
   "id": "b9597af0",
   "metadata": {},
   "outputs": [],
   "source": [
    "myData = genData(sigFreqs = [123.456, 49.423],\n",
    "                     sigAmps = [.0001, .015],\n",
    "                     mean = 127,\n",
    "                     std = 30,\n",
    "                     numSamples = 2**24,\n",
    "                     sampleRate = 600,\n",
    "                     numAvg = 1)\n"
   ]
  },
  {
   "cell_type": "code",
   "execution_count": 5,
   "id": "e03ea656",
   "metadata": {},
   "outputs": [
    {
     "name": "stdout",
     "output_type": "stream",
     "text": [
      "6.61 µs ± 20.5 ns per loop (mean ± std. dev. of 7 runs, 100000 loops each)\n"
     ]
    }
   ],
   "source": [
    "%%timeit\n",
    "fftout = np.abs(np.fft.fft(myData.timeData)[1:300])"
   ]
  },
  {
   "cell_type": "code",
   "execution_count": 7,
   "id": "ade9fda1",
   "metadata": {},
   "outputs": [
    {
     "name": "stdout",
     "output_type": "stream",
     "text": [
      "13 µs ± 91.5 ns per loop (mean ± std. dev. of 7 runs, 100000 loops each)\n"
     ]
    }
   ],
   "source": [
    "%%timeitmyData.timeData\n",
    "timeDataGpu = cupy.asarray(myData.timeData)"
   ]
  },
  {
   "cell_type": "code",
   "execution_count": 6,
   "id": "464a96b0",
   "metadata": {},
   "outputs": [
    {
     "data": {
      "text/plain": [
       "cupy.core.core.ndarray"
      ]
     },
     "execution_count": 6,
     "metadata": {},
     "output_type": "execute_result"
    }
   ],
   "source": []
  },
  {
   "cell_type": "code",
   "execution_count": 8,
   "id": "8fa6dda1",
   "metadata": {},
   "outputs": [],
   "source": [
    "#%%timeit\n",
    "fftoutGpu = np.abs(cupy.fft.fft(timeDataGpu)[1:300])"
   ]
  },
  {
   "cell_type": "code",
   "execution_count": null,
   "id": "81fdde41",
   "metadata": {},
   "outputs": [],
   "source": [
    "np.abs(cupy.fft.fft(self.timeData)[1:(self._halfNumSamples)])"
   ]
  },
  {
   "cell_type": "code",
   "execution_count": null,
   "id": "c5ef9a7f",
   "metadata": {},
   "outputs": [],
   "source": [
    "#%%timeit\n",
    "myData.genTimeDataGpu()"
   ]
  },
  {
   "cell_type": "code",
   "execution_count": 9,
   "id": "bc0d76b9",
   "metadata": {},
   "outputs": [
    {
     "ename": "NameError",
     "evalue": "name 'fftOutGpu' is not defined",
     "output_type": "error",
     "traceback": [
      "\u001b[0;31m---------------------------------------------------------------------------\u001b[0m",
      "\u001b[0;31mNameError\u001b[0m                                 Traceback (most recent call last)",
      "\u001b[0;32m/tmp/ipykernel_2716068/4049855050.py\u001b[0m in \u001b[0;36m<module>\u001b[0;34m\u001b[0m\n\u001b[1;32m      1\u001b[0m \u001b[0mplt\u001b[0m\u001b[0;34m.\u001b[0m\u001b[0mfigure\u001b[0m\u001b[0;34m(\u001b[0m\u001b[0;34m)\u001b[0m\u001b[0;34m\u001b[0m\u001b[0;34m\u001b[0m\u001b[0m\n\u001b[0;32m----> 2\u001b[0;31m \u001b[0mplt\u001b[0m\u001b[0;34m.\u001b[0m\u001b[0mplot\u001b[0m\u001b[0;34m(\u001b[0m\u001b[0mmyData\u001b[0m\u001b[0;34m.\u001b[0m\u001b[0mfreqs\u001b[0m\u001b[0;34m,\u001b[0m \u001b[0;36m10\u001b[0m\u001b[0;34m*\u001b[0m\u001b[0mnp\u001b[0m\u001b[0;34m.\u001b[0m\u001b[0mlog10\u001b[0m\u001b[0;34m(\u001b[0m\u001b[0mfftOutGpu\u001b[0m\u001b[0;34m)\u001b[0m\u001b[0;34m)\u001b[0m\u001b[0;34m\u001b[0m\u001b[0;34m\u001b[0m\u001b[0m\n\u001b[0m",
      "\u001b[0;31mNameError\u001b[0m: name 'fftOutGpu' is not defined"
     ]
    },
    {
     "data": {
      "text/plain": [
       "<Figure size 432x288 with 0 Axes>"
      ]
     },
     "metadata": {},
     "output_type": "display_data"
    }
   ],
   "source": [
    "plt.figure()\n",
    "plt.plot(myData.freqs, 10*np.log10(fftmyData.timeDataOutGpu))"
   ]
  },
  {
   "cell_type": "code",
   "execution_count": 300,
   "id": "a7faa98d",
   "metadata": {},
   "outputs": [
    {
     "data": {
      "text/plain": [
       "[<matplotlib.lines.Line2D at 0x7f42e2bcf1f0>]"
      ]
     },
     "execution_count": 300,
     "metadata": {},
     "output_type": "execute_result"
    },
    {
     "data": {
      "image/png": "[encoded data removed]",
      "text/plain": [
       "<Figure size 432x288 with 1 Axes>"
      ]
     },
     "metadata": {
      "needs_background": "light"
     },
     "output_type": "display_data"
    },
    {
     "data": {
      "image/png": "[encoded data removed]",
      "text/plain": [
       "<Figure size 432x288 with 1 Axes>"
      ]
     },
     "metadata": {
      "needs_background": "light"
     },
     "output_type": "display_data"
    }
   ],
   "source": [
    "myData.genTimeData()\n",
    "myData.computePowAvg()\n",
    "\n",
    "plt.plot(myData.freqs, 10*np.log10(myData.powSpec))\n",
    "#plt.figure()\n",
    "#plt.plot(myData.freqs, myData.powSpec)\n",
    "#plt.figure()\n",
    "#plt.plot(myData.timeData)\n",
    "plt.figure()\n",
    "plt.plot(myData.freqs, 10*np.log10(myData.powAvg))"
   ]
  },
  {
   "cell_type": "code",
   "execution_count": 267,
   "id": "39db304f",
   "metadata": {},
   "outputs": [
    {
     "data": {
      "text/plain": [
       "<matplotlib.legend.Legend at 0x7f42e3157ac0>"
      ]
     },
     "execution_count": 267,
     "metadata": {},
     "output_type": "execute_result"
    },
    {
     "data": {
      "image/png": "[encoded data removed]",
      "text/plain": [
       "<Figure size 432x288 with 1 Axes>"
      ]
     },
     "metadata": {
      "needs_background": "light"
     },
     "output_type": "display_data"
    }
   ],
   "source": [
    "myData = genData(sigFreqs = [],\n",
    "                     sigAmps = [],\n",
    "                     mean = 0,\n",
    "                     std = .1,\n",
    "                     numSamples = 2**12,\n",
    "                     sampleRate = 600,\n",
    "                     numAvg = 300)\n",
    " \n",
    "stdList = []\n",
    "numAvgRange = range(1,10000,100)\n",
    "\n",
    "\n",
    "for i in numAvgRange:\n",
    "    myData.setNumAvg(i)\n",
    "    myData.genTimeData()\n",
    "    myData.computePowAvg()\n",
    "    stdList.append(myData.powAvg.std()/myData.powSpec.std())\n",
    "\n",
    "#plt.yscale('log')\n",
    "plt.title('std[number of averages] and 1/sqrt(number of averages)')\n",
    "plt.xlabel('number of averages')\n",
    "plt.ylabel('std and 1/sqrt(N)')\n",
    "plt.semilogy(numAvgRange, stdList, label = 'std')\n",
    "plt.semilogy(numAvgRange, (1/np.sqrt(numAvgRange)), label = '1/sqrt(N)')\n",
    "plt.legend()"
   ]
  },
  {
   "cell_type": "code",
   "execution_count": 155,
   "id": "3f9994bd",
   "metadata": {},
   "outputs": [],
   "source": [
    "termData = genData(sigFreqs = [150, 200, 250],\n",
    "                     sigAmps = [1, .1, .01],\n",
    "                     mean = 0,\n",
    "                     std = .1,\n",
    "                     numSamples = 2**12,\n",
    "                     sampleRate = 600,\n",
    "                     numAvg = 30000)\n",
    "\n",
    "antData = genData(sigFreqs = [123.456, 150, 200, 250],\n",
    "                     sigAmps = [.01, 1, .1, .01],\n",
    "                     mean = 0,\n",
    "                     std = .1,\n",
    "                     numSamples = 2**12,\n",
    "                     sampleRate = 600,\n",
    "                     numAvg = 30000)"
   ]
  },
  {
   "cell_type": "code",
   "execution_count": 156,
   "id": "05e24e8e",
   "metadata": {},
   "outputs": [
    {
     "name": "stderr",
     "output_type": "stream",
     "text": [
      "/tmp/ipykernel_2280108/3747434472.py:7: RuntimeWarning: invalid value encountered in log10\n",
      "  plt.plot(termData.freqs, 10*np.log10(dif))\n"
     ]
    },
    {
     "data": {
      "text/plain": [
       "[<matplotlib.lines.Line2D at 0x7f6c5be9b100>]"
      ]
     },
     "execution_count": 156,
     "metadata": {},
     "output_type": "execute_result"
    }
   ],
   "source": [
    "plt.close('all')\n",
    "plt.plot(antData.freqs, 10*np.log10(antData.powSpec))\n",
    "plt.plot(termData.freqs, 10*np.log10(termData.powSpec))\n",
    "\n",
    "dif = antData.powSpec - termData.powSpec\n",
    "plt.figure()\n",
    "plt.plot(termData.freqs, 10*np.log10(dif))\n"
   ]
  },
  {
   "cell_type": "code",
   "execution_count": 153,
   "id": "70bab96f",
   "metadata": {},
   "outputs": [
    {
     "name": "stderr",
     "output_type": "stream",
     "text": [
      "/tmp/ipykernel_2280108/2136921589.py:3: RuntimeWarning: invalid value encountered in log10\n",
      "  plt.plot(termData.freqs, 10*np.log10(dif))\n"
     ]
    },
    {
     "data": {
      "text/plain": [
       "[<matplotlib.lines.Line2D at 0x7f6c5c8e12e0>]"
      ]
     },
     "execution_count": 153,
     "metadata": {},
     "output_type": "execute_result"
    }
   ],
   "source": [
    "plt.close('all')\n",
    "dif = antData.powSpec - termData.powSpec\n",
    "plt.plot(termData.freqs, 10*np.log10(dif))"
   ]
  },
  {
   "cell_type": "code",
   "execution_count": 157,
   "id": "56c0c3cb",
   "metadata": {},
   "outputs": [
    {
     "name": "stderr",
     "output_type": "stream",
     "text": [
      "/tmp/ipykernel_2280108/250295076.py:3: RuntimeWarning: invalid value encountered in log10\n",
      "  plt.plot(termData.freqs, 10*np.log10(dif))\n"
     ]
    },
    {
     "data": {
      "text/plain": [
       "[<matplotlib.lines.Line2D at 0x7f6c5c8b50d0>]"
      ]
     },
     "execution_count": 157,
     "metadata": {},
     "output_type": "execute_result"
    }
   ],
   "source": [
    "plt.close('all')\n",
    "ratio = antData.powSpec / termData.powSpec\n",
    "plt.plot(termData.freqs, 10*np.log10(dif))"
   ]
  },
  {
   "cell_type": "code",
   "execution_count": 55,
   "id": "d7e83145",
   "metadata": {},
   "outputs": [],
   "source": [
    "ints8bit = [i for i in range(0,257)]\n",
    "ints2bit = [i for i in range(-1, 1)]"
   ]
  },
  {
   "cell_type": "code",
   "execution_count": 73,
   "id": "5d160600",
   "metadata": {},
   "outputs": [
    {
     "name": "stdout",
     "output_type": "stream",
     "text": [
      "621 ms ± 900 µs per loop (mean ± std. dev. of 7 runs, 1 loop each)\n"
     ]
    }
   ],
   "source": [
    "%%timeit\n",
    "np.asarray(np.digitize(myData.timeData, ints8bit), dtype = np. int8)"
   ]
  },
  {
   "cell_type": "code",
   "execution_count": 49,
   "id": "25c7163f",
   "metadata": {},
   "outputs": [
    {
     "data": {
      "text/plain": [
       "array([464.59093151, 468.91430861, 713.11999865, 380.76589512,\n",
       "       435.7988138 , 520.94506275, 658.02000649, 441.56457269,\n",
       "       470.12417575, 762.02175492, 399.65219687, 722.94909304,\n",
       "       453.33346402, 600.14601458, 425.11274783, 488.32732946])"
      ]
     },
     "execution_count": 49,
     "metadata": {},
     "output_type": "execute_result"
    }
   ],
   "source": [
    "myData.timeData"
   ]
  },
  {
   "cell_type": "code",
   "execution_count": 50,
   "id": "0b723a23",
   "metadata": {},
   "outputs": [
    {
     "data": {
      "text/plain": [
       "[0,\n",
       " 1,\n",
       " 2,\n",
       " 3,\n",
       " 4,\n",
       " 5,\n",
       " 6,\n",
       " 7,\n",
       " 8,\n",
       " 9,\n",
       " 10,\n",
       " 11,\n",
       " 12,\n",
       " 13,\n",
       " 14,\n",
       " 15,\n",
       " 16,\n",
       " 17,\n",
       " 18,\n",
       " 19,\n",
       " 20,\n",
       " 21,\n",
       " 22,\n",
       " 23,\n",
       " 24,\n",
       " 25,\n",
       " 26,\n",
       " 27,\n",
       " 28,\n",
       " 29,\n",
       " 30,\n",
       " 31,\n",
       " 32,\n",
       " 33,\n",
       " 34,\n",
       " 35,\n",
       " 36,\n",
       " 37,\n",
       " 38,\n",
       " 39,\n",
       " 40,\n",
       " 41,\n",
       " 42,\n",
       " 43,\n",
       " 44,\n",
       " 45,\n",
       " 46,\n",
       " 47,\n",
       " 48,\n",
       " 49,\n",
       " 50,\n",
       " 51,\n",
       " 52,\n",
       " 53,\n",
       " 54,\n",
       " 55,\n",
       " 56,\n",
       " 57,\n",
       " 58,\n",
       " 59,\n",
       " 60,\n",
       " 61,\n",
       " 62,\n",
       " 63,\n",
       " 64,\n",
       " 65,\n",
       " 66,\n",
       " 67,\n",
       " 68,\n",
       " 69,\n",
       " 70,\n",
       " 71,\n",
       " 72,\n",
       " 73,\n",
       " 74,\n",
       " 75,\n",
       " 76,\n",
       " 77,\n",
       " 78,\n",
       " 79,\n",
       " 80,\n",
       " 81,\n",
       " 82,\n",
       " 83,\n",
       " 84,\n",
       " 85,\n",
       " 86,\n",
       " 87,\n",
       " 88,\n",
       " 89,\n",
       " 90,\n",
       " 91,\n",
       " 92,\n",
       " 93,\n",
       " 94,\n",
       " 95,\n",
       " 96,\n",
       " 97,\n",
       " 98,\n",
       " 99,\n",
       " 100,\n",
       " 101,\n",
       " 102,\n",
       " 103,\n",
       " 104,\n",
       " 105,\n",
       " 106,\n",
       " 107,\n",
       " 108,\n",
       " 109,\n",
       " 110,\n",
       " 111,\n",
       " 112,\n",
       " 113,\n",
       " 114,\n",
       " 115,\n",
       " 116,\n",
       " 117,\n",
       " 118,\n",
       " 119,\n",
       " 120,\n",
       " 121,\n",
       " 122,\n",
       " 123,\n",
       " 124,\n",
       " 125,\n",
       " 126,\n",
       " 127,\n",
       " 128,\n",
       " 129,\n",
       " 130,\n",
       " 131,\n",
       " 132,\n",
       " 133,\n",
       " 134,\n",
       " 135,\n",
       " 136,\n",
       " 137,\n",
       " 138,\n",
       " 139,\n",
       " 140,\n",
       " 141,\n",
       " 142,\n",
       " 143,\n",
       " 144,\n",
       " 145,\n",
       " 146,\n",
       " 147,\n",
       " 148,\n",
       " 149,\n",
       " 150,\n",
       " 151,\n",
       " 152,\n",
       " 153,\n",
       " 154,\n",
       " 155,\n",
       " 156,\n",
       " 157,\n",
       " 158,\n",
       " 159,\n",
       " 160,\n",
       " 161,\n",
       " 162,\n",
       " 163,\n",
       " 164,\n",
       " 165,\n",
       " 166,\n",
       " 167,\n",
       " 168,\n",
       " 169,\n",
       " 170,\n",
       " 171,\n",
       " 172,\n",
       " 173,\n",
       " 174,\n",
       " 175,\n",
       " 176,\n",
       " 177,\n",
       " 178,\n",
       " 179,\n",
       " 180,\n",
       " 181,\n",
       " 182,\n",
       " 183,\n",
       " 184,\n",
       " 185,\n",
       " 186,\n",
       " 187,\n",
       " 188,\n",
       " 189,\n",
       " 190,\n",
       " 191,\n",
       " 192,\n",
       " 193,\n",
       " 194,\n",
       " 195,\n",
       " 196,\n",
       " 197,\n",
       " 198,\n",
       " 199,\n",
       " 200,\n",
       " 201,\n",
       " 202,\n",
       " 203,\n",
       " 204,\n",
       " 205,\n",
       " 206,\n",
       " 207,\n",
       " 208,\n",
       " 209,\n",
       " 210,\n",
       " 211,\n",
       " 212,\n",
       " 213,\n",
       " 214,\n",
       " 215,\n",
       " 216,\n",
       " 217,\n",
       " 218,\n",
       " 219,\n",
       " 220,\n",
       " 221,\n",
       " 222,\n",
       " 223,\n",
       " 224,\n",
       " 225,\n",
       " 226,\n",
       " 227,\n",
       " 228,\n",
       " 229,\n",
       " 230,\n",
       " 231,\n",
       " 232,\n",
       " 233,\n",
       " 234,\n",
       " 235,\n",
       " 236,\n",
       " 237,\n",
       " 238,\n",
       " 239,\n",
       " 240,\n",
       " 241,\n",
       " 242,\n",
       " 243,\n",
       " 244,\n",
       " 245,\n",
       " 246,\n",
       " 247,\n",
       " 248,\n",
       " 249,\n",
       " 250,\n",
       " 251,\n",
       " 252,\n",
       " 253,\n",
       " 254,\n",
       " 255,\n",
       " 256]"
      ]
     },
     "execution_count": 50,
     "metadata": {},
     "output_type": "execute_result"
    }
   ],
   "source": [
    "ints8bit"
   ]
  },
  {
   "cell_type": "code",
   "execution_count": null,
   "id": "87ac9211",
   "metadata": {},
   "outputs": [],
   "source": []
  }
 ],
 "metadata": {
  "kernelspec": {
   "display_name": "Python 3 (ipykernel)",
   "language": "python",
   "name": "python3"
  },
  "language_info": {
   "codemirror_mode": {
    "name": "ipython",
    "version": 3
   },
   "file_extension": ".py",
   "mimetype": "text/x-python",
   "name": "python",
   "nbconvert_exporter": "python",
   "pygments_lexer": "ipython3",
   "version": "3.9.5"
  }
 },
 "nbformat": 4,
 "nbformat_minor": 5
}
