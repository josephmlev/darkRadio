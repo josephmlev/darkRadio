{
 "cells": [
  {
   "cell_type": "code",
   "execution_count": 7,
   "metadata": {},
   "outputs": [],
   "source": [
    "import numpy as np\n",
    "import pandas as pd\n",
    "import scipy.stats as spstat\n",
    "dataDir     = './data/'\n",
    "\n",
    "import pandas as pd\n",
    "#pack E field DF\n",
    "# Manually defined headers based on the sample you provided\n",
    "headers = [\n",
    "    \"roll (m)\", \"yaw (m)\", \"pitch (m)\", \"freq (MHz)\", \n",
    "    \"E_x\",\n",
    "    \"E_y\",\n",
    "    \"E_z\"\n",
    "]\n",
    "\n",
    "# Read the file using the headers and consider multiple spaces as a delimiter\n",
    "file_path = \"eField_9_13_23.txt\"\n",
    "E_df = pd.read_csv(dataDir + file_path, delim_whitespace=True, names=headers, skiprows=5)\n",
    "\n",
    "# Convert string representation of complex numbers to actual complex numbers\n",
    "def to_complex(value):\n",
    "    return complex(value.replace('i', 'j'))\n",
    "\n",
    "columns_to_convert = headers[4:]  # Last three columns based on your sample\n",
    "\n",
    "def to_complex(value):\n",
    "    if isinstance(value, str) and ('i' in value or '+' in value or '-' in value):\n",
    "        return complex(value.replace('i', 'j'))\n",
    "    return value\n",
    "\n",
    "\n",
    "# Convert strings to complex numbers\n",
    "for col in columns_to_convert:\n",
    "    E_df[col] = E_df[col].apply(to_complex)\n",
    "\n",
    "# Convert complex numbers to their magnitudes\n",
    "E_df[columns_to_convert] = E_df[columns_to_convert].applymap(abs)"
   ]
  },
  {
   "cell_type": "code",
   "execution_count": 8,
   "metadata": {},
   "outputs": [
    {
     "name": "stdout",
     "output_type": "stream",
     "text": [
      "E_x:\n",
      "0.4713488213416364\n",
      "BootstrapResult(confidence_interval=ConfidenceInterval(low=0.46382962486214935, high=0.47896779161108083), standard_error=0.003866721167286478)\n",
      "E_y:\n",
      "0.5395484396134266\n",
      "BootstrapResult(confidence_interval=ConfidenceInterval(low=0.5317630663634096, high=0.5474575615927316), standard_error=0.0040090063154351345)\n",
      "E_z:\n",
      "0.40578469013230867\n",
      "BootstrapResult(confidence_interval=ConfidenceInterval(low=0.3981526546229576, high=0.4135644331119586), standard_error=0.003893926587779368)\n"
     ]
    }
   ],
   "source": [
    "print('E_x:')\n",
    "print(E_df['E_x'].mean())\n",
    "print(spstat.bootstrap((E_df['E_x'].to_numpy(),), np.mean, n_resamples= 9999))\n",
    "\n",
    "print('E_y:')\n",
    "print(E_df['E_y'].mean())\n",
    "print(spstat.bootstrap((E_df['E_y'].to_numpy(),), np.mean, n_resamples= 9999))\n",
    "\n",
    "print('E_z:')\n",
    "print(E_df['E_z'].mean())\n",
    "print(spstat.bootstrap((E_df['E_z'].to_numpy(),), np.mean, n_resamples= 9999))"
   ]
  },
  {
   "cell_type": "code",
   "execution_count": 9,
   "metadata": {},
   "outputs": [
    {
     "data": {
      "text/plain": [
       "3.2634965601752994"
      ]
     },
     "execution_count": 9,
     "metadata": {},
     "output_type": "execute_result"
    }
   ],
   "source": [
    "# Pack LPV DF\n",
    "\n",
    "headers = [\n",
    "    \"roll (m)\", \"yaw (m)\", \"pitch (m)\", \"freq (MHz)\", \n",
    "    'LPV'\n",
    "]\n",
    "\n",
    "# Read the file using the headers and consider multiple spaces as a delimiter\n",
    "file_path = \"LPV.txt\"\n",
    "lpv_df = pd.read_csv(dataDir + file_path, delim_whitespace=True, names=headers, skiprows=5)\n",
    "\n",
    "1/lpv_df['LPV'].mean()"
   ]
  },
  {
   "cell_type": "markdown",
   "metadata": {},
   "source": []
  },
  {
   "cell_type": "code",
   "execution_count": 10,
   "metadata": {},
   "outputs": [
    {
     "data": {
      "text/plain": [
       "BootstrapResult(confidence_interval=ConfidenceInterval(low=0.3018526151115846, high=0.31108642083799176), standard_error=0.0023453511620699606)"
      ]
     },
     "execution_count": 10,
     "metadata": {},
     "output_type": "execute_result"
    }
   ],
   "source": [
    "data    = lpv_df['LPV'].to_numpy()\n",
    "spstat.bootstrap((data,), np.mean, n_resamples= 9999)"
   ]
  },
  {
   "cell_type": "code",
   "execution_count": 36,
   "metadata": {},
   "outputs": [
    {
     "name": "stdout",
     "output_type": "stream",
     "text": [
      "Power from comsol (95% CL): 1.82-1.94 mW\n",
      "Power from Hill eq 45: 2.41 mW\n",
      "\n",
      "AF from comsol (95% CL): 3.31-3.21\n",
      "AF from P * 9.7/lam  (95% CL): 3.53\n"
     ]
    }
   ],
   "source": [
    "####Power and aperature####\n",
    "print(f'Power from comsol (95% CL): \\\n",
    "{np.round(0.30185**2/50 *1000, 2)}-{np.round(0.31109**2/50 *1000,2)} mW'\n",
    ")\n",
    "\n",
    "\n",
    "lam             = 2.99e8/62.7e6  \n",
    "Z_fs            = 376 # Z free space, Ohms\n",
    "m               = 1 # match\n",
    "e               = 1 # efficency\n",
    "p               = .5 #polarization \n",
    "theoryPower     = 1**2 * lam**2/(4*np.pi*Z_fs) * m * e * p\n",
    "print(f'Power from Hill eq 45: {np.round(theoryPower * 1000, 2)} mW')\n",
    "print()\n",
    "\n",
    "####Fields and AF####\n",
    "print(f'AF from comsol (95% CL): \\\n",
    "{np.round(1/0.30185, 2)}-{np.round(1/0.31109,2)}'\n",
    ")\n",
    "\n",
    "print(f'AF from P * 9.7/lam  (95% CL): \\\n",
    "{np.round(np.sqrt(3)* 9.73/lam, 2)}'\n",
    ")\n"
   ]
  },
  {
   "cell_type": "code",
   "execution_count": 37,
   "metadata": {},
   "outputs": [
    {
     "data": {
      "text/plain": [
       "0.9206798866855525"
      ]
     },
     "execution_count": 37,
     "metadata": {},
     "output_type": "execute_result"
    }
   ],
   "source": [
    "3.25/3.53 #af comsol/AF therory"
   ]
  },
  {
   "cell_type": "code",
   "execution_count": 35,
   "metadata": {},
   "outputs": [
    {
     "data": {
      "text/plain": [
       "0.7759336099585062"
      ]
     },
     "execution_count": 35,
     "metadata": {},
     "output_type": "execute_result"
    }
   ],
   "source": [
    "1.87/2.41 #power comsol/power theory\n"
   ]
  },
  {
   "cell_type": "code",
   "execution_count": null,
   "metadata": {},
   "outputs": [],
   "source": []
  }
 ],
 "metadata": {
  "kernelspec": {
   "display_name": "Python 3 (ipykernel)",
   "language": "python",
   "name": "python3"
  },
  "language_info": {
   "codemirror_mode": {
    "name": "ipython",
    "version": 3
   },
   "file_extension": ".py",
   "mimetype": "text/x-python",
   "name": "python",
   "nbconvert_exporter": "python",
   "pygments_lexer": "ipython3",
   "version": "3.9.5"
  },
  "orig_nbformat": 4,
  "vscode": {
   "interpreter": {
    "hash": "565170522d23a2521d7a780d65f3ba404858b6b2c2a1aa4cc4afa9e481b8c202"
   }
  }
 },
 "nbformat": 4,
 "nbformat_minor": 2
}
