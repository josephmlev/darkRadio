{
 "cells": [
  {
   "cell_type": "code",
   "execution_count": 11,
   "metadata": {},
   "outputs": [],
   "source": [
    "import numpy as np\n",
    "import pandas as pd\n",
    "import scipy.stats as spstat\n",
    "dataDir     = './data/'\n",
    "\n",
    "import pandas as pd\n",
    "#pack E field DF\n",
    "# Manually defined headers based on the sample you provided\n",
    "headers = [\n",
    "    \"roll (m)\", \"yaw (m)\", \"pitch (m)\", \"freq (MHz)\", \n",
    "    \"E_x\",\n",
    "    \"E_y\",\n",
    "    \"E_z\"\n",
    "]\n",
    "\n",
    "# Read the file using the headers and consider multiple spaces as a delimiter\n",
    "file_path = \"eField_9_13_23.txt\"\n",
    "E_df = pd.read_csv(dataDir + file_path, delim_whitespace=True, names=headers, skiprows=5)\n",
    "\n",
    "# Convert string representation of complex numbers to actual complex numbers\n",
    "def to_complex(value):\n",
    "    return complex(value.replace('i', 'j'))\n",
    "\n",
    "columns_to_convert = headers[4:]  # Last three columns based on your sample\n",
    "\n",
    "def to_complex(value):\n",
    "    if isinstance(value, str) and ('i' in value or '+' in value or '-' in value):\n",
    "        return complex(value.replace('i', 'j'))\n",
    "    return value\n",
    "\n",
    "\n",
    "# Convert strings to complex numbers\n",
    "for col in columns_to_convert:\n",
    "    E_df[col] = E_df[col].apply(to_complex)\n",
    "\n",
    "# Convert complex numbers to their magnitudes\n",
    "E_df[columns_to_convert] = E_df[columns_to_convert].applymap(abs)"
   ]
  },
  {
   "cell_type": "code",
   "execution_count": 12,
   "metadata": {},
   "outputs": [
    {
     "name": "stdout",
     "output_type": "stream",
     "text": [
      "E_x:\n",
      "0.4713488213416364\n",
      "BootstrapResult(confidence_interval=ConfidenceInterval(low=0.46371468546944483, high=0.4790468706379945), standard_error=0.003889622872834328)\n",
      "E_y:\n",
      "0.5395484396134266\n",
      "BootstrapResult(confidence_interval=ConfidenceInterval(low=0.5318066918274922, high=0.5475068170327724), standard_error=0.0040071829427707605)\n",
      "E_z:\n",
      "0.40578469013230867\n",
      "BootstrapResult(confidence_interval=ConfidenceInterval(low=0.3982465939086687, high=0.41336636805628457), standard_error=0.003870576728767893)\n"
     ]
    }
   ],
   "source": [
    "print('E_x:')\n",
    "print(E_df['E_x'].mean())\n",
    "print(spstat.bootstrap((E_df['E_x'].to_numpy(),), np.mean, n_resamples= 9999))\n",
    "\n",
    "print('E_y:')\n",
    "print(E_df['E_y'].mean())\n",
    "print(spstat.bootstrap((E_df['E_y'].to_numpy(),), np.mean, n_resamples= 9999))\n",
    "\n",
    "print('E_z:')\n",
    "print(E_df['E_z'].mean())\n",
    "print(spstat.bootstrap((E_df['E_z'].to_numpy(),), np.mean, n_resamples= 9999))"
   ]
  },
  {
   "cell_type": "code",
   "execution_count": 21,
   "metadata": {},
   "outputs": [
    {
     "data": {
      "text/plain": [
       "0.26696967211378525"
      ]
     },
     "execution_count": 21,
     "metadata": {},
     "output_type": "execute_result"
    }
   ],
   "source": [
    "# Pack LPV DF\n",
    "\n",
    "headers = [\n",
    "    \"roll (m)\", \"yaw (m)\", \"pitch (m)\", \n",
    "    'LPV'\n",
    "]\n",
    "\n",
    "# Read the file using the headers and consider multiple spaces as a delimiter\n",
    "file_path = \"abs_LPV_dipoleFreespace_9_15_23.txt\"\n",
    "lpv_df = pd.read_csv(dataDir + file_path, delim_whitespace=True, names=headers, skiprows=5)\n",
    "\n",
    "lpv_df.head()\n",
    "np.where(lpv_df['LPV'] > 1)\n",
    "lpv_df.drop(index=546, inplace=True)\n",
    "lpv_df['LPV'].mean()"
   ]
  },
  {
   "cell_type": "markdown",
   "metadata": {},
   "source": []
  },
  {
   "cell_type": "code",
   "execution_count": 22,
   "metadata": {},
   "outputs": [
    {
     "data": {
      "text/plain": [
       "BootstrapResult(confidence_interval=ConfidenceInterval(low=0.25710076120135966, high=0.27685698135907477), standard_error=0.005039894100719632)"
      ]
     },
     "execution_count": 22,
     "metadata": {},
     "output_type": "execute_result"
    }
   ],
   "source": [
    "data    = lpv_df['LPV'].to_numpy()\n",
    "spstat.bootstrap((data,), np.mean, n_resamples= 9999)"
   ]
  },
  {
   "cell_type": "code",
   "execution_count": 36,
   "metadata": {},
   "outputs": [
    {
     "name": "stdout",
     "output_type": "stream",
     "text": [
      "Power from comsol (95% CL): 1.82-1.94 mW\n",
      "Power from Hill eq 45: 2.41 mW\n",
      "\n",
      "AF from comsol (95% CL): 3.31-3.21\n",
      "AF from P * 9.7/lam  (95% CL): 3.53\n"
     ]
    }
   ],
   "source": [
    "####Power and aperature####\n",
    "print(f'Power from comsol (95% CL): \\\n",
    "{np.round(0.30185**2/50 *1000, 2)}-{np.round(0.31109**2/50 *1000,2)} mW'\n",
    ")\n",
    "\n",
    "\n",
    "lam             = 2.99e8/62.7e6  \n",
    "Z_fs            = 376 # Z free space, Ohms\n",
    "m               = 1 # match\n",
    "e               = 1 # efficency\n",
    "p               = .5 #polarization \n",
    "theoryPower     = 1**2 * lam**2/(4*np.pi*Z_fs) * m * e * p\n",
    "print(f'Power from Hill eq 45: {np.round(theoryPower * 1000, 2)} mW')\n",
    "print()\n",
    "\n",
    "####Fields and AF####\n",
    "print(f'AF from comsol (95% CL): \\\n",
    "{np.round(1/0.30185, 2)}-{np.round(1/0.31109,2)}'\n",
    ")\n",
    "\n",
    "print(f'AF from P * 9.7/lam  (95% CL): \\\n",
    "{np.round(np.sqrt(3)* 9.73/lam, 2)}'\n",
    ")\n"
   ]
  },
  {
   "cell_type": "code",
   "execution_count": 37,
   "metadata": {},
   "outputs": [
    {
     "data": {
      "text/plain": [
       "0.9206798866855525"
      ]
     },
     "execution_count": 37,
     "metadata": {},
     "output_type": "execute_result"
    }
   ],
   "source": [
    "3.25/3.53 #af comsol/AF therory"
   ]
  },
  {
   "cell_type": "code",
   "execution_count": 35,
   "metadata": {},
   "outputs": [
    {
     "data": {
      "text/plain": [
       "0.7759336099585062"
      ]
     },
     "execution_count": 35,
     "metadata": {},
     "output_type": "execute_result"
    }
   ],
   "source": [
    "1.87/2.41 #power comsol/power theory\n"
   ]
  },
  {
   "cell_type": "code",
   "execution_count": 8,
   "metadata": {},
   "outputs": [
    {
     "data": {
      "image/png": "[encoded data removed]",
      "text/plain": [
       "<Figure size 720x360 with 1 Axes>"
      ]
     },
     "metadata": {
      "needs_background": "light"
     },
     "output_type": "display_data"
    }
   ],
   "source": [
    "import matplotlib.pyplot as plt\n",
    "import numpy as np\n",
    "\n",
    "def scatter_plot_on_sphere(pitch, yaw):\n",
    "    \"\"\"\n",
    "    Scatter plot on 2D equirectangular projection.\n",
    "\n",
    "    Args:\n",
    "    - pitch (list or numpy array): List of pitch values in radians.\n",
    "    - yaw (list or numpy array): List of yaw values in radians.\n",
    "\n",
    "    \"\"\"\n",
    "    \n",
    "    plt.figure(figsize=(10, 5))\n",
    "    \n",
    "    # The scatter plot\n",
    "    plt.scatter(yaw, pitch, marker='o', c='red')\n",
    "    \n",
    "    # Setting the limits\n",
    "    #plt.xlim([-np.pi, np.pi])\n",
    "    plt.ylim([-np.pi/2, np.pi/2])\n",
    "    \n",
    "    # Labels and title\n",
    "    plt.xlabel('Yaw (Longitude)')\n",
    "    plt.ylabel('Pitch (Latitude)')\n",
    "    plt.title('2D Equirectangular Projection of Pitch and Yaw')\n",
    "    \n",
    "    plt.grid(True)\n",
    "    plt.show()\n",
    "\n",
    "# Example usage:\n",
    "pitch = np.random.uniform(-np.pi/2, np.pi/2, 1000)  # Random values between -pi/2 and pi/2\n",
    "yaw = np.random.uniform(0, 2*np.pi, 1000)  # Random values between -pi and pi\n",
    "\n",
    "scatter_plot_on_sphere(pitch, yaw)\n"
   ]
  },
  {
   "cell_type": "code",
   "execution_count": null,
   "metadata": {},
   "outputs": [],
   "source": []
  }
 ],
 "metadata": {
  "kernelspec": {
   "display_name": "Python 3 (ipykernel)",
   "language": "python",
   "name": "python3"
  },
  "orig_nbformat": 4,
  "vscode": {
   "interpreter": {
    "hash": "565170522d23a2521d7a780d65f3ba404858b6b2c2a1aa4cc4afa9e481b8c202"
   }
  }
 },
 "nbformat": 4,
 "nbformat_minor": 2
}
