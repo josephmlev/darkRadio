{
 "cells": [
  {
   "cell_type": "code",
   "execution_count": 4,
   "metadata": {},
   "outputs": [
    {
     "name": "stdout",
     "output_type": "stream",
     "text": [
      "x\n",
      "13.5,13.5,13.5,13.5,13.5,13.5,-31.5,-31.5,-31.5,-31.5,-31.5,-31.5,-66.5,-66.5,-66.5,-66.5,-66.5,-66.5\n",
      "y\n",
      "18.8,12.8,-8.2,35.8,-0.2,-12.2,17.8,25.8,6.8,22.8,8.8,2.8,-8.2,32.8,-1.2,-15.2,31.8,10.8\n",
      "z\n",
      "15.8,15.8,45.8,45.8,95.8,95.8,15.8,15.8,45.8,45.8,95.8,95.8,15.8,15.8,45.8,45.8,95.8,95.8\n",
      "alpha\n",
      "90.0,-40.0,90.0,45.0,45.0,90.0,90.0,-45.0,-22.5,90.0,22.5,45.0,22.5,90.0,-15.0,105.0,105.0,90.0\n",
      "beta\n",
      "125,0,90,45,0,0,0,-45,0,0,0,0,45,90,0,90,90,125\n",
      "gamma\n",
      "90.0,-60.0,90.0,45.0,45.0,90.0,90.0,-45.0,-22.5,90.0,22.5,45.0,22.5,90.0,-15.0,105.0,105.0,90.0\n"
     ]
    }
   ],
   "source": [
    "import numpy as np\n",
    "import pandas as pd\n",
    "\n",
    "data = [[-13.5, -18.8, -15.8, 90, 125, 90],\n",
    "        [-13.5, -12.8, -15.8, -40, 0, -60],\n",
    "        [-13.5, 8.2, -45.8, 90, 90, 90],\n",
    "        [-13.5, -35.8, -45.8, 45, 45, 45],\n",
    "        [-13.5, 0.2, -95.8, 45, 0, 45],\n",
    "        [-13.5, 12.2, -95.8, 90, 0, 90],\n",
    "        [31.5, -17.8, -15.8, 90, 0, 90],\n",
    "        [31.5, -25.8, -15.8, -45, -45, -45],\n",
    "        [31.5, -6.8, -45.8, -22.5, 0, -22.5],\n",
    "        [31.5, -22.8, -45.8, 90, 0, 90],\n",
    "        [31.5, -8.8, -95.8, 22.5, 0, 22.5],\n",
    "        [31.5, -2.8, -95.8, 45, 0, 45],\n",
    "        [66.5, 8.2, -15.8, 22.5, 45, 22.5],\n",
    "        [66.5, -32.8, -15.8, 90, 90, 90],\n",
    "        [66.5, 1.2, -45.8, -15, 0, -15],\n",
    "        [66.5, 15.2, -45.8, 105, 90, 105],\n",
    "        [66.5, -31.8, -95.8, 105, 90, 105],\n",
    "        [66.5, -10.8, -95.8, 90, 125, 90]]\n",
    "\n",
    "df = pd.DataFrame(data,columns=['x', 'y', 'z', 'alpha','beta','gamma'])\n",
    "\n",
    "x_list = (-1*df['x']).tolist()\n",
    "y_list = (-1*df['y']).tolist()\n",
    "z_list = (-1*df['z']).tolist()\n",
    "alpha_list = df['alpha'].tolist()\n",
    "beta_list = df['beta'].tolist()\n",
    "gamma_list = df['gamma'].tolist()\n",
    "\n",
    "x_str = ','.join(map(str,x_list))\n",
    "y_str = ','.join(map(str,y_list))\n",
    "z_str = ','.join(map(str,z_list))\n",
    "alpha_str = ','.join(map(str,alpha_list))\n",
    "beta_str = ','.join(map(str,beta_list))\n",
    "gamma_str = ','.join(map(str,gamma_list))\n",
    "\n",
    "\n",
    "print('x')\n",
    "print(x_str)\n",
    "print('y')\n",
    "print(y_str)\n",
    "print('z')\n",
    "print(z_str)\n",
    "print('alpha')\n",
    "print(alpha_str)\n",
    "print('beta')\n",
    "print(beta_str)\n",
    "print('gamma')\n",
    "print(gamma_str)"
   ]
  },
  {
   "cell_type": "code",
   "execution_count": null,
   "metadata": {},
   "outputs": [],
   "source": []
  }
 ],
 "metadata": {
  "kernelspec": {
   "display_name": "Python 3.9.5 ('base')",
   "language": "python",
   "name": "python3"
  },
  "language_info": {
   "codemirror_mode": {
    "name": "ipython",
    "version": 3
   },
   "file_extension": ".py",
   "mimetype": "text/x-python",
   "name": "python",
   "nbconvert_exporter": "python",
   "pygments_lexer": "ipython3",
   "version": "3.9.5"
  },
  "orig_nbformat": 4,
  "vscode": {
   "interpreter": {
    "hash": "565170522d23a2521d7a780d65f3ba404858b6b2c2a1aa4cc4afa9e481b8c202"
   }
  }
 },
 "nbformat": 4,
 "nbformat_minor": 2
}
