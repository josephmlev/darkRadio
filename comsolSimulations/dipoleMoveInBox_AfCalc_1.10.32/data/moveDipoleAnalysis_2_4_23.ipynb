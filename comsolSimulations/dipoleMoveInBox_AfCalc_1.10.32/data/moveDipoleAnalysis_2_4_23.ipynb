{
 "cells": [
  {
   "cell_type": "code",
   "execution_count": null,
   "metadata": {},
   "outputs": [],
   "source": [
    "import numpy as np\n",
    "import pandas as pd\n",
    "import matplotlib.pyplot as plt\n",
    "from scipy import signal\n",
    "\n",
    "directory = '18pos_250_400MHz_750freqpts_cons5.9e6_perm1000_realDimentions_nonAWE_180Ohm_E_1x_0y_0z_wallDrive/' #include trailing `/`\n",
    "hfDf = pd.read_pickle(directory+'dataDf.npy')\n",
    "print(hfDf.shape)\n",
    "hfDf.head()\n",
    "\n",
    "directory = './18pos_50_260MHz_827freqpts_500Q_cons5.9e6_perm1000_realDimentions_realPositions_nonAWE_180Ohm_E_1x_0y_0z_wallDrive_2_4_23/' #include trailing `/`\n",
    "lfDf = pd.read_pickle(directory+'dataDf.npy')\n",
    "print(lfDf.shape)\n",
    "lfDf.head()\n",
    "\n",
    "#combine DF\n",
    "result = pd.concat([hfDf, lfDf], ignore_index=True)\n",
    "print(result.shape)\n",
    "df = result.sort_values(by=['positionIdx', 'freq(MHz)'])\n"
   ]
  },
  {
   "cell_type": "code",
   "execution_count": null,
   "metadata": {},
   "outputs": [],
   "source": [
    "print(freqs_lf[805])"
   ]
  },
  {
   "cell_type": "code",
   "execution_count": null,
   "metadata": {},
   "outputs": [],
   "source": [
    "LPV_allPos     = df.groupby('freq(MHz)').mean()['LPV'].to_numpy()\n",
    "E_all_allPos   = df.groupby('freq(MHz)').mean()['Ex_all'].to_numpy()\n",
    "E_near_allPos  = df.groupby('freq(MHz)').mean()['Ex_near'].to_numpy()\n",
    "freqs          = df.groupby('freq(MHz)').mean().index.to_numpy()\n",
    "\n",
    "\n",
    "\n",
    "\n",
    "%matplotlib widget\n",
    "\n",
    "color = plt.rcParams['axes.prop_cycle'].by_key()['color']\n",
    "\n",
    "plt.close('all')\n",
    "plt.figure()\n",
    "plt.title('AF for various E_x types. All 18 antenna postions')\n",
    "plt.plot(freqs, 20*np.log10(E_all_allPos/LPV_allPos), label='E_all/V')\n",
    "#plt.plot(freqs, 20*np.log10(E_near_allPos/LPV_allPos), label='E_near/V')\n",
    "plt.plot(freqs, 20*np.log10(1/LPV_allPos), label='1/V')\n",
    "\n",
    "\n",
    "plt.xlabel('Freq (MHz)')\n",
    "plt.ylabel('20log(E/V)')\n",
    "plt.legend()\n",
    "\n",
    "print('average AF for E_all/V = ', 20*np.log10(E_all_allPos/LPV_allPos).mean())\n",
    "print('average AF for E_near/V = ', 20*np.log10(E_near_allPos/LPV_allPos).mean())\n",
    "print('average AF for 1/V = ', 20*np.log10(1/LPV_allPos).mean())"
   ]
  },
  {
   "cell_type": "code",
   "execution_count": null,
   "metadata": {},
   "outputs": [],
   "source": [
    "sumDf = pd.DataFrame()\n",
    "sumDf = df.loc[(df['positionIdx']==i)]\n",
    "for i in range(2):\n",
    "    sumDf = sumDf + df.loc[(df['positionIdx']==i)]\n",
    "sumDf"
   ]
  },
  {
   "cell_type": "code",
   "execution_count": null,
   "metadata": {},
   "outputs": [],
   "source": [
    "postionsList = [9]\n",
    "\n",
    "vSumDf = df.loc[df['positionIdx']==1].reset_index(drop=True)\n",
    "vSumDf.iloc[:,:] = 0\n",
    "for position in postionsList:\n",
    "    vSumDf  = vSumDf + df.loc[df['positionIdx']==position].iloc[:,2:].reset_index(drop=True)\n",
    "vSumDf/=len(postionsList)\n",
    "\n",
    "\n",
    "LPV_all     = df.groupby('freq(MHz)').mean()['LPV'].to_numpy()\n",
    "LPV_boot    = vSumDf['LPV'].to_numpy()\n",
    "\n",
    "eAllSumDf = df.loc[df['positionIdx']==1].reset_index(drop=True)\n",
    "eAllSumDf.iloc[:,:] = 0\n",
    "for position in postionsList:\n",
    "    eAllSumDf  = eAllSumDf + df.loc[df['positionIdx']==position].iloc[:,2:].reset_index(drop=True)\n",
    "eAllSumDf/=len(postionsList)\n",
    "\n",
    "E_all     = df.groupby('freq(MHz)').mean()['Ex_all'].to_numpy()\n",
    "E_all_boot    = vSumDf['Ex_all'].to_numpy()\n",
    "\n",
    "\n",
    "plt.figure()\n",
    "plt.title('1/V')\n",
    "plt.plot(freqs, 20*np.log10(1/LPV_all), label ='all 18 postions')\n",
    "plt.plot(freqs, 20*np.log10(1/LPV_boot), label = f'{len(postionsList)} positions', alpha = .5)\n",
    "plt.legend()\n",
    "\n",
    "if 1:\n",
    "    plt.figure()\n",
    "    plt.title('Difference')\n",
    "    plt.plot(freqs, 20*np.log10(1/LPV_boot)-20*np.log10(1/LPV_all))\n",
    "\n",
    "\n",
    "plt.figure()\n",
    "plt.title('E_all/V')\n",
    "plt.plot(freqs, 20*np.log10(E_all/LPV_all), label ='all 18 postions')\n",
    "plt.plot(freqs, 20*np.log10(E_all_boot/LPV_boot), label = f'{len(postionsList)} positions', alpha = .5)\n",
    "plt.legend()\n",
    "\n",
    "plt.figure()\n",
    "plt.title('E_all')\n",
    "plt.plot(freqs, 20*np.log10(E_all), label ='all 18 postions')\n",
    "plt.plot(freqs, 20*np.log10(E_all_boot), label = f'{len(postionsList)} positions', alpha = .5)\n",
    "plt.legend()\n",
    "\n",
    "print(LPV_all.std())\n",
    "print(LPV_boot.std())"
   ]
  },
  {
   "cell_type": "code",
   "execution_count": null,
   "metadata": {},
   "outputs": [],
   "source": [
    "#note that x^2+y^2+z^2 != comsol E_norm^2\n",
    "\n",
    "import matplotlib.pyplot as plt\n",
    "%matplotlib widget\n",
    "plt.close('all')\n",
    "plt.figure()\n",
    "plt.hist(( dfOut['Enorm_all'] -((dfOut['Ex_all']**2+dfOut['Ey_all']**2+dfOut['Ez_all']**2)**0.5 )).to_numpy(), log=True, bins = 1000);\n",
    "\n",
    "plt.figure()\n",
    "plt.hist(( dfOut['Enorm_near'] -((dfOut['Ex_near']**2+dfOut['Ey_near']**2+dfOut['Ez_near']**2)**0.5 )).to_numpy(), log=True, bins = 1000);\n",
    "\n"
   ]
  },
  {
   "cell_type": "code",
   "execution_count": null,
   "metadata": {},
   "outputs": [],
   "source": [
    "#check that nan mean gives same as first value. taken from E_all Ex from file\n",
    "#18pos_250_400MHz_750freqpts_cons5.9e6_perm1000_realDimentions_nonAWE_180Ohm_E_1x_0y_0z_wallDrive\n",
    "\n",
    "a =[float('NaN'),                     float('NaN'),                      15.061594171613452,      float('NaN') ,                   float('NaN')       ,             float('NaN') ,                    10.987955833422253      ,float('NaN'),                     float('NaN'),                     float('NaN'),                      2.402071739079808 ,      float('NaN')      ,              float('NaN')   ,                 float('NaN') ,                    17.531840610789363      ,float('NaN'),                     6.059617775723454    ,    6.097829178943222  ,      14.62387249377226       , 5.127934420273548      ,  3.9582918181254776    ,   8.216028057593306   ,     37.52904136210943  ,      17.393536574981063  ,     5.726554203215482   ,     18.999572962628427      , 15.356668069873258    ,   31.986858040073557     ,  1.8424256615682568     ,  8.7167632101463       ,   7.3527999514281985    ,   15.84118339660775   ,     6.441727281674445 ,       13.717055460403888       ,0.9461027454174641 ,      4.744513698654297       , 17.677079369442954       ,28.99802365141824       , 7.77210998352825      ,   6.222064305264859   ,     27.133605882005973    ,   11.115905093526512      , 22.511096594558257      , 5.8355181109054675     ,  13.904215794126994      , 11.056934809785641     ,  8.428648650491725      ,  1.6549639451922653      ,float('NaN')   ,                  15.436930383416772   ,   float('NaN')    ,                float('NaN')       ,             float('NaN')         ,            15.78751348039556    ,   float('NaN')        ,            float('NaN')         ,           float('NaN')   ,                  6.480328710269199,       float('NaN'),                     float('NaN'),                     float('NaN'),                      17.777891698875962,      float('NaN'),                     float('NaN')]                \n",
    "np.nanmean(np.asarray(a))"
   ]
  }
 ],
 "metadata": {
  "kernelspec": {
   "display_name": "Python 3.9.5 ('base')",
   "language": "python",
   "name": "python3"
  },
  "language_info": {
   "codemirror_mode": {
    "name": "ipython",
    "version": 3
   },
   "file_extension": ".py",
   "mimetype": "text/x-python",
   "name": "python",
   "nbconvert_exporter": "python",
   "pygments_lexer": "ipython3",
   "version": "3.9.5"
  },
  "orig_nbformat": 4,
  "vscode": {
   "interpreter": {
    "hash": "565170522d23a2521d7a780d65f3ba404858b6b2c2a1aa4cc4afa9e481b8c202"
   }
  }
 },
 "nbformat": 4,
 "nbformat_minor": 2
}
