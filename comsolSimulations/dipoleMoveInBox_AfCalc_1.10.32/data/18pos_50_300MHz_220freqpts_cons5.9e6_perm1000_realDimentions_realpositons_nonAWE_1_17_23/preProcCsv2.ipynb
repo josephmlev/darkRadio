{
 "cells": [
  {
   "cell_type": "code",
   "execution_count": null,
   "metadata": {},
   "outputs": [],
   "source": [
    "import pandas as pd\n",
    "import io\n",
    "import re\n",
    "import matplotlib.pyplot as plt\n",
    "\n",
    "directory = '../tempFolder'\n",
    "fileName  = 'allE_all_64pts.txt'\n",
    "with open(directory + '/' + fileName, 'r') as f:\n",
    "    data = f.readlines()\n",
    "\n",
    "data[4] = data[4].replace('%','')\n",
    "data[4] = data[4].replace(' (cm)','(cm)')\n",
    "data[4] = data[4].replace(' (MHz)','(MHz)')\n",
    "data[4] = data[4].replace('abs(emw.Ex) (V/m), Point: (', ' Ex_atPoint(')\n",
    "data[4] = data[4].replace('abs(emw.Ey) (V/m), Point: (', ' Ey_atPoint(')\n",
    "data[4] = data[4].replace('abs(emw.Ez) (V/m), Point: (', ' Ez_atPoint(')\n",
    "data[4] = data[4].replace('abs(emw.normE) (V/m), Point: (', ' Enorm_atPoint(')\n",
    "data[4] = data[4].replace(', ',',')\n",
    "\n",
    "#data[4] = data[4].replace('                    ',')')\n",
    "#data[4] = data[4].replace(') (',')(')\n",
    "#print(data[4])\n",
    "header = data[4].split()\n",
    "\n",
    "#print(data[4])\n",
    "\n",
    "\n",
    "\n",
    "# read the file and skip the first 5 rows\n",
    "df = pd.read_csv(directory + '/' + fileName, delim_whitespace=True, skiprows=5, header=None)\n",
    "df.columns = header\n",
    "\n",
    "\n",
    "\n",
    "# group the data by frequency and calculate the mean of each E_i, ignoring NANs\n",
    "df = df.groupby('freq(MHz)').mean()\n",
    "\n",
    "%matplotlib widget\n",
    "filter_colX = [col for col in df if col.startswith('Ex')]\n",
    "filter_colY = [col for col in df if col.startswith('Ey')]\n",
    "filter_colZ = [col for col in df if col.startswith('Ez')]\n",
    "df[filter_colX].mean(axis=1).plot(label='x')\n",
    "df[filter_colY].mean(axis=1).plot(label='y')\n",
    "df[filter_colZ].mean(axis=1).plot(label='z')\n",
    "plt.legend()\n",
    "\n",
    "# write the results to a new CSV file\n",
    "#df.to_csv('output2.csv')\n",
    "\n",
    "df.head()"
   ]
  },
  {
   "cell_type": "code",
   "execution_count": null,
   "metadata": {},
   "outputs": [],
   "source": [
    "df['filter_colX']"
   ]
  },
  {
   "cell_type": "code",
   "execution_count": null,
   "metadata": {},
   "outputs": [],
   "source": [
    "import numpy as np\n",
    "def makeDf(directory, nFreqs):\n",
    "        #read LPV\n",
    "        df = pd.read_csv(directory+'/LPV.txt',\n",
    "                skiprows=5,\n",
    "                header=None, \n",
    "                names=['X', 'Y', 'Z', 'Freq', 'LPV'],\n",
    "                delimiter=' ',\n",
    "                skipinitialspace=True)\n",
    "\n",
    "        E_near_x = np.loadtxt(directory+'/avgE_NearField.txt', skiprows=5, usecols=4)\n",
    "        E_near_y = np.loadtxt(directory+'/avgE_NearField.txt', skiprows=5, usecols=5)\n",
    "        E_near_z = np.loadtxt(directory+'/avgE_NearField.txt', skiprows=5, usecols=6)\n",
    "        E_near_norm = np.loadtxt(directory+'/avgE_NearField.txt', skiprows=5, usecols=7)\n",
    "\n",
    "        E_all_x = np.loadtxt(directory+'/avgE_all_64pts.txt', skiprows=5, usecols=4)\n",
    "        E_all_y = np.loadtxt(directory+'/avgE_all_64pts.txt', skiprows=5, usecols=5)\n",
    "        E_all_z = np.loadtxt(directory+'/avgE_all_64pts.txt', skiprows=5, usecols=6)\n",
    "        E_all_norm = np.loadtxt(directory+'/avgE_all_64pts.txt', skiprows=5, usecols=7)\n",
    "\n",
    "        nPoints = df.shape[0]\n",
    "        nAntPositions = nPoints//nFreqs\n",
    "        positions = [x for x in range(nAntPositions)]\n",
    "        posList = np.repeat(positions, nFreqs)\n",
    "        freqs = np.asarray(df['Freq'][0:nFreqs])\n",
    "\n",
    "        df['Position'] = posList\n",
    "#        cols = df.columns.tolist()\n",
    "#        cols = cols[-1:] + cols[:-1]\n",
    "#        df = df[cols]\n",
    "\n",
    "        df['E_near_X'] = E_near_x\n",
    "        df['E_near_Y'] = E_near_y\n",
    "        df['E_near_Z'] = E_near_z\n",
    "        df['E_near_Norm'] = E_near_norm\n",
    "        df['E_all_X'] = E_all_x\n",
    "        df['E_all_Y'] = E_all_y\n",
    "        df['E_all_Z'] = E_all_z\n",
    "        df['E_all_Norm'] = E_all_norm\n",
    "\n",
    "        xpos = np.asarray(df.groupby('Position').mean()['X'])\n",
    "        ypos = np.asarray(df.groupby('Position').mean()['Y'])\n",
    "        zpos = np.asarray(df.groupby('Position').mean()['Z'])\n",
    "\n",
    "\n",
    "        #set order of columns\n",
    "        cols = ['Position',\n",
    "                'Freq', \n",
    "                'LPV',\n",
    "                'E_near_Norm',\n",
    "                'E_all_Norm',\n",
    "                'E_near_X',\n",
    "                'E_near_Y',\n",
    "                'E_near_Z',\n",
    "                'E_all_X',\n",
    "                'E_all_Y',\n",
    "                'E_all_Z',\n",
    "                'X',\n",
    "                'Y',\n",
    "                'Z']\n",
    "        df = df[cols]\n",
    "\n",
    "        #Print info\n",
    "        print(directory)\n",
    "        print(nAntPositions, \" Antenna Positions :\")\n",
    "        print(np.asarray([positions,xpos, ypos, zpos, ]).T)\n",
    "        print('Freq (start stop number step) :', freqs[0], ',', freqs[-1],',', len(freqs),',', freqs[1]-freqs[0])\n",
    "        print('\\n')\n",
    "        return df, freqs, nAntPositions\n",
    "\n"
   ]
  },
  {
   "cell_type": "code",
   "execution_count": null,
   "metadata": {},
   "outputs": [],
   "source": [
    "df, freqs, nAntPositoins=makeDf('./', 220)"
   ]
  },
  {
   "cell_type": "code",
   "execution_count": null,
   "metadata": {},
   "outputs": [],
   "source": [
    "df"
   ]
  },
  {
   "cell_type": "markdown",
   "metadata": {},
   "source": []
  },
  {
   "cell_type": "code",
   "execution_count": null,
   "metadata": {},
   "outputs": [],
   "source": [
    "plt.close('all')\n",
    "(df.groupby('Freq').mean()['LPV'])"
   ]
  },
  {
   "cell_type": "code",
   "execution_count": null,
   "metadata": {},
   "outputs": [],
   "source": []
  }
 ],
 "metadata": {
  "kernelspec": {
   "display_name": "Python 3.9.5 ('base')",
   "language": "python",
   "name": "python3"
  },
  "language_info": {
   "codemirror_mode": {
    "name": "ipython",
    "version": 3
   },
   "file_extension": ".py",
   "mimetype": "text/x-python",
   "name": "python",
   "nbconvert_exporter": "python",
   "pygments_lexer": "ipython3",
   "version": "3.9.5"
  },
  "orig_nbformat": 4,
  "vscode": {
   "interpreter": {
    "hash": "565170522d23a2521d7a780d65f3ba404858b6b2c2a1aa4cc4afa9e481b8c202"
   }
  }
 },
 "nbformat": 4,
 "nbformat_minor": 2
}
