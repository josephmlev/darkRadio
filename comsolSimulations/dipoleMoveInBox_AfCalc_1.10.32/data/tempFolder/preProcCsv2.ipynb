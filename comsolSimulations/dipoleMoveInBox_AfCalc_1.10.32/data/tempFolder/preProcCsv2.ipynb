{
 "cells": [
  {
   "cell_type": "code",
   "execution_count": null,
   "metadata": {},
   "outputs": [],
   "source": [
    "import pandas as pd\n",
    "import io\n",
    "import re\n",
    "import matplotlib.pyplot as plt\n",
    "with open('allE_all_64pts.txt', 'r') as f:\n",
    "    data = f.readlines()\n",
    "\n",
    "data[4] = data[4].replace('%','')\n",
    "data[4] = data[4].replace(' (cm)','(cm)')\n",
    "data[4] = data[4].replace(' (MHz)','(MHz)')\n",
    "data[4] = data[4].replace('abs(emw.Ex) (V/m), Point: (', ' Ex_atPoint(')\n",
    "data[4] = data[4].replace('abs(emw.Ey) (V/m), Point: (', ' Ey_atPoint(')\n",
    "data[4] = data[4].replace('abs(emw.Ez) (V/m), Point: (', ' Ez_atPoint(')\n",
    "data[4] = data[4].replace('abs(emw.normE) (V/m), Point: (', ' Enorm_atPoint(')\n",
    "data[4] = data[4].replace(', ',',')\n",
    "\n",
    "#data[4] = data[4].replace('                    ',')')\n",
    "#data[4] = data[4].replace(') (',')(')\n",
    "#print(data[4])\n",
    "header = data[4].split()\n",
    "\n",
    "#print(data[4])\n",
    "\n",
    "'''\n",
    "pattern = r'(\\w+\\s*\\(?\\w*\\)?\\s*[,|:]?\\s*[^\\n]+?\\s*(?:Point:.*)?)'\n",
    "\n",
    "# Use the re.findall() function to extract the matches\n",
    "matches = re.findall(pattern, data[4])\n",
    "\n",
    "# Remove any unwanted characters\n",
    "matches = [match.strip().replace(':','') for match in matches]\n",
    "\n",
    "# Print the result\n",
    "#print(matches)\n",
    "'''\n",
    "'''\n",
    "data[4] = data[4].replace('% ','')\n",
    "data[4] = data[4].replace('                    ',')')\n",
    "data[4] = data[4].replace('(cm)','')\n",
    "data[4] = data[4].replace('(MHz)','')\n",
    "data[4] = data[4].replace(') (',')(')\n",
    "data[4] = data[4].replace(')abs',') ')\n",
    "data[4] = data[4].replace(', Point: ','')'''\n",
    "\n",
    "'''\n",
    "with open('allE_all_64pts.txt', 'w') as f:\n",
    "    for line in data:\n",
    "        f.write(line)'''\n",
    "\n",
    "# read the file and skip the first 5 rows\n",
    "df = pd.read_csv('allE_all_64pts.txt', delim_whitespace=True, skiprows=5, header=None)\n",
    "df.columns = header\n",
    "\n",
    "\n",
    "\n",
    "# group the data by frequency and calculate the mean of each E_i, ignoring NANs\n",
    "df = df.groupby('freq(MHz)').mean()\n",
    "\n",
    "%matplotlib widget\n",
    "filter_colX = [col for col in df if col.startswith('Ex')]\n",
    "filter_colY = [col for col in df if col.startswith('Ey')]\n",
    "filter_colZ = [col for col in df if col.startswith('Ez')]\n",
    "df[filter_colX].mean(axis=1).plot(label='x')\n",
    "df[filter_colY].mean(axis=1).plot(label='y')\n",
    "df[filter_colZ].mean(axis=1).plot(label='z')\n",
    "plt.legend()\n",
    "\n",
    "# write the results to a new CSV file\n",
    "#df.to_csv('output2.csv')\n",
    "\n",
    "df.head()"
   ]
  },
  {
   "cell_type": "code",
   "execution_count": null,
   "metadata": {},
   "outputs": [],
   "source": []
  },
  {
   "cell_type": "code",
   "execution_count": null,
   "metadata": {},
   "outputs": [],
   "source": []
  }
 ],
 "metadata": {
  "kernelspec": {
   "display_name": "Python 3.9.5 ('base')",
   "language": "python",
   "name": "python3"
  },
  "language_info": {
   "codemirror_mode": {
    "name": "ipython",
    "version": 3
   },
   "file_extension": ".py",
   "mimetype": "text/x-python",
   "name": "python",
   "nbconvert_exporter": "python",
   "pygments_lexer": "ipython3",
   "version": "3.9.5"
  },
  "orig_nbformat": 4,
  "vscode": {
   "interpreter": {
    "hash": "565170522d23a2521d7a780d65f3ba404858b6b2c2a1aa4cc4afa9e481b8c202"
   }
  }
 },
 "nbformat": 4,
 "nbformat_minor": 2
}
